{
 "cells": [
  {
   "cell_type": "code",
   "execution_count": 231,
   "id": "d822ff10-c1d8-4901-bb2a-c3bc373313b6",
   "metadata": {},
   "outputs": [
    {
     "name": "stdout",
     "output_type": "stream",
     "text": [
      "The autoreload extension is already loaded. To reload it, use:\n",
      "  %reload_ext autoreload\n"
     ]
    }
   ],
   "source": [
    "from Automata import Automata\n",
    "\n",
    "%load_ext autoreload\n",
    "%autoreload 2"
   ]
  },
  {
   "cell_type": "code",
   "execution_count": 232,
   "id": "13cd304a-0c82-4a4d-8f99-4d8c6524da44",
   "metadata": {},
   "outputs": [],
   "source": [
    "A = Automata('./ExampleScenario-1.json')"
   ]
  },
  {
   "cell_type": "code",
   "execution_count": 233,
   "id": "7b55eb25-6435-4ee4-ac45-43fc41dd16ec",
   "metadata": {},
   "outputs": [
    {
     "data": {
      "text/plain": [
       "array([[0, 0, 0, 0, 0, 0],\n",
       "       [0, 0, 0, 0, 0, 0],\n",
       "       [0, 1, 0, 0, 0, 3],\n",
       "       [0, 0, 0, 0, 0, 0],\n",
       "       [0, 0, 0, 0, 0, 0],\n",
       "       [0, 0, 0, 0, 0, 0]])"
      ]
     },
     "execution_count": 233,
     "metadata": {},
     "output_type": "execute_result"
    }
   ],
   "source": [
    "A.getState()"
   ]
  },
  {
   "cell_type": "code",
   "execution_count": 234,
   "id": "1f781602-e6f7-40f9-803a-1593ac386f8f",
   "metadata": {},
   "outputs": [
    {
     "name": "stdout",
     "output_type": "stream",
     "text": [
      "Simulation finished after 3 steps. All pedestrians achieved their targets.\n"
     ]
    },
    {
     "data": {
      "text/plain": [
       "array([[0, 0, 0, 0, 0, 0],\n",
       "       [0, 0, 0, 0, 0, 0],\n",
       "       [0, 0, 0, 0, 1, 3],\n",
       "       [0, 0, 0, 0, 0, 0],\n",
       "       [0, 0, 0, 0, 0, 0],\n",
       "       [0, 0, 0, 0, 0, 0]])"
      ]
     },
     "execution_count": 234,
     "metadata": {},
     "output_type": "execute_result"
    }
   ],
   "source": [
    "A.simulate(A.basicOperator, 10)\n",
    "A.getState()"
   ]
  },
  {
   "cell_type": "code",
   "execution_count": null,
   "id": "3b8a297f-049f-46d0-a7fb-9121f8432139",
   "metadata": {},
   "outputs": [],
   "source": []
  },
  {
   "cell_type": "code",
   "execution_count": 235,
   "id": "b9d97d74-f956-43bf-9011-1cfd037b6aab",
   "metadata": {},
   "outputs": [
    {
     "data": {
      "text/plain": [
       "{1: True}"
      ]
     },
     "execution_count": 235,
     "metadata": {},
     "output_type": "execute_result"
    }
   ],
   "source": [
    "A.getStatus()"
   ]
  },
  {
   "cell_type": "code",
   "execution_count": 236,
   "id": "30c34ede-a214-462e-91c4-87b6e122badf",
   "metadata": {},
   "outputs": [
    {
     "data": {
      "text/plain": [
       "{1: [(2, 1), (2, 2), (2, 3), (2, 4)]}"
      ]
     },
     "execution_count": 236,
     "metadata": {},
     "output_type": "execute_result"
    }
   ],
   "source": [
    "A.getPaths()"
   ]
  },
  {
   "cell_type": "code",
   "execution_count": 237,
   "id": "e71ad800-78bf-44e8-ac3e-71aae381894b",
   "metadata": {},
   "outputs": [
    {
     "data": {
      "text/plain": [
       "array([[0, 0, 0, 0, 0, 0],\n",
       "       [0, 0, 0, 0, 0, 0],\n",
       "       [0, 1, 1, 1, 1, 3],\n",
       "       [0, 0, 0, 0, 0, 0],\n",
       "       [0, 0, 0, 0, 0, 0],\n",
       "       [0, 0, 0, 0, 0, 0]])"
      ]
     },
     "execution_count": 237,
     "metadata": {},
     "output_type": "execute_result"
    }
   ],
   "source": [
    "A.getPathsOnAGrid()"
   ]
  },
  {
   "cell_type": "code",
   "execution_count": null,
   "id": "c88780db-929e-4ece-bc7a-bc0af7cde9d8",
   "metadata": {},
   "outputs": [],
   "source": []
  }
 ],
 "metadata": {
  "kernelspec": {
   "display_name": "Python 3",
   "language": "python",
   "name": "python3"
  },
  "language_info": {
   "codemirror_mode": {
    "name": "ipython",
    "version": 3
   },
   "file_extension": ".py",
   "mimetype": "text/x-python",
   "name": "python",
   "nbconvert_exporter": "python",
   "pygments_lexer": "ipython3",
   "version": "3.9.12"
  }
 },
 "nbformat": 4,
 "nbformat_minor": 5
}
