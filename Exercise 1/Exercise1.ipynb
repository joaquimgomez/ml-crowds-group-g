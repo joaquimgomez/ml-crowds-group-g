{
 "cells": [
  {
   "cell_type": "markdown",
   "id": "2e328133-32ef-4a62-8a91-19769827d8c1",
   "metadata": {
    "pycharm": {
     "name": "#%% md\n"
    }
   },
   "source": [
    "# Exercise 1"
   ]
  },
  {
   "cell_type": "code",
   "execution_count": null,
   "outputs": [],
   "source": [
    "from Automata import Automata\n",
    "from utils import visualize, plotTask5Test4\n",
    "\n",
    "import math\n",
    "import random\n",
    "\n",
    "import matplotlib.pyplot as plt\n",
    "import numpy as np\n",
    "\n",
    "%load_ext autoreload\n",
    "%autoreload 2"
   ],
   "metadata": {
    "collapsed": false,
    "pycharm": {
     "name": "#%%\n"
    }
   }
  },
  {
   "cell_type": "markdown",
   "source": [
    "## Task 1 - Setting up the modeling environment"
   ],
   "metadata": {
    "collapsed": false,
    "pycharm": {
     "name": "#%% md\n"
    }
   }
  },
  {
   "cell_type": "markdown",
   "source": [
    "Scenario to show that our implementation allows for different pedestrians and obstacles editing an easy JSON file (using as input for the automata the file path) or writing in a notebook a dictionary as follow: "
   ],
   "metadata": {
    "collapsed": false,
    "pycharm": {
     "name": "#%% md\n"
    }
   }
  },
  {
   "cell_type": "code",
   "execution_count": null,
   "outputs": [],
   "source": [
    "configTask1 = {\n",
    "    \"name\": \"Task1Scenario\",\n",
    "    \"dimensions\": {\n",
    "        \"width\": 5,\n",
    "        \"height\": 5\n",
    "    },\n",
    "    \"pedestrians\": [\n",
    "        [1, 0, 2]\n",
    "    ],\n",
    "    \"targets\": [\n",
    "        [[1], 4, 2]\n",
    "    ],\n",
    "    \"obstacles\": [\n",
    "        [2, 2], [2, 1], [2, 3]\n",
    "    ]\n",
    "}"
   ],
   "metadata": {
    "collapsed": false,
    "pycharm": {
     "name": "#%%\n"
    }
   }
  },
  {
   "cell_type": "code",
   "execution_count": null,
   "outputs": [],
   "source": [
    "task1Automata = Automata(configTask1)"
   ],
   "metadata": {
    "collapsed": false,
    "pycharm": {
     "name": "#%%\n"
    }
   }
  },
  {
   "cell_type": "markdown",
   "source": [
    "Let's take a look at the initial state:"
   ],
   "metadata": {
    "collapsed": false,
    "pycharm": {
     "name": "#%% md\n"
    }
   }
  },
  {
   "cell_type": "code",
   "execution_count": null,
   "outputs": [],
   "source": [
    "visualize(task1Automata.getState())"
   ],
   "metadata": {
    "collapsed": false,
    "pycharm": {
     "name": "#%%\n"
    }
   }
  },
  {
   "cell_type": "markdown",
   "source": [
    "Let's simulate for 10 time steps and let's take a look at the final state with the followed path:"
   ],
   "metadata": {
    "collapsed": false,
    "pycharm": {
     "name": "#%% md\n"
    }
   }
  },
  {
   "cell_type": "code",
   "execution_count": null,
   "outputs": [],
   "source": [
    "task1Automata.simulate(task1Automata.basicOperator, 10, avoidObstacles=True)"
   ],
   "metadata": {
    "collapsed": false,
    "pycharm": {
     "name": "#%%\n"
    }
   }
  },
  {
   "cell_type": "code",
   "execution_count": null,
   "outputs": [],
   "source": [
    "visualize(task1Automata.getStateWithPaths())"
   ],
   "metadata": {
    "collapsed": false,
    "pycharm": {
     "name": "#%%\n"
    }
   }
  },
  {
   "cell_type": "markdown",
   "source": [
    "## Task 2 - First step of a single pedestrian"
   ],
   "metadata": {
    "collapsed": false,
    "pycharm": {
     "name": "#%% md\n"
    }
   }
  },
  {
   "cell_type": "markdown",
   "source": [
    "Scenario:\n",
    "- 50 by 50 cells (2500 in total)\n",
    "- Single pedestrian at position (5, 25)\n",
    "- Target at (25, 25)"
   ],
   "metadata": {
    "collapsed": false,
    "pycharm": {
     "name": "#%% md\n"
    }
   }
  },
  {
   "cell_type": "code",
   "execution_count": null,
   "outputs": [],
   "source": [
    "configTask2 = {\n",
    "    \"name\": \"Task2Scenario\",\n",
    "    \"dimensions\": {\n",
    "        \"width\": 49,\n",
    "        \"height\": 49\n",
    "    },\n",
    "    \"pedestrians\": [\n",
    "        [1, 4, 24]\n",
    "    ],\n",
    "    \"targets\": [\n",
    "        [[1], 24, 24]\n",
    "    ],\n",
    "    \"obstacles\": []\n",
    "}"
   ],
   "metadata": {
    "collapsed": false,
    "pycharm": {
     "name": "#%%\n"
    }
   }
  },
  {
   "cell_type": "code",
   "execution_count": null,
   "outputs": [],
   "source": [
    "task2Automata = Automata(configTask2)"
   ],
   "metadata": {
    "collapsed": false,
    "pycharm": {
     "name": "#%%\n"
    }
   }
  },
  {
   "cell_type": "markdown",
   "source": [
    "Let's take a look at the initial state:"
   ],
   "metadata": {
    "collapsed": false,
    "pycharm": {
     "name": "#%% md\n"
    }
   }
  },
  {
   "cell_type": "code",
   "execution_count": null,
   "outputs": [],
   "source": [
    "visualize(task2Automata.getState())"
   ],
   "metadata": {
    "collapsed": false,
    "pycharm": {
     "name": "#%%\n"
    }
   }
  },
  {
   "cell_type": "markdown",
   "source": [
    "Let's simulate for 25 time steps and let's take a look at the final state with the followed path:"
   ],
   "metadata": {
    "collapsed": false,
    "pycharm": {
     "name": "#%% md\n"
    }
   }
  },
  {
   "cell_type": "code",
   "execution_count": null,
   "outputs": [],
   "source": [
    "task2Automata.simulate(task2Automata.basicOperator, 25)"
   ],
   "metadata": {
    "collapsed": false,
    "pycharm": {
     "name": "#%%\n"
    }
   }
  },
  {
   "cell_type": "code",
   "execution_count": null,
   "outputs": [],
   "source": [
    "visualize(task2Automata.getStateWithPaths())"
   ],
   "metadata": {
    "collapsed": false,
    "pycharm": {
     "name": "#%%\n"
    }
   }
  },
  {
   "cell_type": "markdown",
   "source": [
    "## Task 3 - Interaction of pedestrians"
   ],
   "metadata": {
    "collapsed": false,
    "pycharm": {
     "name": "#%% md\n"
    }
   }
  },
  {
   "cell_type": "markdown",
   "source": [
    "Scenario:\n",
    "- 50 by 50 cells (2500 in total)\n",
    "- 5 equidistant pedestrians on the same circle \n",
    "- 1 single target for all of them\n",
    "- 25 Steps"
   ],
   "metadata": {
    "collapsed": false,
    "pycharm": {
     "name": "#%% md\n"
    }
   }
  },
  {
   "cell_type": "code",
   "execution_count": null,
   "outputs": [],
   "source": [
    "# First we need to find 5 equidistant points on our circle with r = 20 and center (25,25)\n",
    "points = []\n",
    "no_points = 5\n",
    "for i in range(no_points):\n",
    "    x = int(25.0 + 20 * math.cos(2 * math.pi * i / no_points))\n",
    "    y = int(25.0 + 20 * math.sin(2 * math.pi * i / no_points))\n",
    "    points.append((x,y))\n",
    "\n",
    "# We have now our final points\n",
    "print(points)"
   ],
   "metadata": {
    "collapsed": false,
    "pycharm": {
     "name": "#%%\n"
    }
   }
  },
  {
   "cell_type": "code",
   "execution_count": null,
   "outputs": [],
   "source": [
    "configTask3 = {\n",
    "    \"name\": \"Task3Scenario\",\n",
    "    \"dimensions\": {\n",
    "        \"width\": 49,\n",
    "        \"height\": 49\n",
    "     },\n",
    "    \"pedestrians\": [\n",
    "        [1, 45, 25], [2, 31, 44], [3, 8, 36], [4, 8, 13], [5, 31, 5]\n",
    "     ],\n",
    "     \"targets\": [\n",
    "        [[1,2,3,4,5], 24, 24]\n",
    "     ],\n",
    "     \"obstacles\": []\n",
    "}"
   ],
   "metadata": {
    "collapsed": false,
    "pycharm": {
     "name": "#%%\n"
    }
   }
  },
  {
   "cell_type": "code",
   "execution_count": null,
   "outputs": [],
   "source": [
    "task3Automata = Automata(configTask3)"
   ],
   "metadata": {
    "collapsed": false,
    "pycharm": {
     "name": "#%%\n"
    }
   }
  },
  {
   "cell_type": "markdown",
   "source": [
    "Let's take a look at the initial state:"
   ],
   "metadata": {
    "collapsed": false,
    "pycharm": {
     "name": "#%% md\n"
    }
   }
  },
  {
   "cell_type": "code",
   "execution_count": null,
   "outputs": [],
   "source": [
    "visualize(task3Automata.getState())"
   ],
   "metadata": {
    "collapsed": false,
    "pycharm": {
     "name": "#%%\n"
    }
   }
  },
  {
   "cell_type": "markdown",
   "source": [
    "Let's simulate for 25 time steps **avoiding pedestrians** and let's take a look at the final state with the followed paths:"
   ],
   "metadata": {
    "collapsed": false,
    "pycharm": {
     "name": "#%% md\n"
    }
   }
  },
  {
   "cell_type": "code",
   "execution_count": null,
   "outputs": [],
   "source": [
    "task3Automata.simulate(task3Automata.basicOperator, 25, avoidPedestrians=True)"
   ],
   "metadata": {
    "collapsed": false,
    "pycharm": {
     "name": "#%%\n"
    }
   }
  },
  {
   "cell_type": "code",
   "execution_count": null,
   "outputs": [],
   "source": [
    "visualize(task3Automata.getStateWithPaths())"
   ],
   "metadata": {
    "collapsed": false,
    "pycharm": {
     "name": "#%%\n"
    }
   }
  },
  {
   "cell_type": "code",
   "execution_count": null,
   "outputs": [],
   "source": [
    "Let's take a look at the steps:"
   ],
   "metadata": {
    "collapsed": false,
    "pycharm": {
     "name": "#%%\n"
    }
   }
  },
  {
   "cell_type": "code",
   "execution_count": null,
   "outputs": [],
   "source": [
    "paths = task3Automata.getPaths()\n",
    "for path in paths:\n",
    "    print(len(paths[path]))"
   ],
   "metadata": {
    "collapsed": false,
    "pycharm": {
     "name": "#%%\n"
    }
   }
  },
  {
   "cell_type": "markdown",
   "source": [
    "Let's simulate for 25 time steps **without avoiding pedestrians** and let's take a look at the final state with the followed paths:"
   ],
   "metadata": {
    "collapsed": false,
    "pycharm": {
     "name": "#%% md\n"
    }
   }
  },
  {
   "cell_type": "code",
   "execution_count": null,
   "outputs": [],
   "source": [
    "task3Automata = Automata(configTask3)\n",
    "task3Automata.simulate(task3Automata.basicOperator, 25, avoidPedestrians=False)"
   ],
   "metadata": {
    "collapsed": false,
    "pycharm": {
     "name": "#%%\n"
    }
   }
  },
  {
   "cell_type": "code",
   "execution_count": null,
   "outputs": [],
   "source": [
    "visualize(task3Automata.getStateWithPaths())"
   ],
   "metadata": {
    "collapsed": false,
    "pycharm": {
     "name": "#%%\n"
    }
   }
  },
  {
   "cell_type": "markdown",
   "source": [
    "Let's take a look at the steps:"
   ],
   "metadata": {
    "collapsed": false,
    "pycharm": {
     "name": "#%% md\n"
    }
   }
  },
  {
   "cell_type": "code",
   "execution_count": null,
   "outputs": [],
   "source": [
    "paths = task3Automata.getPaths()\n",
    "for path in paths:\n",
    "    print(len(paths[path]))"
   ],
   "metadata": {
    "collapsed": false,
    "pycharm": {
     "name": "#%%\n"
    }
   }
  },
  {
   "cell_type": "markdown",
   "source": [
    "## Task 4 - Obstacle avoidance"
   ],
   "metadata": {
    "collapsed": false,
    "pycharm": {
     "name": "#%% md\n"
    }
   }
  },
  {
   "cell_type": "markdown",
   "source": [
    "### Scenario 4.1 - What happens in the scenario shown in figure (10) of [8] (bottleneck), if obstacle avoidance is not implemented?"
   ],
   "metadata": {
    "collapsed": false,
    "pycharm": {
     "name": "#%% md\n"
    }
   }
  },
  {
   "cell_type": "code",
   "execution_count": null,
   "outputs": [],
   "source": [
    "pedestrians = []\n",
    "id = 1\n",
    "\n",
    "# Create pedestrians\n",
    "for i in range (1, 10):\n",
    "    for j in range(2, 19):\n",
    "        pedestrians.append([id, i, j, 0])\n",
    "        id = id + 1\n",
    "        if id == 151:\n",
    "            break\n",
    "\n",
    "# Distribute velocities\n",
    "bunchSize = 25 # 150 pedestrians / 6 generations (20, 30, 40, 50, 60, 70)\n",
    "for i in range(0, 150):\n",
    "    if i < bunchSize: # 70s\n",
    "        pedestrians[i][3] = random.uniform(1.07, 1.07)\n",
    "    elif i < bunchSize*2: # 60s\n",
    "        pedestrians[i][3] = random.uniform(1.27, 1.27)\n",
    "    elif i < bunchSize*3: # 50s\n",
    "        pedestrians[i][3] = random.uniform(1.39, 1.43)\n",
    "    elif i < bunchSize*4: # 40s\n",
    "        pedestrians[i][3] = random.uniform(1.46, 1.5)\n",
    "    elif i < bunchSize*5: # 30s\n",
    "        pedestrians[i][3] = random.uniform(1.52, 1.56)\n",
    "    else: # 20s\n",
    "        pedestrians[i][3] = random.uniform(1.6, 1.64)\n",
    "        \n",
    "configTask41 = {\n",
    "    \"name\": \"Task41Scenario\",\n",
    "    \"dimensions\": {\n",
    "        \"width\": 71,\n",
    "        \"height\": 22\n",
    "    },\n",
    "    \"pedestrians\": pedestrians,\n",
    "    \"targets\": [\n",
    "        [[i for i in range(1, 150)], 65, 10],\n",
    "    ],\n",
    "    \"obstacles\": [[20, i] for i in range(0, 22) if not i == 10 and not i == 11] + \\\n",
    "    [[i, 9] for i in range(21, 30)] + \\\n",
    "    [[i, 12] for i in range(21, 30)] + \\\n",
    "    [[30, i] for i in range(0, 22) if not i == 10 and not i == 11] + \\\n",
    "    [[51, i] for i in range(0, 22) if not i == 10 and not i == 11],\n",
    "    \"step\": 0.5\n",
    "}\n",
    "\n",
    "task41Automata = Automata(configTask41)"
   ],
   "metadata": {
    "collapsed": false,
    "pycharm": {
     "name": "#%%\n"
    }
   }
  },
  {
   "cell_type": "code",
   "execution_count": null,
   "outputs": [],
   "source": [
    "task41Automata.simulateAndVisualizeWithTime(task41Automata.operatorWithCostFunctionRiMEA, 20, size = (15, 5), avoidObstacles=False)"
   ],
   "metadata": {
    "collapsed": false,
    "pycharm": {
     "name": "#%%\n"
    }
   }
  },
  {
   "cell_type": "markdown",
   "source": [
    "### Scenario 4.2 - What happens for the \"chicken test\" scenario, figure 5?"
   ],
   "metadata": {
    "collapsed": false,
    "pycharm": {
     "name": "#%% md\n"
    }
   }
  },
  {
   "cell_type": "markdown",
   "source": [
    "**Without obstacle avoidance** and for 20 steps:"
   ],
   "metadata": {
    "collapsed": false,
    "pycharm": {
     "name": "#%% md\n"
    }
   }
  },
  {
   "cell_type": "code",
   "execution_count": null,
   "outputs": [],
   "source": [
    "configTask42 = {\n",
    "    \"name\": \"Task42Scenario\",\n",
    "    \"dimensions\": {\n",
    "        \"width\": 9,\n",
    "        \"height\": 9\n",
    "    },\n",
    "    \"pedestrians\": [\n",
    "        [1, 0, 4]\n",
    "    ],\n",
    "    \"targets\": [\n",
    "        [[1, 2], 8, 4]\n",
    "    ],\n",
    "    \"obstacles\": [\n",
    "        [3, 1], [4, 1], [5, 1], [5, 3], [5, 4], [5, 5], [5, 7], [4, 7], [3, 7], [5, 2], [5, 6]\n",
    "    ]\n",
    "}\n",
    "task42Automata = Automata(configTask42)\n",
    "task42Automata.simulate(task42Automata.operatorWithCostFunction, 20, avoidObstacles = False)\n",
    "visualize(task42Automata.getStateWithPaths())"
   ],
   "metadata": {
    "collapsed": false,
    "pycharm": {
     "name": "#%%\n"
    }
   }
  },
  {
   "cell_type": "markdown",
   "source": [
    "**With obstacle avoidance** and for 20 steps:"
   ],
   "metadata": {
    "collapsed": false,
    "pycharm": {
     "name": "#%% md\n"
    }
   }
  },
  {
   "cell_type": "code",
   "execution_count": null,
   "outputs": [],
   "source": [
    "task42Automata = Automata(configTask42)\n",
    "task42Automata.simulate(task42Automata.operatorWithCostFunction, 20, avoidObstacles = True)\n",
    "visualize(task42Automata.getStateWithPaths())"
   ],
   "metadata": {
    "collapsed": false,
    "pycharm": {
     "name": "#%%\n"
    }
   }
  },
  {
   "cell_type": "markdown",
   "source": [
    "## Task 5 - Tests"
   ],
   "metadata": {
    "collapsed": false,
    "pycharm": {
     "name": "#%% md\n"
    }
   }
  },
  {
   "cell_type": "code",
   "execution_count": null,
   "outputs": [],
   "source": [
    "### TEST1: RiMEA scenario 1 (straight line, ignore premovement time)"
   ],
   "metadata": {
    "collapsed": false,
    "pycharm": {
     "name": "#%%\n"
    }
   }
  },
  {
   "cell_type": "code",
   "execution_count": null,
   "outputs": [],
   "source": [
    "rimea1 = {\n",
    "    \"name\": \"Task5TEST1\",\n",
    "    \"dimensions\": {\n",
    "        \"width\": 80,\n",
    "        \"height\": 4\n",
    "    },\n",
    "    \"pedestrians\": [\n",
    "        [1, 0, 1, 1.33]\n",
    "    ],\n",
    "    \"targets\": [\n",
    "        [[1], 79, 1]\n",
    "    ],\n",
    "    \"obstacles\": [],\n",
    "    \"step\": 0.5\n",
    "}\n",
    "\n",
    "rimea1Automata = Automata(rimea1)"
   ],
   "metadata": {
    "collapsed": false,
    "pycharm": {
     "name": "#%%\n"
    }
   }
  },
  {
   "cell_type": "code",
   "execution_count": null,
   "outputs": [],
   "source": [
    "rimea1Automata.simulateAndVisualizeWithTime(rimea1Automata.operatorWithCostFunctionRiMEA, 50, size = (25, 2))"
   ],
   "metadata": {
    "collapsed": false,
    "pycharm": {
     "name": "#%%\n"
    }
   }
  },
  {
   "cell_type": "code",
   "execution_count": null,
   "outputs": [],
   "source": [
    "### TEST2: RiMEA scenario 4 (fundamental diagram, be careful with periodic boundary conditions)"
   ],
   "metadata": {
    "collapsed": false,
    "pycharm": {
     "name": "#%%\n"
    }
   }
  },
  {
   "cell_type": "code",
   "execution_count": null,
   "outputs": [],
   "source": [
    "rimea2 = {\n",
    "    \"name\": \"Task5TEST2\",\n",
    "    \"dimensions\": {\n",
    "        \"width\": 24,\n",
    "        \"height\": 24\n",
    "    },\n",
    "    \"pedestrians\": [],\n",
    "    \"targets\": [\n",
    "        [], _, _]\n",
    "    ],\n",
    "    \"obstacles\": [],\n",
    "    \"step\": 0.5\n",
    "}\n",
    "\n",
    "rimea2Automata = Automata(rimea2)"
   ],
   "metadata": {
    "collapsed": false,
    "pycharm": {
     "name": "#%%\n"
    }
   }
  },
  {
   "cell_type": "code",
   "execution_count": null,
   "outputs": [],
   "source": [
    "rimea2Automata.simulateAndVisualizeWithTime(rimea2Automata.operatorWithCostFunctionRiMEA, 80, size = (15, 15))"
   ],
   "metadata": {
    "collapsed": false,
    "pycharm": {
     "name": "#%%\n"
    }
   }
  },
  {
   "cell_type": "markdown",
   "source": [
    "### TEST3: RiMEA scenario 6 (movement around a corner)"
   ],
   "metadata": {
    "collapsed": false,
    "pycharm": {
     "name": "#%% md\n"
    }
   }
  },
  {
   "cell_type": "code",
   "execution_count": null,
   "outputs": [],
   "source": [
    "ob = []\n",
    "for i in range(0, 20):\n",
    "    ob.append([i, 4])\n",
    "    \n",
    "for i in range(4, 24):\n",
    "    ob.append([19, i])    \n",
    "    \n",
    "ped = []\n",
    "id = 1\n",
    "for i in range(0, 10, 2):\n",
    "    ped.append([id, i, 0, 0.5])\n",
    "    id += 1\n",
    "    \n",
    "for i in range(0, 10, 2):\n",
    "    ped.append([id, i, 2, 0.5])\n",
    "    id += 1\n",
    "    \n",
    "    \n",
    "for i in range(1, 10, 2):\n",
    "    ped.append([id, i, 1, 0.5])\n",
    "    id += 1\n",
    "    \n",
    "for i in range(1, 11, 2):\n",
    "    ped.append([id, i, 3, 0.5])\n",
    "    id += 1\n",
    "    if (id == 21):\n",
    "        break\n",
    "    \n",
    "rimea3 = {\n",
    "    \"name\": \"Task5TEST3\",\n",
    "    \"dimensions\": {\n",
    "        \"width\": 24,\n",
    "        \"height\": 24\n",
    "    },\n",
    "    \"pedestrians\": ped,\n",
    "    \"targets\": [\n",
    "        [[i for i in range(1, 21)], 21, 23]\n",
    "    ],\n",
    "    \"obstacles\": ob,\n",
    "    \"step\": 0.5\n",
    "}\n",
    "\n",
    "rimea3Automata = Automata(rimea3)"
   ],
   "metadata": {
    "collapsed": false,
    "pycharm": {
     "name": "#%%\n"
    }
   }
  },
  {
   "cell_type": "code",
   "execution_count": null,
   "outputs": [],
   "source": [
    "rimea3Automata.simulateAndVisualizeWithTime(rimea3Automata.operatorWithCostFunctionRiMEA, 80, size = (15, 15))"
   ],
   "metadata": {
    "collapsed": false,
    "pycharm": {
     "name": "#%%\n"
    }
   }
  },
  {
   "cell_type": "markdown",
   "source": [
    "### TEST4: RiMEA scenario 7 (demographic parameters, visual comparison of  gure and results is suffcient. Simple and correct statistical test gives 5 bonus points if you argue why your choice of test is correct)."
   ],
   "metadata": {
    "collapsed": false,
    "pycharm": {
     "name": "#%% md\n"
    }
   }
  },
  {
   "cell_type": "code",
   "execution_count": null,
   "outputs": [],
   "source": [
    "ped = []\n",
    "\n",
    "twenties = []\n",
    "thirties = []\n",
    "forties = []\n",
    "fifties = []\n",
    "sixties = []\n",
    "seventies = []\n",
    "\n",
    "# randomly place 50 pedestrians on the grid\n",
    "ped = np.random.randint(16, size=(50, 2)).tolist()\n",
    "\n",
    "# add Ids to the pedestrians\n",
    "for i, p in enumerate(ped):\n",
    "    p[0] = p[0]\n",
    "    p[1] = p[1]\n",
    "    p.insert(0, i+1)\n",
    "\n",
    "# Finally, we add the speed according to their age\n",
    "for i, p in enumerate(ped):\n",
    "    if ((i+1) in list(range(1,10))):\n",
    "        # 20 years old\n",
    "        p.insert(4, random.uniform(1.6, 1.64))\n",
    "        twenties.append(p[0])\n",
    "    if ((i+1) in list(range(10,19))):\n",
    "        # 30 years old\n",
    "        p.insert(4, random.uniform(1.52, 1.56))\n",
    "        thirties.append(p[0])\n",
    "    if ((i+1) in list(range(19,28))):\n",
    "        # 40 years old\n",
    "        p.insert(4, random.uniform(1.46, 1.5))\n",
    "        forties.append(p[0])\n",
    "    if ((i+1) in list(range(28,37))):\n",
    "        # 50 years old\n",
    "        p.insert(4, random.uniform(1.39, 1.43))\n",
    "        fifties.append(p[0])\n",
    "    if ((i+1) in list(range(37,46))):\n",
    "        # 60 years old\n",
    "        p.insert(4, random.uniform(1.27, 1.27))\n",
    "        sixties.append(p[0])\n",
    "    if ((i+1) in list(range(46,51))):\n",
    "        # 70 years old\n",
    "        p.insert(4, random.uniform(1.07, 1.07))\n",
    "        seventies.append(p[0])\n",
    "        \n",
    "\n",
    "rimea1 = {\n",
    "    \"name\": \"Task1Scenario\",\n",
    "    \"dimensions\": {\n",
    "        \"width\": 24,\n",
    "        \"height\": 24 # 1 cell = 0.4 meter ===> 2 m wide = (0.4m/cell)/2m = \n",
    "    },\n",
    "    \"pedestrians\": ped,\n",
    "    \"targets\": [\n",
    "        [[i for i in range(1, 51)], 23, 12]\n",
    "    ],\n",
    "    \"obstacles\": [],\n",
    "    \n",
    "    \"step\": 0.5\n",
    "}\n",
    "rimea1Automata = Automata(rimea1)\n",
    "rimea1Automata.simulateAndVisualizeWithTime(rimea1Automata.operatorWithCostFunctionRiMEA, 80, size = (15, 15))"
   ],
   "metadata": {
    "collapsed": false,
    "pycharm": {
     "name": "#%%\n"
    }
   }
  },
  {
   "cell_type": "code",
   "execution_count": null,
   "outputs": [],
   "source": [
    "def find_average_walking_speed(ids):\n",
    "    avg = 0.0\n",
    "    for pedestrian in rimea1Automata.pedestrians:\n",
    "        if (pedestrian[0] in ids):\n",
    "            if (rimea1Automata.times[pedestrian[0]] > 0) :\n",
    "                avg = avg + ( 0.5 * (len(rimea1Automata.paths[pedestrian[0]]) - 1) / ( rimea1Automata.times[pedestrian[0]] ))\n",
    "\n",
    "    return (avg / len(ids))"
   ],
   "metadata": {
    "collapsed": false,
    "pycharm": {
     "name": "#%%\n"
    }
   }
  },
  {
   "cell_type": "markdown",
   "source": [
    "Let's calculate the average speeds"
   ],
   "metadata": {
    "collapsed": false,
    "pycharm": {
     "name": "#%% md\n"
    }
   }
  },
  {
   "cell_type": "code",
   "execution_count": null,
   "outputs": [],
   "source": [
    "speeds = []\n",
    "speeds.append(find_average_walking_speed(twenties))\n",
    "speeds.append(find_average_walking_speed(thirties))\n",
    "speeds.append(find_average_walking_speed(forties))\n",
    "speeds.append(find_average_walking_speed(fifties))\n",
    "speeds.append(find_average_walking_speed(sixties))\n",
    "speeds.append(find_average_walking_speed(seventies))\n",
    "speeds"
   ],
   "metadata": {
    "collapsed": false,
    "pycharm": {
     "name": "#%%\n"
    }
   }
  },
  {
   "cell_type": "code",
   "execution_count": null,
   "outputs": [],
   "source": [
    "# Now we want to calculate also each individual walking speed, based on their age\n",
    "overall_speeds = {\"20\": [], \"30\": [], \"40\": [], \"50\": [], \"60\": [], \"70\": []}\n",
    "\n",
    "age = 20\n",
    "for pedestrian in rimea1Automata.pedestrians:\n",
    "    time = 1\n",
    "    if (rimea1Automata.times[pedestrian[0]] > 0):\n",
    "        time = rimea1Automata.times[pedestrian[0]]\n",
    "\n",
    "    new_speed = [ 0.5 * len(rimea1Automata.paths[pedestrian[0]]) / ( time )]\n",
    "    \n",
    "    if (pedestrian[0] in twenties):\n",
    "            overall_speeds[\"20\"] = overall_speeds[\"20\"] + new_speed\n",
    "    if (pedestrian[0] in thirties):\n",
    "            overall_speeds[\"30\"] = overall_speeds[\"30\"] + new_speed\n",
    "    if (pedestrian[0] in forties):\n",
    "            overall_speeds[\"40\"] = overall_speeds[\"40\"] + new_speed\n",
    "    if (pedestrian[0] in fifties):\n",
    "            overall_speeds[\"50\"] = overall_speeds[\"50\"] + new_speed\n",
    "    if (pedestrian[0] in sixties):\n",
    "            overall_speeds[\"60\"] = overall_speeds[\"60\"] + new_speed\n",
    "    if (pedestrian[0] in seventies):\n",
    "            overall_speeds[\"70\"] = overall_speeds[\"70\"] + new_speed\n",
    "    \n",
    "    \n",
    "    \n"
   ],
   "metadata": {
    "collapsed": false,
    "pycharm": {
     "name": "#%%\n"
    }
   }
  },
  {
   "cell_type": "code",
   "execution_count": null,
   "outputs": [],
   "source": [
    "# Now lets plot the average speeds\n",
    "\n",
    "age = 20\n",
    "for speed in speeds:\n",
    "    plt.scatter(age, speed)\n",
    "    age += 10\n",
    "\n",
    "plt.xlabel(\"AGE\")\n",
    "plt.ylabel(\"WALKING SPEED\")\n",
    "plt.show()"
   ],
   "metadata": {
    "collapsed": false,
    "pycharm": {
     "name": "#%%\n"
    }
   }
  },
  {
   "cell_type": "code",
   "execution_count": null,
   "outputs": [],
   "source": [
    "# And finally, lets plot the individual walking speeds\n",
    "\n",
    "for age in overall_speeds:\n",
    "    for walking_speed in overall_speeds[age]:\n",
    "        plt.scatter(age, walking_speed)\n",
    "        \n",
    "plt.xlabel(\"AGE\")\n",
    "plt.ylabel(\"WALKING SPEED\")\n",
    "plt.show()"
   ],
   "metadata": {
    "collapsed": false,
    "pycharm": {
     "name": "#%%\n"
    }
   }
  },
  {
   "cell_type": "code",
   "execution_count": 44,
   "id": "88c695d4",
   "metadata": {},
   "outputs": [
    {
     "data": {
      "image/png": "[encoded data removed]",
      "text/plain": [
       "<Figure size 432x288 with 1 Axes>"
      ]
     },
     "metadata": {
      "needs_background": "light"
     },
     "output_type": "display_data"
    }
   ],
   "source": [
    "# Now lets plot the average speeds\n",
    "\n",
    "age = 20\n",
    "for speed in speeds:\n",
    "    plt.scatter(age, speed)\n",
    "    age += 10\n",
    "\n",
    "plt.xlabel(\"AGE\")\n",
    "plt.ylabel(\"WALKING SPEED\")\n",
    "plt.show()"
   ]
  },
  {
   "cell_type": "code",
   "execution_count": 45,
   "id": "11774a7c",
   "metadata": {},
   "outputs": [
    {
     "data": {
      "image/png": "[encoded data removed]",
      "text/plain": [
       "<Figure size 432x288 with 1 Axes>"
      ]
     },
     "metadata": {
      "needs_background": "light"
     },
     "output_type": "display_data"
    }
   ],
   "source": [
    "# And finally, lets plot the individual walking speeds\n",
    "\n",
    "for age in overall_speeds:\n",
    "    for walking_speed in overall_speeds[age]:\n",
    "        plt.scatter(age, walking_speed)\n",
    "        \n",
    "plt.xlabel(\"AGE\")\n",
    "plt.ylabel(\"WALKING SPEED\")\n",
    "plt.show()"
   ]
  }
 ],
 "metadata": {
  "kernelspec": {
   "display_name": "Python 3 (ipykernel)",
   "language": "python",
   "name": "python3"
  },
  "language_info": {
   "codemirror_mode": {
    "name": "ipython",
    "version": 3
   },
   "file_extension": ".py",
   "mimetype": "text/x-python",
   "name": "python",
   "nbconvert_exporter": "python",
   "pygments_lexer": "ipython3",
   "version": "3.9.7"
  }
 },
 "nbformat": 4,
 "nbformat_minor": 5
}