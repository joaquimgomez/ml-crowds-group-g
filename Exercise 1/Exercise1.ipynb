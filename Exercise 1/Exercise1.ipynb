{
 "cells": [
  {
   "cell_type": "markdown",
   "id": "2e328133-32ef-4a62-8a91-19769827d8c1",
   "metadata": {
    "pycharm": {
     "name": "#%% md\n"
    }
   },
   "source": [
    "# Exercise 1"
   ]
  },
  {
   "cell_type": "code",
   "execution_count": 1,
   "id": "e9a46adc-7675-47b9-8256-e51e8055523e",
   "metadata": {
    "pycharm": {
     "name": "#%%\n"
    }
   },
   "outputs": [],
   "source": [
    "from Automata import Automata\n",
    "from utils import visualize\n",
    "import math\n",
    "\n",
    "%load_ext autoreload\n",
    "%autoreload 2"
   ]
  },
  {
   "cell_type": "markdown",
   "id": "695340c3-d823-4111-be7e-95ecd6781994",
   "metadata": {
    "jp-MarkdownHeadingCollapsed": true,
    "pycharm": {
     "name": "#%% md\n"
    },
    "tags": []
   },
   "source": [
    "## Task 1 - Setting up the modeling environment (DONE)"
   ]
  },
  {
   "cell_type": "markdown",
   "id": "9ae39e4f-df96-4055-a9df-587579049004",
   "metadata": {
    "pycharm": {
     "name": "#%% md\n"
    }
   },
   "source": [
    "Scenario to show that our implementation allows for different pedestrians and obstacles editing an easy JSON file (using as input for the automata the file path) or writing in a notebook a dictionary as follow: "
   ]
  },
  {
   "cell_type": "code",
   "execution_count": null,
   "id": "53f5bd9a",
   "metadata": {
    "pycharm": {
     "name": "#%%\n"
    }
   },
   "outputs": [],
   "source": [
    "configTask1 = {\n",
    "    \"name\": \"Task1Scenario\",\n",
    "    \"dimensions\": {\n",
    "        \"width\": 5,\n",
    "        \"height\": 5\n",
    "    },\n",
    "    \"pedestrians\": [\n",
    "        [1, 0, 2]\n",
    "    ],\n",
    "    \"targets\": [\n",
    "        [[1], 4, 2]\n",
    "    ],\n",
    "    \"obstacles\": [\n",
    "        [2, 2], [2, 1], [2, 3]\n",
    "    ]\n",
    "}\n",
    "\n"
   ]
  },
  {
   "cell_type": "code",
   "execution_count": null,
   "id": "c91e381a",
   "metadata": {
    "pycharm": {
     "name": "#%%\n"
    }
   },
   "outputs": [],
   "source": [
    "task1Automata = Automata(configTask1)"
   ]
  },
  {
   "cell_type": "markdown",
   "id": "943cbeba",
   "metadata": {
    "pycharm": {
     "name": "#%% md\n"
    }
   },
   "source": [
    "Let's take a look at the initial state:"
   ]
  },
  {
   "cell_type": "code",
   "execution_count": null,
   "id": "0261775d",
   "metadata": {
    "pycharm": {
     "name": "#%%\n"
    }
   },
   "outputs": [],
   "source": [
    "visualize(task1Automata.getState())"
   ]
  },
  {
   "cell_type": "markdown",
   "id": "a0e2cc02",
   "metadata": {
    "pycharm": {
     "name": "#%% md\n"
    }
   },
   "source": [
    "Let's simulate for 10 time steps and let's take a look at the final state with the followed path:"
   ]
  },
  {
   "cell_type": "code",
   "execution_count": null,
   "id": "8b460103",
   "metadata": {
    "pycharm": {
     "name": "#%%\n"
    }
   },
   "outputs": [],
   "source": [
    "task1Automata.simulate(task1Automata.basicOperator, 10)"
   ]
  },
  {
   "cell_type": "code",
   "execution_count": null,
   "id": "19f06c47",
   "metadata": {
    "pycharm": {
     "name": "#%%\n"
    }
   },
   "outputs": [],
   "source": [
    "visualize(task1Automata.getStateWithPaths())"
   ]
  },
  {
   "cell_type": "markdown",
   "id": "e3e19b8d",
   "metadata": {
    "pycharm": {
     "name": "#%% md\n"
    }
   },
   "source": [
    "## Task 2 - First step of a single pedestrian (DONE)"
   ]
  },
  {
   "cell_type": "markdown",
   "id": "977779c9",
   "metadata": {
    "pycharm": {
     "name": "#%% md\n"
    }
   },
   "source": [
    "Scenario:\n",
    "- 50 by 50 cells (2500 in total)\n",
    "- Single pedestrian at position (5, 25)\n",
    "- Target at (25, 25)"
   ]
  },
  {
   "cell_type": "code",
   "execution_count": null,
   "id": "d9c7b2e8",
   "metadata": {
    "pycharm": {
     "name": "#%%\n"
    }
   },
   "outputs": [],
   "source": [
    "configTask2 = {\n",
    "    \"name\": \"Task2Scenario\",\n",
    "    \"dimensions\": {\n",
    "        \"width\": 49,\n",
    "        \"height\": 49\n",
    "    },\n",
    "    \"pedestrians\": [\n",
    "        [1, 4, 24]\n",
    "    ],\n",
    "    \"targets\": [\n",
    "        [[1], 24, 24]\n",
    "    ],\n",
    "    \"obstacles\": []\n",
    "}"
   ]
  },
  {
   "cell_type": "code",
   "execution_count": null,
   "id": "947fd831",
   "metadata": {
    "pycharm": {
     "name": "#%%\n"
    }
   },
   "outputs": [],
   "source": [
    "task2Automata = Automata(configTask2)"
   ]
  },
  {
   "cell_type": "markdown",
   "id": "289e3ed5",
   "metadata": {
    "pycharm": {
     "name": "#%% md\n"
    }
   },
   "source": [
    "Let's take a look at the initial state:"
   ]
  },
  {
   "cell_type": "code",
   "execution_count": null,
   "id": "30acde83",
   "metadata": {
    "pycharm": {
     "name": "#%%\n"
    }
   },
   "outputs": [],
   "source": [
    "visualize(task2Automata.getState())"
   ]
  },
  {
   "cell_type": "markdown",
   "id": "fb3c8cdb",
   "metadata": {
    "pycharm": {
     "name": "#%% md\n"
    }
   },
   "source": [
    "Let's simulate for 25 time steps and let's take a look at the final state with the followed path:"
   ]
  },
  {
   "cell_type": "code",
   "execution_count": null,
   "id": "02cfa0e7",
   "metadata": {
    "pycharm": {
     "name": "#%%\n"
    }
   },
   "outputs": [],
   "source": [
    "task2Automata.simulate(task2Automata.basicOperator, 25)"
   ]
  },
  {
   "cell_type": "code",
   "execution_count": null,
   "id": "767e3db3",
   "metadata": {
    "pycharm": {
     "name": "#%%\n"
    }
   },
   "outputs": [],
   "source": [
    "visualize(task2Automata.getStateWithPaths())"
   ]
  },
  {
   "cell_type": "markdown",
   "id": "39a38b5f",
   "metadata": {
    "pycharm": {
     "name": "#%% md\n"
    }
   },
   "source": [
    "## Task 3 - Interaction of pedestrians"
   ]
  },
  {
   "cell_type": "markdown",
   "id": "13ed2bcd",
   "metadata": {
    "pycharm": {
     "name": "#%% md\n"
    }
   },
   "source": [
    "Scenario:\n",
    "- 50 by 50 cells (2500 in total)\n",
    "- 5 equidistant pedestrians on the same circle \n",
    "- 1 single target for all of them\n",
    "- 25 Steps"
   ]
  },
  {
   "cell_type": "code",
   "execution_count": null,
   "id": "7520095e",
   "metadata": {
    "pycharm": {
     "name": "#%%\n"
    }
   },
   "outputs": [],
   "source": [
    "# First we need to find 5 equidistant points on our circle with r = 20 and center (25,25)\n",
    "\n",
    "points = []\n",
    "no_points = 5\n",
    "for i in range(no_points):\n",
    "    x = int(25.0 + 20 * math.cos(2 * math.pi * i / no_points))\n",
    "    y = int(25.0 + 20 * math.sin(2 * math.pi * i / no_points))\n",
    "    points.append((x,y))\n",
    "# We have now our final points\n",
    "print(points)"
   ]
  },
  {
   "cell_type": "code",
   "execution_count": null,
   "id": "1f0dfc4f",
   "metadata": {
    "pycharm": {
     "name": "#%%\n"
    }
   },
   "outputs": [],
   "source": [
    "configTask3 = {\n",
    "    \"name\": \"Task3Scenario\",\n",
    "    \"dimensions\": {\n",
    "        \"width\": 49,\n",
    "        \"height\": 49\n",
    "     },\n",
    "    \"pedestrians\": [\n",
    "        [1, 45, 25], [2, 31, 44], [3, 8, 36], [4, 8, 13], [5, 31, 5]\n",
    "     ],\n",
    "     \"targets\": [\n",
    "        [[1,2,3,4,5], 24, 24]\n",
    "     ],\n",
    "     \"obstacles\": []\n",
    "}"
   ]
  },
  {
   "cell_type": "code",
   "execution_count": null,
   "id": "86a8c725",
   "metadata": {
    "pycharm": {
     "name": "#%%\n"
    }
   },
   "outputs": [],
   "source": [
    "task3Automata = Automata(configTask3)"
   ]
  },
  {
   "cell_type": "markdown",
   "id": "45502c5d",
   "metadata": {
    "pycharm": {
     "name": "#%% md\n"
    }
   },
   "source": [
    "Let's take a look at the initial state:"
   ]
  },
  {
   "cell_type": "code",
   "execution_count": null,
   "id": "3bef72d8",
   "metadata": {
    "pycharm": {
     "name": "#%%\n"
    }
   },
   "outputs": [],
   "source": [
    "visualize(task3Automata.getState())"
   ]
  },
  {
   "cell_type": "markdown",
   "id": "8aacd22d",
   "metadata": {
    "pycharm": {
     "name": "#%% md\n"
    }
   },
   "source": [
    "Let's simulate for 25 time steps and let's take a look at the final state with the followed paths:"
   ]
  },
  {
   "cell_type": "code",
   "execution_count": null,
   "id": "c3d4b6e6",
   "metadata": {
    "pycharm": {
     "name": "#%%\n"
    }
   },
   "outputs": [],
   "source": [
    "task3Automata.simulate(task3Automata.basicOperator, 25)"
   ]
  },
  {
   "cell_type": "code",
   "execution_count": null,
   "id": "9daa5595",
   "metadata": {
    "pycharm": {
     "name": "#%%\n"
    }
   },
   "outputs": [],
   "source": [
    "visualize(task3Automata.getStateWithPaths())"
   ]
  },
  {
   "cell_type": "code",
   "execution_count": null,
   "id": "ddc8f31f",
   "metadata": {
    "pycharm": {
     "name": "#%%\n"
    }
   },
   "outputs": [],
   "source": [
    "Let's take a look at the steps:"
   ]
  },
  {
   "cell_type": "code",
   "execution_count": null,
   "id": "96a433a3",
   "metadata": {
    "pycharm": {
     "name": "#%%\n"
    }
   },
   "outputs": [],
   "source": [
    "paths = task3Automata.getPaths()\n",
    "for path in paths:\n",
    "    print(len(paths[path]))"
   ]
  },
  {
   "cell_type": "markdown",
   "id": "387f18c9",
   "metadata": {
    "pycharm": {
     "name": "#%% md\n"
    }
   },
   "source": [
    "## Task 4 - Obstacle avoidance"
   ]
  },
  {
   "cell_type": "markdown",
   "id": "926756b3",
   "metadata": {
    "pycharm": {
     "name": "#%% md\n"
    }
   },
   "source": [
    "### Scenario 4.1 - What happens in the scenario shown in figure (10) of [8] (bottleneck), if obstacle avoidance is not implemented?"
   ]
  },
  {
   "cell_type": "code",
   "execution_count": 4,
   "id": "41fa4240",
   "metadata": {
    "pycharm": {
     "name": "#%%\n"
    }
   },
   "outputs": [
    {
     "name": "stdout",
     "output_type": "stream",
     "text": [
      "The autoreload extension is already loaded. To reload it, use:\n",
      "  %reload_ext autoreload\n"
     ]
    },
    {
     "data": {
      "image/png": "[encoded data removed]",
      "text/plain": [
       "<Figure size 864x864 with 1 Axes>"
      ]
     },
     "metadata": {
      "needs_background": "light"
     },
     "output_type": "display_data"
    }
   ],
   "source": [
    "from Automata import Automata\n",
    "from utils import visualize\n",
    "import math\n",
    "\n",
    "%load_ext autoreload\n",
    "%autoreload 2\n",
    "\n",
    "\n",
    "import sys\n",
    "import numpy as np\n",
    "np.set_printoptions(threshold=sys.maxsize)\n",
    "\n",
    "# pedestrians = []\n",
    "# id = 0\n",
    "# for i in range (1, 10):\n",
    "#     for j in range(2, 19):\n",
    "#         pedestrians.append([id, i, j])\n",
    "#         id = id + 1\n",
    "#         if id == 150:\n",
    "#             break\n",
    "pedestrians = []\n",
    "id = 1\n",
    "for i in range (1, 10):\n",
    "    for j in range(2, 19):\n",
    "        pedestrians.append([id, i, j])\n",
    "        id = id + 1\n",
    "        if id == 5:\n",
    "            break\n",
    "    if id == 5:\n",
    "        break\n",
    "            \n",
    "configTask41 = {\n",
    "    \"name\": \"Task1Scenario\",\n",
    "    \"dimensions\": {\n",
    "        \"width\": 71,\n",
    "        \"height\": 22\n",
    "    },\n",
    "    \"pedestrians\": pedestrians,\n",
    "    \"targets\": [\n",
    "        [[i for i in range(1, 6)], 65, 10],\n",
    "    ],\n",
    "    \"obstacles\": [[20, i] for i in range(0, 22) if not i == 10 and not i == 11] + \\\n",
    "    [[i, 9] for i in range(21, 30)] + \\\n",
    "    [[i, 12] for i in range(21, 30)] + \\\n",
    "    [[30, i] for i in range(0, 22) if not i == 10 and not i == 11] + \\\n",
    "    [[51, i] for i in range(0, 22) if not i == 10 and not i == 11]\n",
    "    \n",
    "}\n",
    "#print(configTask41)\n",
    "task41Automata = Automata(configTask41)\n",
    "visualize(task41Automata.getState())"
   ]
  },
  {
   "cell_type": "code",
   "execution_count": 5,
   "id": "c8b69b66",
   "metadata": {
    "pycharm": {
     "name": "#%%\n"
    }
   },
   "outputs": [
    {
     "data": {
      "text/plain": [
       "array([[69.14, 68.14, 67.14, 66.14, 65.14, 64.14, 63.14, 62.14, 61.14,\n",
       "        60.14, 59.14, 58.73, 58.31, 57.9 , 57.49, 57.07, 56.66, 56.24,\n",
       "        55.83, 55.41,   inf,   inf,   inf,   inf,   inf,   inf,   inf,\n",
       "          inf,   inf,   inf,   inf, 38.14, 37.14, 36.14, 35.14, 34.14,\n",
       "        33.14, 32.14, 31.14, 30.14, 29.14, 28.14, 27.73, 27.31, 26.9 ,\n",
       "        26.49, 26.07, 25.66, 25.24, 24.83, 24.41,   inf, 17.14, 16.14,\n",
       "        15.14, 14.14, 13.73, 13.31, 12.9 , 12.49, 12.07, 11.66, 11.24,\n",
       "        10.83, 10.41, 10.  , 10.41, 10.83, 11.24, 11.66, 12.07],\n",
       "       [68.73, 67.73, 66.73, 65.73, 64.73, 63.73, 62.73, 61.73, 60.73,\n",
       "        59.73, 58.73, 57.73, 57.31, 56.9 , 56.49, 56.07, 55.66, 55.24,\n",
       "        54.83, 54.41,   inf,   inf,   inf,   inf,   inf,   inf,   inf,\n",
       "          inf,   inf,   inf,   inf, 37.73, 36.73, 35.73, 34.73, 33.73,\n",
       "        32.73, 31.73, 30.73, 29.73, 28.73, 27.73, 26.73, 26.31, 25.9 ,\n",
       "        25.49, 25.07, 24.66, 24.24, 23.83, 23.41,   inf, 16.73, 15.73,\n",
       "        14.73, 13.73, 12.73, 12.31, 11.9 , 11.49, 11.07, 10.66, 10.24,\n",
       "         9.83,  9.41,  9.  ,  9.41,  9.83, 10.24, 10.66, 11.07],\n",
       "       [69.14,   inf, 66.31, 65.31, 64.31, 63.31, 62.31, 61.31, 60.31,\n",
       "        59.31, 58.31, 57.31, 56.31, 55.9 , 55.49, 55.07, 54.66, 54.24,\n",
       "        53.83, 53.41,   inf,   inf,   inf,   inf,   inf,   inf,   inf,\n",
       "          inf,   inf,   inf,   inf, 37.31, 36.31, 35.31, 34.31, 33.31,\n",
       "        32.31, 31.31, 30.31, 29.31, 28.31, 27.31, 26.31, 25.31, 24.9 ,\n",
       "        24.49, 24.07, 23.66, 23.24, 22.83, 22.41,   inf, 16.31, 15.31,\n",
       "        14.31, 13.31, 12.31, 11.31, 10.9 , 10.49, 10.07,  9.66,  9.24,\n",
       "         8.83,  8.41,  8.  ,  8.41,  8.83,  9.24,  9.66, 10.07],\n",
       "       [69.07,   inf, 65.9 , 64.9 , 63.9 , 62.9 , 61.9 , 60.9 , 59.9 ,\n",
       "        58.9 , 57.9 , 56.9 , 55.9 , 54.9 , 54.49, 54.07, 53.66, 53.24,\n",
       "        52.83, 52.41,   inf,   inf,   inf,   inf,   inf,   inf,   inf,\n",
       "          inf,   inf,   inf,   inf, 36.9 , 35.9 , 34.9 , 33.9 , 32.9 ,\n",
       "        31.9 , 30.9 , 29.9 , 28.9 , 27.9 , 26.9 , 25.9 , 24.9 , 23.9 ,\n",
       "        23.49, 23.07, 22.66, 22.24, 21.83, 21.41,   inf, 15.9 , 14.9 ,\n",
       "        13.9 , 12.9 , 11.9 , 10.9 ,  9.9 ,  9.49,  9.07,  8.66,  8.24,\n",
       "         7.83,  7.41,  7.  ,  7.41,  7.83,  8.24,  8.66,  9.07],\n",
       "       [68.07,   inf, 65.49, 64.49, 63.49, 62.49, 61.49, 60.49, 59.49,\n",
       "        58.49, 57.49, 56.49, 55.49, 54.49, 53.49, 53.07, 52.66, 52.24,\n",
       "        51.83, 51.41,   inf,   inf,   inf,   inf,   inf,   inf,   inf,\n",
       "          inf,   inf,   inf,   inf, 36.49, 35.49, 34.49, 33.49, 32.49,\n",
       "        31.49, 30.49, 29.49, 28.49, 27.49, 26.49, 25.49, 24.49, 23.49,\n",
       "        22.49, 22.07, 21.66, 21.24, 20.83, 20.41,   inf, 15.49, 14.49,\n",
       "        13.49, 12.49, 11.49, 10.49,  9.49,  8.49,  8.07,  7.66,  7.24,\n",
       "         6.83,  6.41,  6.  ,  6.41,  6.83,  7.24,  7.66,  8.07],\n",
       "       [67.07,   inf, 65.07, 64.07, 63.07, 62.07, 61.07, 60.07, 59.07,\n",
       "        58.07, 57.07, 56.07, 55.07, 54.07, 53.07, 52.07, 51.66, 51.24,\n",
       "        50.83, 50.41,   inf,   inf,   inf,   inf,   inf,   inf,   inf,\n",
       "          inf,   inf,   inf,   inf, 36.07, 35.07, 34.07, 33.07, 32.07,\n",
       "        31.07, 30.07, 29.07, 28.07, 27.07, 26.07, 25.07, 24.07, 23.07,\n",
       "        22.07, 21.07, 20.66, 20.24, 19.83, 19.41,   inf, 15.07, 14.07,\n",
       "        13.07, 12.07, 11.07, 10.07,  9.07,  8.07,  7.07,  6.66,  6.24,\n",
       "         5.83,  5.41,  5.  ,  5.41,  5.83,  6.24,  6.66,  7.07],\n",
       "       [66.66, 65.66, 64.66, 63.66, 62.66, 61.66, 60.66, 59.66, 58.66,\n",
       "        57.66, 56.66, 55.66, 54.66, 53.66, 52.66, 51.66, 50.66, 50.24,\n",
       "        49.83, 49.41,   inf,   inf,   inf,   inf,   inf,   inf,   inf,\n",
       "          inf,   inf,   inf,   inf, 35.66, 34.66, 33.66, 32.66, 31.66,\n",
       "        30.66, 29.66, 28.66, 27.66, 26.66, 25.66, 24.66, 23.66, 22.66,\n",
       "        21.66, 20.66, 19.66, 19.24, 18.83, 18.41,   inf, 14.66, 13.66,\n",
       "        12.66, 11.66, 10.66,  9.66,  8.66,  7.66,  6.66,  5.66,  5.24,\n",
       "         4.83,  4.41,  4.  ,  4.41,  4.83,  5.24,  5.66,  6.66],\n",
       "       [66.24, 65.24, 64.24, 63.24, 62.24, 61.24, 60.24, 59.24, 58.24,\n",
       "        57.24, 56.24, 55.24, 54.24, 53.24, 52.24, 51.24, 50.24, 49.24,\n",
       "        48.83, 48.41,   inf,   inf,   inf,   inf,   inf,   inf,   inf,\n",
       "          inf,   inf,   inf,   inf, 35.24, 34.24, 33.24, 32.24, 31.24,\n",
       "        30.24, 29.24, 28.24, 27.24, 26.24, 25.24, 24.24, 23.24, 22.24,\n",
       "        21.24, 20.24, 19.24, 18.24, 17.83, 17.41,   inf, 14.24, 13.24,\n",
       "        12.24, 11.24, 10.24,  9.24,  8.24,  7.24,  6.24,  5.24,  4.24,\n",
       "         3.83,  3.41,  3.  ,  3.41,  3.83,  4.24,  5.24,  6.24],\n",
       "       [65.83, 64.83, 63.83, 62.83, 61.83, 60.83, 59.83, 58.83, 57.83,\n",
       "        56.83, 55.83, 54.83, 53.83, 52.83, 51.83, 50.83, 49.83, 48.83,\n",
       "        47.83, 47.41,   inf,   inf,   inf,   inf,   inf,   inf,   inf,\n",
       "          inf,   inf,   inf,   inf, 34.83, 33.83, 32.83, 31.83, 30.83,\n",
       "        29.83, 28.83, 27.83, 26.83, 25.83, 24.83, 23.83, 22.83, 21.83,\n",
       "        20.83, 19.83, 18.83, 17.83, 16.83, 16.41,   inf, 13.83, 12.83,\n",
       "        11.83, 10.83,  9.83,  8.83,  7.83,  6.83,  5.83,  4.83,  3.83,\n",
       "         2.83,  2.41,  2.  ,  2.41,  2.83,  3.83,  4.83,  5.83],\n",
       "       [65.41, 64.41, 63.41, 62.41, 61.41, 60.41, 59.41, 58.41, 57.41,\n",
       "        56.41, 55.41, 54.41, 53.41, 52.41, 51.41, 50.41, 49.41, 48.41,\n",
       "        47.41, 46.41,   inf,   inf,   inf,   inf,   inf,   inf,   inf,\n",
       "          inf,   inf,   inf,   inf, 34.41, 33.41, 32.41, 31.41, 30.41,\n",
       "        29.41, 28.41, 27.41, 26.41, 25.41, 24.41, 23.41, 22.41, 21.41,\n",
       "        20.41, 19.41, 18.41, 17.41, 16.41, 15.41,   inf, 13.41, 12.41,\n",
       "        11.41, 10.41,  9.41,  8.41,  7.41,  6.41,  5.41,  4.41,  3.41,\n",
       "         2.41,  1.41,  1.  ,  1.41,  2.41,  3.41,  4.41,  5.41],\n",
       "       [65.  , 64.  , 63.  , 62.  , 61.  , 60.  , 59.  , 58.  , 57.  ,\n",
       "        56.  , 55.  , 54.  , 53.  , 52.  , 51.  , 50.  , 49.  , 48.  ,\n",
       "        47.  , 46.  , 45.  , 44.  , 43.  , 42.  , 41.  , 40.  , 39.  ,\n",
       "        38.  , 37.  , 36.  , 35.  , 34.  , 33.  , 32.  , 31.  , 30.  ,\n",
       "        29.  , 28.  , 27.  , 26.  , 25.  , 24.  , 23.  , 22.  , 21.  ,\n",
       "        20.  , 19.  , 18.  , 17.  , 16.  , 15.  , 14.  , 13.  , 12.  ,\n",
       "        11.  , 10.  ,  9.  ,  8.  ,  7.  ,  6.  ,  5.  ,  4.  ,  3.  ,\n",
       "         2.  ,  1.  ,  0.  ,  1.  ,  2.  ,  3.  ,  4.  ,  5.  ],\n",
       "       [65.41, 64.41, 63.41, 62.41, 61.41, 60.41, 59.41, 58.41, 57.41,\n",
       "        56.41, 55.41, 54.41, 53.41, 52.41, 51.41, 50.41, 49.41, 48.41,\n",
       "        47.41, 46.41, 45.41, 44.41, 43.41, 42.41, 41.41, 40.41, 39.41,\n",
       "        38.41, 37.41, 36.41, 35.41, 34.41, 33.41, 32.41, 31.41, 30.41,\n",
       "        29.41, 28.41, 27.41, 26.41, 25.41, 24.41, 23.41, 22.41, 21.41,\n",
       "        20.41, 19.41, 18.41, 17.41, 16.41, 15.41, 14.41, 13.41, 12.41,\n",
       "        11.41, 10.41,  9.41,  8.41,  7.41,  6.41,  5.41,  4.41,  3.41,\n",
       "         2.41,  1.41,  1.  ,  1.41,  2.41,  3.41,  4.41,  5.41],\n",
       "       [65.83, 64.83, 63.83, 62.83, 61.83, 60.83, 59.83, 58.83, 57.83,\n",
       "        56.83, 55.83, 54.83, 53.83, 52.83, 51.83, 50.83, 49.83, 48.83,\n",
       "        47.83, 46.83,   inf,   inf,   inf,   inf,   inf,   inf,   inf,\n",
       "          inf,   inf,   inf,   inf, 34.83, 33.83, 32.83, 31.83, 30.83,\n",
       "        29.83, 28.83, 27.83, 26.83, 25.83, 24.83, 23.83, 22.83, 21.83,\n",
       "        20.83, 19.83, 18.83, 17.83, 16.83, 15.83,   inf, 13.83, 12.83,\n",
       "        11.83, 10.83,  9.83,  8.83,  7.83,  6.83,  5.83,  4.83,  3.83,\n",
       "         2.83,  2.41,  2.  ,  2.41,  2.83,  3.83,  4.83,  5.83],\n",
       "       [66.24, 65.24, 64.24, 63.24, 62.24, 61.24, 60.24, 59.24, 58.24,\n",
       "        57.24, 56.24, 55.24, 54.24, 53.24, 52.24, 51.24, 50.24, 49.24,\n",
       "        48.24, 47.83,   inf,   inf,   inf,   inf,   inf,   inf,   inf,\n",
       "          inf,   inf,   inf,   inf, 35.24, 34.24, 33.24, 32.24, 31.24,\n",
       "        30.24, 29.24, 28.24, 27.24, 26.24, 25.24, 24.24, 23.24, 22.24,\n",
       "        21.24, 20.24, 19.24, 18.24, 17.24, 16.83,   inf, 14.24, 13.24,\n",
       "        12.24, 11.24, 10.24,  9.24,  8.24,  7.24,  6.24,  5.24,  4.24,\n",
       "         3.83,  3.41,  3.  ,  3.41,  3.83,  4.24,  5.24,  6.24],\n",
       "       [66.66, 65.66, 64.66, 63.66, 62.66, 61.66, 60.66, 59.66, 58.66,\n",
       "        57.66, 56.66, 55.66, 54.66, 53.66, 52.66, 51.66, 50.66, 49.66,\n",
       "        49.24, 48.83,   inf,   inf,   inf,   inf,   inf,   inf,   inf,\n",
       "          inf,   inf,   inf,   inf, 35.66, 34.66, 33.66, 32.66, 31.66,\n",
       "        30.66, 29.66, 28.66, 27.66, 26.66, 25.66, 24.66, 23.66, 22.66,\n",
       "        21.66, 20.66, 19.66, 18.66, 18.24, 17.83,   inf, 14.66, 13.66,\n",
       "        12.66, 11.66, 10.66,  9.66,  8.66,  7.66,  6.66,  5.66,  5.24,\n",
       "         4.83,  4.41,  4.  ,  4.41,  4.83,  5.24,  5.66,  6.66],\n",
       "       [67.07, 66.07, 65.07, 64.07, 63.07, 62.07, 61.07, 60.07, 59.07,\n",
       "        58.07, 57.07, 56.07, 55.07, 54.07, 53.07, 52.07, 51.07, 50.66,\n",
       "        50.24, 49.83,   inf,   inf,   inf,   inf,   inf,   inf,   inf,\n",
       "          inf,   inf,   inf,   inf, 36.07, 35.07, 34.07, 33.07, 32.07,\n",
       "        31.07, 30.07, 29.07, 28.07, 27.07, 26.07, 25.07, 24.07, 23.07,\n",
       "        22.07, 21.07, 20.07, 19.66, 19.24, 18.83,   inf, 15.07, 14.07,\n",
       "        13.07, 12.07, 11.07, 10.07,  9.07,  8.07,  7.07,  6.66,  6.24,\n",
       "         5.83,  5.41,  5.  ,  5.41,  5.83,  6.24,  6.66,  7.07],\n",
       "       [67.49, 66.49, 65.49, 64.49, 63.49, 62.49, 61.49, 60.49, 59.49,\n",
       "        58.49, 57.49, 56.49, 55.49, 54.49, 53.49, 52.49, 52.07, 51.66,\n",
       "        51.24, 50.83,   inf,   inf,   inf,   inf,   inf,   inf,   inf,\n",
       "          inf,   inf,   inf,   inf, 36.49, 35.49, 34.49, 33.49, 32.49,\n",
       "        31.49, 30.49, 29.49, 28.49, 27.49, 26.49, 25.49, 24.49, 23.49,\n",
       "        22.49, 21.49, 21.07, 20.66, 20.24, 19.83,   inf, 15.49, 14.49,\n",
       "        13.49, 12.49, 11.49, 10.49,  9.49,  8.49,  8.07,  7.66,  7.24,\n",
       "         6.83,  6.41,  6.  ,  6.41,  6.83,  7.24,  7.66,  8.07],\n",
       "       [67.9 , 66.9 , 65.9 , 64.9 , 63.9 , 62.9 , 61.9 , 60.9 , 59.9 ,\n",
       "        58.9 , 57.9 , 56.9 , 55.9 , 54.9 , 53.9 , 53.49, 53.07, 52.66,\n",
       "        52.24, 51.83,   inf,   inf,   inf,   inf,   inf,   inf,   inf,\n",
       "          inf,   inf,   inf,   inf, 36.9 , 35.9 , 34.9 , 33.9 , 32.9 ,\n",
       "        31.9 , 30.9 , 29.9 , 28.9 , 27.9 , 26.9 , 25.9 , 24.9 , 23.9 ,\n",
       "        22.9 , 22.49, 22.07, 21.66, 21.24, 20.83,   inf, 15.9 , 14.9 ,\n",
       "        13.9 , 12.9 , 11.9 , 10.9 ,  9.9 ,  9.49,  9.07,  8.66,  8.24,\n",
       "         7.83,  7.41,  7.  ,  7.41,  7.83,  8.24,  8.66,  9.07],\n",
       "       [68.31, 67.31, 66.31, 65.31, 64.31, 63.31, 62.31, 61.31, 60.31,\n",
       "        59.31, 58.31, 57.31, 56.31, 55.31, 54.9 , 54.49, 54.07, 53.66,\n",
       "        53.24, 52.83,   inf,   inf,   inf,   inf,   inf,   inf,   inf,\n",
       "          inf,   inf,   inf,   inf, 37.31, 36.31, 35.31, 34.31, 33.31,\n",
       "        32.31, 31.31, 30.31, 29.31, 28.31, 27.31, 26.31, 25.31, 24.31,\n",
       "        23.9 , 23.49, 23.07, 22.66, 22.24, 21.83,   inf, 16.31, 15.31,\n",
       "        14.31, 13.31, 12.31, 11.31, 10.9 , 10.49, 10.07,  9.66,  9.24,\n",
       "         8.83,  8.41,  8.  ,  8.41,  8.83,  9.24,  9.66, 10.07],\n",
       "       [68.73, 67.73, 66.73, 65.73, 64.73, 63.73, 62.73, 61.73, 60.73,\n",
       "        59.73, 58.73, 57.73, 56.73, 56.31, 55.9 , 55.49, 55.07, 54.66,\n",
       "        54.24, 53.83,   inf,   inf,   inf,   inf,   inf,   inf,   inf,\n",
       "          inf,   inf,   inf,   inf, 37.73, 36.73, 35.73, 34.73, 33.73,\n",
       "        32.73, 31.73, 30.73, 29.73, 28.73, 27.73, 26.73, 25.73, 25.31,\n",
       "        24.9 , 24.49, 24.07, 23.66, 23.24, 22.83,   inf, 16.73, 15.73,\n",
       "        14.73, 13.73, 12.73, 12.31, 11.9 , 11.49, 11.07, 10.66, 10.24,\n",
       "         9.83,  9.41,  9.  ,  9.41,  9.83, 10.24, 10.66, 11.07],\n",
       "       [69.14, 68.14, 67.14, 66.14, 65.14, 64.14, 63.14, 62.14, 61.14,\n",
       "        60.14, 59.14, 58.14, 57.73, 57.31, 56.9 , 56.49, 56.07, 55.66,\n",
       "        55.24, 54.83,   inf,   inf,   inf,   inf,   inf,   inf,   inf,\n",
       "          inf,   inf,   inf,   inf, 38.14, 37.14, 36.14, 35.14, 34.14,\n",
       "        33.14, 32.14, 31.14, 30.14, 29.14, 28.14, 27.14, 26.73, 26.31,\n",
       "        25.9 , 25.49, 25.07, 24.66, 24.24, 23.83,   inf, 17.14, 16.14,\n",
       "        15.14, 14.14, 13.73, 13.31, 12.9 , 12.49, 12.07, 11.66, 11.24,\n",
       "        10.83, 10.41, 10.  , 10.41, 10.83, 11.24, 11.66, 12.07],\n",
       "       [69.56, 68.56, 67.56, 66.56, 65.56, 64.56, 63.56, 62.56, 61.56,\n",
       "        60.56, 59.56, 59.14, 58.73, 58.31, 57.9 , 57.49, 57.07, 56.66,\n",
       "        56.24, 55.83,   inf,   inf,   inf,   inf,   inf,   inf,   inf,\n",
       "          inf,   inf,   inf,   inf, 38.56, 37.56, 36.56, 35.56, 34.56,\n",
       "        33.56, 32.56, 31.56, 30.56, 29.56, 28.56, 28.14, 27.73, 27.31,\n",
       "        26.9 , 26.49, 26.07, 25.66, 25.24, 24.83,   inf, 17.56, 16.56,\n",
       "        15.56, 15.14, 14.73, 14.31, 13.9 , 13.49, 13.07, 12.66, 12.24,\n",
       "        11.83, 11.41, 11.  , 11.41, 11.83, 12.24, 12.66, 13.07]])"
      ]
     },
     "execution_count": 5,
     "metadata": {},
     "output_type": "execute_result"
    }
   ],
   "source": [
    "#task41Automata.simulate(task41Automata.operatorWithCostFunction, 10, avoidObstacles = False)\n",
    "np.around(task41Automata.dijkstra((65, 10), avoidObstacles = True, avoidPedestrians = True), decimals=2)"
   ]
  },
  {
   "cell_type": "code",
   "execution_count": 6,
   "id": "51ec3bfe",
   "metadata": {
    "pycharm": {
     "name": "#%%\n"
    }
   },
   "outputs": [],
   "source": [
    "task41Automata = Automata(configTask41)\n",
    "task41Automata.simulate(task41Automata.operatorWithCostFunction, 60, avoidObstacles = True, avoidPedestrians = True)"
   ]
  },
  {
   "cell_type": "code",
   "execution_count": 10,
   "id": "080adbf1",
   "metadata": {
    "pycharm": {
     "name": "#%%\n"
    }
   },
   "outputs": [
    {
     "data": {
      "image/png": "[encoded data removed]",
      "text/plain": [
       "<Figure size 864x864 with 1 Axes>"
      ]
     },
     "metadata": {
      "needs_background": "light"
     },
     "output_type": "display_data"
    }
   ],
   "source": [
    "\n",
    "\n",
    "visualize(task41Automata.getStateWithPaths())\n",
    "#task41Automata.getPaths()"
   ]
  },
  {
   "cell_type": "markdown",
   "id": "147b5e8a",
   "metadata": {
    "pycharm": {
     "name": "#%% md\n"
    }
   },
   "source": [
    "### Scenario 4.2 - What happens for the \"chicken test\" scenario, figure 5?"
   ]
  },
  {
   "cell_type": "markdown",
   "id": "27fbd636",
   "metadata": {
    "pycharm": {
     "name": "#%% md\n"
    }
   },
   "source": [
    "Without obstacle avoidance and for 20 steps:"
   ]
  },
  {
   "cell_type": "code",
   "execution_count": 44,
   "id": "b78e98c7",
   "metadata": {
    "pycharm": {
     "name": "#%%\n"
    },
    "scrolled": false
   },
   "outputs": [
    {
     "data": {
      "image/png": "[encoded data removed]",
      "text/plain": [
       "<Figure size 864x864 with 1 Axes>"
      ]
     },
     "metadata": {
      "needs_background": "light"
     },
     "output_type": "display_data"
    }
   ],
   "source": [
    "configTask42 = {\n",
    "    \"name\": \"Task1Scenario\",\n",
    "    \"dimensions\": {\n",
    "        \"width\": 9,\n",
    "        \"height\": 9\n",
    "    },\n",
    "    \"pedestrians\": [\n",
    "        [1, 0, 4]\n",
    "    ],\n",
    "    \"targets\": [\n",
    "        [[1, 2], 8, 4]\n",
    "    ],\n",
    "    \"obstacles\": [\n",
    "        [3, 1], [4, 1], [5, 1], [5, 3], [5, 4], [5, 5], [5, 7], [4, 7], [3, 7], [5, 2], [5, 6]\n",
    "    ]\n",
    "}\n",
    "task42Automata = Automata(configTask42)\n",
    "task42Automata.simulate(task42Automata.operatorWithCostFunction, 20, avoidObstacles = False)\n",
    "visualize(task42Automata.getStateWithPaths())"
   ]
  },
  {
   "cell_type": "markdown",
   "id": "e469ff19",
   "metadata": {
    "pycharm": {
     "name": "#%% md\n"
    }
   },
   "source": [
    "With obstacle avoidance and for 20 steps:"
   ]
  },
  {
   "cell_type": "code",
   "execution_count": 45,
   "id": "0d6d9031",
   "metadata": {
    "pycharm": {
     "name": "#%%\n"
    }
   },
   "outputs": [
    {
     "name": "stdout",
     "output_type": "stream",
     "text": [
      "Simulation finished after 10 steps. All pedestrians achieved their targets.\n"
     ]
    },
    {
     "data": {
      "image/png": "[encoded data removed]",
      "text/plain": [
       "<Figure size 864x864 with 1 Axes>"
      ]
     },
     "metadata": {
      "needs_background": "light"
     },
     "output_type": "display_data"
    }
   ],
   "source": [
    "task42Automata = Automata(configTask42)\n",
    "task42Automata.simulate(task42Automata.operatorWithCostFunction, 20, avoidObstacles = True)\n",
    "visualize(task42Automata.getStateWithPaths())"
   ]
  },
  {
   "cell_type": "markdown",
   "id": "9e89f5a2",
   "metadata": {
    "pycharm": {
     "name": "#%% md\n"
    }
   },
   "source": [
    "## Task 5 - Tests"
   ]
  },
  {
   "cell_type": "markdown",
   "id": "898ce90b",
   "metadata": {
    "pycharm": {
     "name": "#%%\n"
    }
   },
   "source": [
    "### TEST1: RiMEA scenario 1 (straight line, ignore premovement time)"
   ]
  },
  {
   "cell_type": "markdown",
   "id": "12732576",
   "metadata": {},
   "source": [
    "Scenario:\n",
    "- 1 cell = 0.4m x 0.4m"
   ]
  },
  {
   "cell_type": "code",
   "execution_count": 1,
   "id": "d316d440",
   "metadata": {
    "pycharm": {
     "name": "#%%\n"
    }
   },
   "outputs": [],
   "source": [
    "from Automata import Automata\n",
    "from utils import visualize\n",
    "import math\n",
    "\n",
    "%load_ext autoreload\n",
    "%autoreload 2\n",
    "\n",
    "rimea1 = {\n",
    "    \"name\": \"Task1Scenario\",\n",
    "    \"dimensions\": {\n",
    "        \"width\": 80,\n",
    "        \"height\": 4 # 1 cell = 0.4 meter ===> 2 m wide = (0.4m/cell)/2m = \n",
    "    },\n",
    "    \"pedestrians\": [\n",
    "        [1, 0, 1, 1.33]\n",
    "    ],\n",
    "    \"targets\": [\n",
    "        [[1], 79, 1]\n",
    "    ],\n",
    "    \"obstacles\": [\n",
    "        \n",
    "    ],\n",
    "    \n",
    "    \"step\": 0.5\n",
    "}\n",
    "rimea1Automata = Automata(rimea1)\n",
    "\n",
    "#rimea1Automata.simulate2(rimea1Automata.operatorWithCostFunction_Angelos, 5)\n",
    "#rimea1Automata.availableSteps\n",
    "#visualize(rimea1Automata.getState(), size = (15,5))\n",
    "#rimea1Automata.simulateAndVisualize(rimea1Automata.operatorWithCostFunction, 1000, size = (15, 5))"
   ]
  },
  {
   "cell_type": "code",
   "execution_count": 2,
   "id": "49099e61",
   "metadata": {},
   "outputs": [
    {
     "data": {
      "image/png": "[encoded data removed]",
      "text/plain": [
       "<Figure size 1080x360 with 1 Axes>"
      ]
     },
     "metadata": {
      "needs_background": "light"
     },
     "output_type": "display_data"
    },
    {
     "name": "stdout",
     "output_type": "stream",
     "text": [
      "Simulation finished after 30 seconds. All pedestrians achieved their targets.\n"
     ]
    }
   ],
   "source": [
    "\n",
    "#rimea1Automata.simulate2(rimea1Automata.operatorWithCostFunction_Angelos, 30)\n",
    "#visualize(rimea1Automata.getState(), size = (15,5))\n",
    "rimea1Automata.simulateAndVisualize2(rimea1Automata.operatorWithCostFunction_Angelos, 30, size = (15, 5))"
   ]
  },
  {
   "cell_type": "markdown",
   "id": "a7e00c43",
   "metadata": {
    "pycharm": {
     "name": "#%%\n"
    }
   },
   "source": [
    "### TEST2: RiMEA scenario 4 (fundamental diagram, be careful with periodic boundary conditions)"
   ]
  },
  {
   "cell_type": "markdown",
   "id": "5f44c0d9",
   "metadata": {
    "pycharm": {
     "name": "#%%\n"
    }
   },
   "source": [
    "Scenario:\n",
    "- ..."
   ]
  },
  {
   "cell_type": "code",
   "execution_count": null,
   "id": "c4a03ea4",
   "metadata": {},
   "outputs": [],
   "source": []
  },
  {
   "cell_type": "markdown",
   "id": "d17d79dc",
   "metadata": {},
   "source": [
    "### TEST3: RiMEA scenario 6 (movement around a corner)."
   ]
  },
  {
   "cell_type": "markdown",
   "id": "cfb44ae9",
   "metadata": {},
   "source": [
    "Scenario:\n",
    "- ..."
   ]
  },
  {
   "cell_type": "code",
   "execution_count": 30,
   "id": "298de7bc",
   "metadata": {},
   "outputs": [],
   "source": [
    "# from Automata import Automata\n",
    "# from utils import visualize\n",
    "# import math\n",
    "\n",
    "# %load_ext autoreload\n",
    "# %autoreload 2\n",
    "\n",
    "# ob = []\n",
    "# for i in range(0, 20):\n",
    "#     ob.append([i, 4])\n",
    "    \n",
    "# for i in range(4, 24):\n",
    "#     ob.append([19, i])\n",
    "\n",
    "# ped = []\n",
    "# id = 1\n",
    "# for i in range(0, 10, 2):\n",
    "#     ped.append([id, i, 0, 1.33])\n",
    "#     id += 1\n",
    "    \n",
    "# for i in range(0, 10, 2):\n",
    "#     ped.append([id, i, 2, 1.33])\n",
    "#     id += 1\n",
    "    \n",
    "    \n",
    "# for i in range(1, 10, 2):\n",
    "#     ped.append([id, i, 1, 1.33])\n",
    "#     id += 1\n",
    "    \n",
    "# for i in range(1, 11, 2):\n",
    "#     ped.append([id, i, 3, 1.33])\n",
    "#     id += 1\n",
    "#     if (id == 21):\n",
    "#         break\n",
    "    \n",
    "# print(len(ped))\n",
    "    \n",
    "\n",
    "    \n",
    "# rimea1 = {\n",
    "#     \"name\": \"Task1Scenario\",\n",
    "#     \"dimensions\": {\n",
    "#         \"width\": 24,\n",
    "#         \"height\": 24 # 1 cell = 0.4 meter ===> 2 m wide = (0.4m/cell)/2m = \n",
    "#     },\n",
    "#     \"pedestrians\": ped,\n",
    "#     \"targets\": [\n",
    "#         [[1], 21, 23]\n",
    "#     ],\n",
    "#     \"obstacles\": ob,\n",
    "    \n",
    "#     \"step\": 0.5\n",
    "# }\n",
    "# rimea1Automata = Automata(rimea1)\n",
    "\n",
    "# #visualize(rimea1Automata.getState(), size = (15,15))\n",
    "# rimea1Automata.simulateAndVisualize2(rimea1Automata.operatorWithCostFunction_Angelos, 30, size = (15, 15))"
   ]
  },
  {
   "cell_type": "code",
   "execution_count": 29,
   "id": "ee9eb1d9",
   "metadata": {},
   "outputs": [
    {
     "data": {
      "image/png": "[encoded data removed]",
      "text/plain": [
       "<Figure size 1080x1080 with 1 Axes>"
      ]
     },
     "metadata": {
      "needs_background": "light"
     },
     "output_type": "display_data"
    },
    {
     "name": "stdout",
     "output_type": "stream",
     "text": [
      "Simulation finished after 81 seconds. All pedestrians achieved their targets.\n"
     ]
    }
   ],
   "source": [
    "from Automata import Automata\n",
    "from utils import visualize\n",
    "import math\n",
    "\n",
    "%load_ext autoreload\n",
    "%autoreload 2\n",
    "\n",
    "ob = []\n",
    "for i in range(0, 20):\n",
    "    ob.append([i, 4])\n",
    "    \n",
    "for i in range(4, 24):\n",
    "    ob.append([19, i])    \n",
    "    \n",
    "ped = []\n",
    "id = 1\n",
    "for i in range(0, 10, 2):\n",
    "    ped.append([id, i, 0, 0.5])\n",
    "    id += 1\n",
    "    \n",
    "for i in range(0, 10, 2):\n",
    "    ped.append([id, i, 2, 0.5])\n",
    "    id += 1\n",
    "    \n",
    "    \n",
    "for i in range(1, 10, 2):\n",
    "    ped.append([id, i, 1, 0.5])\n",
    "    id += 1\n",
    "    \n",
    "for i in range(1, 11, 2):\n",
    "    ped.append([id, i, 3, 0.5])\n",
    "    id += 1\n",
    "    if (id == 21):\n",
    "        break\n",
    "    \n",
    "\n",
    "    \n",
    "rimea1 = {\n",
    "    \"name\": \"Task1Scenario\",\n",
    "    \"dimensions\": {\n",
    "        \"width\": 24,\n",
    "        \"height\": 24 # 1 cell = 0.4 meter ===> 2 m wide = (0.4m/cell)/2m = \n",
    "    },\n",
    "    \"pedestrians\": ped,\n",
    "    \"targets\": [\n",
    "        [[i for i in range(1, 21)], 21, 23]\n",
    "    ],\n",
    "    \"obstacles\": ob,\n",
    "    \n",
    "    \"step\": 0.5\n",
    "}\n",
    "rimea1Automata = Automata(rimea1)\n",
    "\n",
    "#visualize(rimea1Automata.getState(), size = (15,15))\n",
    "rimea1Automata.simulateAndVisualize2(rimea1Automata.operatorWithCostFunction_Angelos, 80, size = (15, 15))"
   ]
  },
  {
   "cell_type": "markdown",
   "id": "99ff1505",
   "metadata": {},
   "source": [
    "### TEST4: RiMEA scenario 7 (demographic parameters, visual comparison of  gure and results is suffcient. Simple and correct statistical test gives 5 bonus points if you argue why your choice of test is correct)."
   ]
  },
  {
   "cell_type": "markdown",
   "id": "652078c1",
   "metadata": {},
   "source": [
    "Scenario:\n",
    "- ..."
   ]
  },
  {
   "cell_type": "code",
   "execution_count": null,
   "id": "a050ae00",
   "metadata": {
    "scrolled": true
   },
   "outputs": [],
   "source": []
  },
  {
   "cell_type": "code",
   "execution_count": 65,
   "id": "493de0a8",
   "metadata": {},
   "outputs": [
    {
     "data": {
      "image/png": "[encoded data removed]",
      "text/plain": [
       "<Figure size 1080x1080 with 1 Axes>"
      ]
     },
     "metadata": {
      "needs_background": "light"
     },
     "output_type": "display_data"
    },
    {
     "name": "stdout",
     "output_type": "stream",
     "text": [
      "Simulation finished after 81 seconds. All pedestrians achieved their targets.\n"
     ]
    }
   ],
   "source": [
    "from Automata import Automata\n",
    "from utils import visualize\n",
    "import math\n",
    "import random\n",
    "\n",
    "%load_ext autoreload\n",
    "%autoreload 2  \n",
    "    \n",
    "ped = []\n",
    "id = 1\n",
    "\n",
    "# 20s\n",
    "for i in range(0, 24, 3):\n",
    "    ped.append([id, i, 0, random.uniform(1.6, 1.64)])\n",
    "    id += 1\n",
    "\n",
    "# 30s\n",
    "for i in range(0, 23, 3):\n",
    "    ped.append([id, i, 4, random.uniform(1.52, 1.56)])\n",
    "    id += 1\n",
    "    \n",
    "# 40s    \n",
    "for i in range(1, 20, 3):\n",
    "    ped.append([id, i, 8, random.uniform(1.46, 1.5)])\n",
    "    id += 1\n",
    "# 50s    \n",
    "for i in range(1, 20, 3):\n",
    "    ped.append([id, i, 12, random.uniform(1.39, 1.43)])\n",
    "    id += 1\n",
    "# 60s    \n",
    "for i in range(1, 20, 3):\n",
    "    ped.append([id, i, 16, random.uniform(1.27, 1.27)])\n",
    "    id += 1\n",
    "# 20s    \n",
    "for i in range(1, 20, 3):\n",
    "    ped.append([id, i, 20, random.uniform(1.6, 1.64)])\n",
    "    id += 1\n",
    "# 70s    \n",
    "for i in range(1, 20, 3):\n",
    "    ped.append([id, i, 23, random.uniform(1.07, 1.07)])\n",
    "    id += 1\n",
    "    if (id == 51):\n",
    "        break\n",
    "        \n",
    "        \n",
    "# 20s: 1 - 8 & 38 - 44\n",
    "# 30s: 9 - 16\n",
    "# 40s: 17 - 23\n",
    "# 50s: 24 - 30\n",
    "# 60s: 31 - 37\n",
    "# 70s: 45 - 50\n",
    "\n",
    "rimea1 = {\n",
    "    \"name\": \"Task1Scenario\",\n",
    "    \"dimensions\": {\n",
    "        \"width\": 24,\n",
    "        \"height\": 24 # 1 cell = 0.4 meter ===> 2 m wide = (0.4m/cell)/2m = \n",
    "    },\n",
    "    \"pedestrians\": ped,\n",
    "    \"targets\": [\n",
    "        [[i for i in range(1, 51)], 23, 12]\n",
    "    ],\n",
    "    \"obstacles\": [],\n",
    "    \n",
    "    \"step\": 0.5\n",
    "}\n",
    "rimea1Automata = Automata(rimea1)\n",
    "\n",
    "#visualize(rimea1Automata.getState(), size = (15,15))\n",
    "\n",
    "#print(ped)\n",
    "\n",
    "rimea1Automata.simulateAndVisualize2(rimea1Automata.operatorWithCostFunction_Angelos, 80, size = (15, 15))"
   ]
  },
  {
   "cell_type": "code",
   "execution_count": 66,
   "id": "6a8e37b9",
   "metadata": {},
   "outputs": [
    {
     "data": {
      "text/plain": [
       "{1: 8,\n",
       " 2: 6,\n",
       " 3: 6,\n",
       " 4: 5,\n",
       " 5: 4,\n",
       " 6: 4,\n",
       " 7: 4,\n",
       " 8: 5,\n",
       " 9: 8,\n",
       " 10: 7,\n",
       " 11: 6,\n",
       " 12: 5,\n",
       " 13: 3,\n",
       " 14: 2,\n",
       " 15: 2,\n",
       " 16: 3,\n",
       " 17: 9,\n",
       " 18: 7,\n",
       " 19: 8,\n",
       " 20: 5,\n",
       " 21: 6,\n",
       " 22: 2,\n",
       " 23: 1,\n",
       " 24: 9,\n",
       " 25: 8,\n",
       " 26: 7,\n",
       " 27: 5,\n",
       " 28: 4,\n",
       " 29: 2,\n",
       " 30: 1,\n",
       " 31: 9,\n",
       " 32: 10,\n",
       " 33: 7,\n",
       " 34: 6,\n",
       " 35: 7,\n",
       " 36: 3,\n",
       " 37: 1,\n",
       " 38: 9,\n",
       " 39: 7,\n",
       " 40: 7,\n",
       " 41: 4,\n",
       " 42: 3,\n",
       " 43: 2,\n",
       " 44: 3,\n",
       " 45: 11,\n",
       " 46: 10,\n",
       " 47: 9,\n",
       " 48: 11,\n",
       " 49: 8,\n",
       " 50: 6}"
      ]
     },
     "execution_count": 66,
     "metadata": {},
     "output_type": "execute_result"
    }
   ],
   "source": [
    "# Performing \n",
    "rimea1Automata.times"
   ]
  },
  {
   "cell_type": "code",
   "execution_count": 67,
   "id": "f7a75e5f",
   "metadata": {},
   "outputs": [
    {
     "data": {
      "text/plain": [
       "{1: [(0, 0),\n",
       "  (1, 1),\n",
       "  (2, 2),\n",
       "  (3, 3),\n",
       "  (4, 4),\n",
       "  (5, 5),\n",
       "  (6, 6),\n",
       "  (7, 7),\n",
       "  (8, 8),\n",
       "  (9, 7),\n",
       "  (10, 8),\n",
       "  (11, 9),\n",
       "  (12, 8),\n",
       "  (13, 7),\n",
       "  (14, 8),\n",
       "  (15, 9),\n",
       "  (16, 10),\n",
       "  (17, 11),\n",
       "  (18, 10),\n",
       "  (19, 10),\n",
       "  (20, 10),\n",
       "  (20, 11),\n",
       "  (21, 11),\n",
       "  (22, 12)],\n",
       " 2: [(3, 0),\n",
       "  (4, 1),\n",
       "  (5, 2),\n",
       "  (6, 3),\n",
       "  (7, 4),\n",
       "  (8, 5),\n",
       "  (9, 6),\n",
       "  (10, 7),\n",
       "  (11, 8),\n",
       "  (12, 7),\n",
       "  (13, 8),\n",
       "  (14, 9),\n",
       "  (15, 10),\n",
       "  (16, 9),\n",
       "  (17, 10),\n",
       "  (18, 9),\n",
       "  (19, 10),\n",
       "  (20, 11),\n",
       "  (21, 11),\n",
       "  (22, 12)],\n",
       " 3: [(6, 0),\n",
       "  (7, 1),\n",
       "  (8, 2),\n",
       "  (9, 3),\n",
       "  (10, 4),\n",
       "  (11, 5),\n",
       "  (12, 6),\n",
       "  (13, 7),\n",
       "  (14, 8),\n",
       "  (15, 7),\n",
       "  (16, 8),\n",
       "  (17, 9),\n",
       "  (18, 9),\n",
       "  (19, 8),\n",
       "  (20, 8),\n",
       "  (19, 9),\n",
       "  (20, 10),\n",
       "  (21, 10),\n",
       "  (22, 11)],\n",
       " 4: [(9, 0),\n",
       "  (10, 1),\n",
       "  (11, 2),\n",
       "  (12, 3),\n",
       "  (13, 4),\n",
       "  (14, 5),\n",
       "  (15, 6),\n",
       "  (16, 7),\n",
       "  (17, 8),\n",
       "  (18, 9),\n",
       "  (19, 10),\n",
       "  (19, 11),\n",
       "  (20, 10),\n",
       "  (21, 10),\n",
       "  (22, 9),\n",
       "  (22, 10),\n",
       "  (23, 11)],\n",
       " 5: [(12, 0),\n",
       "  (13, 1),\n",
       "  (14, 2),\n",
       "  (15, 3),\n",
       "  (16, 4),\n",
       "  (17, 5),\n",
       "  (18, 6),\n",
       "  (19, 7),\n",
       "  (20, 8),\n",
       "  (21, 9),\n",
       "  (22, 10),\n",
       "  (23, 11)],\n",
       " 6: [(15, 0),\n",
       "  (16, 1),\n",
       "  (17, 2),\n",
       "  (18, 3),\n",
       "  (19, 4),\n",
       "  (20, 5),\n",
       "  (21, 6),\n",
       "  (20, 7),\n",
       "  (21, 8),\n",
       "  (22, 9),\n",
       "  (21, 10),\n",
       "  (21, 11),\n",
       "  (22, 12)],\n",
       " 7: [(18, 0),\n",
       "  (19, 1),\n",
       "  (20, 2),\n",
       "  (21, 3),\n",
       "  (22, 4),\n",
       "  (21, 5),\n",
       "  (20, 6),\n",
       "  (21, 7),\n",
       "  (22, 8),\n",
       "  (23, 9),\n",
       "  (23, 10),\n",
       "  (22, 9),\n",
       "  (22, 10),\n",
       "  (23, 11)],\n",
       " 8: [(21, 0),\n",
       "  (22, 1),\n",
       "  (23, 2),\n",
       "  (22, 3),\n",
       "  (21, 4),\n",
       "  (22, 5),\n",
       "  (22, 6),\n",
       "  (22, 7),\n",
       "  (23, 8),\n",
       "  (22, 7),\n",
       "  (21, 8),\n",
       "  (20, 8),\n",
       "  (21, 9),\n",
       "  (22, 8),\n",
       "  (21, 9),\n",
       "  (21, 10),\n",
       "  (22, 11)],\n",
       " 9: [(0, 4),\n",
       "  (1, 5),\n",
       "  (2, 6),\n",
       "  (3, 7),\n",
       "  (4, 8),\n",
       "  (5, 7),\n",
       "  (6, 8),\n",
       "  (7, 9),\n",
       "  (8, 9),\n",
       "  (9, 10),\n",
       "  (10, 9),\n",
       "  (11, 10),\n",
       "  (12, 11),\n",
       "  (13, 12),\n",
       "  (14, 11),\n",
       "  (15, 11),\n",
       "  (15, 12),\n",
       "  (16, 11),\n",
       "  (17, 12),\n",
       "  (18, 11),\n",
       "  (19, 10),\n",
       "  (20, 10),\n",
       "  (20, 11),\n",
       "  (21, 11),\n",
       "  (22, 12)],\n",
       " 10: [(3, 4),\n",
       "  (4, 5),\n",
       "  (5, 6),\n",
       "  (6, 7),\n",
       "  (7, 8),\n",
       "  (8, 7),\n",
       "  (9, 8),\n",
       "  (10, 9),\n",
       "  (11, 9),\n",
       "  (12, 10),\n",
       "  (13, 9),\n",
       "  (14, 10),\n",
       "  (15, 11),\n",
       "  (16, 12),\n",
       "  (17, 12),\n",
       "  (18, 11),\n",
       "  (19, 12),\n",
       "  (19, 11),\n",
       "  (20, 11),\n",
       "  (21, 11),\n",
       "  (22, 12)],\n",
       " 11: [(6, 4),\n",
       "  (7, 5),\n",
       "  (8, 6),\n",
       "  (9, 7),\n",
       "  (10, 8),\n",
       "  (11, 7),\n",
       "  (12, 8),\n",
       "  (13, 9),\n",
       "  (14, 10),\n",
       "  (15, 11),\n",
       "  (16, 12),\n",
       "  (17, 11),\n",
       "  (18, 12),\n",
       "  (19, 13),\n",
       "  (20, 13),\n",
       "  (21, 13),\n",
       "  (21, 14),\n",
       "  (22, 13)],\n",
       " 12: [(9, 4),\n",
       "  (10, 5),\n",
       "  (11, 6),\n",
       "  (12, 7),\n",
       "  (13, 8),\n",
       "  (14, 7),\n",
       "  (15, 8),\n",
       "  (16, 9),\n",
       "  (17, 9),\n",
       "  (18, 10),\n",
       "  (19, 9),\n",
       "  (18, 10),\n",
       "  (19, 11),\n",
       "  (20, 12),\n",
       "  (21, 12),\n",
       "  (22, 12)],\n",
       " 13: [(12, 4),\n",
       "  (13, 5),\n",
       "  (14, 6),\n",
       "  (15, 7),\n",
       "  (16, 8),\n",
       "  (17, 9),\n",
       "  (18, 10),\n",
       "  (19, 11),\n",
       "  (20, 12),\n",
       "  (21, 12),\n",
       "  (22, 11)],\n",
       " 14: [(15, 4),\n",
       "  (16, 5),\n",
       "  (17, 6),\n",
       "  (18, 7),\n",
       "  (19, 8),\n",
       "  (20, 9),\n",
       "  (21, 10),\n",
       "  (22, 11)],\n",
       " 15: [(18, 4),\n",
       "  (19, 5),\n",
       "  (20, 6),\n",
       "  (21, 7),\n",
       "  (22, 8),\n",
       "  (23, 9),\n",
       "  (23, 10),\n",
       "  (23, 11)],\n",
       " 16: [(21, 4),\n",
       "  (22, 5),\n",
       "  (23, 6),\n",
       "  (23, 7),\n",
       "  (23, 8),\n",
       "  (22, 9),\n",
       "  (22, 10),\n",
       "  (21, 9),\n",
       "  (22, 10),\n",
       "  (23, 11)],\n",
       " 17: [(1, 8),\n",
       "  (2, 9),\n",
       "  (3, 10),\n",
       "  (4, 9),\n",
       "  (5, 10),\n",
       "  (6, 11),\n",
       "  (7, 10),\n",
       "  (8, 11),\n",
       "  (9, 11),\n",
       "  (10, 10),\n",
       "  (11, 11),\n",
       "  (12, 12),\n",
       "  (13, 13),\n",
       "  (14, 12),\n",
       "  (13, 11),\n",
       "  (14, 12),\n",
       "  (15, 11),\n",
       "  (16, 12),\n",
       "  (17, 11),\n",
       "  (18, 10),\n",
       "  (19, 9),\n",
       "  (19, 10),\n",
       "  (20, 10),\n",
       "  (21, 10),\n",
       "  (22, 11)],\n",
       " 18: [(4, 8),\n",
       "  (5, 9),\n",
       "  (6, 10),\n",
       "  (7, 9),\n",
       "  (8, 10),\n",
       "  (9, 11),\n",
       "  (10, 10),\n",
       "  (11, 11),\n",
       "  (12, 11),\n",
       "  (13, 12),\n",
       "  (14, 11),\n",
       "  (15, 12),\n",
       "  (16, 13),\n",
       "  (15, 12),\n",
       "  (16, 11),\n",
       "  (17, 12),\n",
       "  (18, 11),\n",
       "  (19, 12),\n",
       "  (20, 12),\n",
       "  (21, 12),\n",
       "  (22, 11)],\n",
       " 19: [(7, 8),\n",
       "  (8, 9),\n",
       "  (9, 10),\n",
       "  (10, 9),\n",
       "  (11, 10),\n",
       "  (12, 11),\n",
       "  (13, 10),\n",
       "  (14, 9),\n",
       "  (15, 10),\n",
       "  (16, 9),\n",
       "  (17, 10),\n",
       "  (16, 11),\n",
       "  (17, 11),\n",
       "  (18, 10),\n",
       "  (19, 11),\n",
       "  (18, 12),\n",
       "  (19, 13),\n",
       "  (20, 13),\n",
       "  (21, 13),\n",
       "  (20, 13),\n",
       "  (21, 13),\n",
       "  (21, 12),\n",
       "  (22, 11)],\n",
       " 20: [(10, 8),\n",
       "  (11, 9),\n",
       "  (12, 10),\n",
       "  (13, 9),\n",
       "  (14, 10),\n",
       "  (15, 11),\n",
       "  (16, 11),\n",
       "  (17, 10),\n",
       "  (18, 11),\n",
       "  (19, 12),\n",
       "  (20, 12),\n",
       "  (21, 13),\n",
       "  (22, 14),\n",
       "  (23, 13)],\n",
       " 21: [(13, 8),\n",
       "  (14, 9),\n",
       "  (15, 10),\n",
       "  (16, 9),\n",
       "  (17, 8),\n",
       "  (18, 9),\n",
       "  (19, 10),\n",
       "  (20, 11),\n",
       "  (21, 11),\n",
       "  (20, 10),\n",
       "  (20, 9),\n",
       "  (21, 8),\n",
       "  (22, 7),\n",
       "  (21, 8),\n",
       "  (22, 9),\n",
       "  (22, 10),\n",
       "  (23, 11)],\n",
       " 22: [(16, 8), (17, 9), (18, 10), (19, 11), (20, 10), (21, 11), (22, 12)],\n",
       " 23: [(19, 8), (20, 9), (21, 10), (22, 11)],\n",
       " 24: [(1, 12),\n",
       "  (2, 11),\n",
       "  (3, 12),\n",
       "  (4, 13),\n",
       "  (5, 12),\n",
       "  (6, 13),\n",
       "  (7, 12),\n",
       "  (8, 13),\n",
       "  (9, 13),\n",
       "  (10, 13),\n",
       "  (11, 14),\n",
       "  (12, 14),\n",
       "  (13, 15),\n",
       "  (13, 14),\n",
       "  (14, 15),\n",
       "  (15, 16),\n",
       "  (16, 15),\n",
       "  (17, 14),\n",
       "  (18, 13),\n",
       "  (18, 12),\n",
       "  (19, 11),\n",
       "  (20, 12),\n",
       "  (21, 12),\n",
       "  (21, 11),\n",
       "  (22, 12)],\n",
       " 25: [(4, 12),\n",
       "  (5, 11),\n",
       "  (6, 12),\n",
       "  (7, 13),\n",
       "  (8, 12),\n",
       "  (9, 13),\n",
       "  (10, 12),\n",
       "  (11, 12),\n",
       "  (12, 12),\n",
       "  (13, 11),\n",
       "  (14, 12),\n",
       "  (15, 13),\n",
       "  (16, 14),\n",
       "  (15, 13),\n",
       "  (16, 12),\n",
       "  (17, 13),\n",
       "  (18, 12),\n",
       "  (19, 11),\n",
       "  (19, 12),\n",
       "  (20, 12),\n",
       "  (20, 13),\n",
       "  (21, 13),\n",
       "  (22, 13)],\n",
       " 26: [(7, 12),\n",
       "  (8, 11),\n",
       "  (9, 12),\n",
       "  (10, 13),\n",
       "  (11, 12),\n",
       "  (12, 13),\n",
       "  (13, 13),\n",
       "  (14, 12),\n",
       "  (15, 13),\n",
       "  (16, 13),\n",
       "  (17, 13),\n",
       "  (18, 14),\n",
       "  (19, 14),\n",
       "  (18, 14),\n",
       "  (19, 13),\n",
       "  (20, 14),\n",
       "  (21, 14),\n",
       "  (22, 14),\n",
       "  (23, 13)],\n",
       " 27: [(10, 12),\n",
       "  (11, 11),\n",
       "  (12, 12),\n",
       "  (13, 13),\n",
       "  (14, 12),\n",
       "  (15, 12),\n",
       "  (16, 13),\n",
       "  (17, 14),\n",
       "  (18, 15),\n",
       "  (19, 14),\n",
       "  (20, 14),\n",
       "  (20, 13),\n",
       "  (21, 14),\n",
       "  (22, 13)],\n",
       " 28: [(13, 12),\n",
       "  (14, 11),\n",
       "  (15, 12),\n",
       "  (16, 13),\n",
       "  (17, 14),\n",
       "  (18, 13),\n",
       "  (19, 13),\n",
       "  (20, 13),\n",
       "  (20, 14),\n",
       "  (20, 13),\n",
       "  (21, 12),\n",
       "  (22, 11)],\n",
       " 29: [(16, 12), (17, 11), (18, 11), (19, 10), (20, 11), (21, 12), (22, 13)],\n",
       " 30: [(19, 12), (20, 12), (21, 12), (22, 12)],\n",
       " 31: [(1, 16),\n",
       "  (2, 15),\n",
       "  (3, 14),\n",
       "  (4, 14),\n",
       "  (5, 15),\n",
       "  (6, 14),\n",
       "  (7, 15),\n",
       "  (8, 14),\n",
       "  (9, 14),\n",
       "  (10, 15),\n",
       "  (11, 16),\n",
       "  (12, 15),\n",
       "  (13, 15),\n",
       "  (14, 16),\n",
       "  (15, 15),\n",
       "  (16, 14),\n",
       "  (17, 13),\n",
       "  (17, 12),\n",
       "  (18, 11),\n",
       "  (19, 12),\n",
       "  (20, 11),\n",
       "  (21, 12),\n",
       "  (22, 11)],\n",
       " 32: [(4, 16),\n",
       "  (5, 15),\n",
       "  (6, 14),\n",
       "  (7, 14),\n",
       "  (8, 15),\n",
       "  (9, 14),\n",
       "  (10, 15),\n",
       "  (11, 14),\n",
       "  (12, 13),\n",
       "  (13, 13),\n",
       "  (14, 13),\n",
       "  (15, 14),\n",
       "  (16, 13),\n",
       "  (17, 14),\n",
       "  (18, 14),\n",
       "  (19, 14),\n",
       "  (19, 13),\n",
       "  (19, 14),\n",
       "  (19, 13),\n",
       "  (19, 14),\n",
       "  (20, 13),\n",
       "  (21, 13),\n",
       "  (22, 14),\n",
       "  (23, 13)],\n",
       " 33: [(7, 16),\n",
       "  (8, 15),\n",
       "  (9, 14),\n",
       "  (10, 14),\n",
       "  (11, 15),\n",
       "  (12, 14),\n",
       "  (13, 15),\n",
       "  (14, 15),\n",
       "  (15, 14),\n",
       "  (16, 14),\n",
       "  (17, 14),\n",
       "  (18, 13),\n",
       "  (19, 14),\n",
       "  (20, 13),\n",
       "  (21, 13),\n",
       "  (22, 13)],\n",
       " 34: [(10, 16),\n",
       "  (11, 15),\n",
       "  (12, 14),\n",
       "  (13, 14),\n",
       "  (14, 15),\n",
       "  (15, 14),\n",
       "  (16, 14),\n",
       "  (17, 15),\n",
       "  (18, 14),\n",
       "  (19, 13),\n",
       "  (19, 12),\n",
       "  (20, 11),\n",
       "  (21, 11),\n",
       "  (21, 12),\n",
       "  (22, 12)],\n",
       " 35: [(13, 16),\n",
       "  (14, 15),\n",
       "  (15, 14),\n",
       "  (16, 14),\n",
       "  (17, 13),\n",
       "  (18, 12),\n",
       "  (19, 12),\n",
       "  (19, 11),\n",
       "  (20, 11),\n",
       "  (19, 10),\n",
       "  (20, 9),\n",
       "  (21, 9),\n",
       "  (20, 9),\n",
       "  (20, 10),\n",
       "  (21, 10),\n",
       "  (22, 10),\n",
       "  (23, 11)],\n",
       " 36: [(16, 16),\n",
       "  (17, 15),\n",
       "  (18, 14),\n",
       "  (19, 13),\n",
       "  (20, 14),\n",
       "  (21, 13),\n",
       "  (21, 14),\n",
       "  (22, 13)],\n",
       " 37: [(19, 16), (20, 15), (21, 14), (22, 13)],\n",
       " 38: [(1, 20),\n",
       "  (2, 19),\n",
       "  (3, 18),\n",
       "  (4, 17),\n",
       "  (5, 16),\n",
       "  (6, 15),\n",
       "  (7, 14),\n",
       "  (8, 15),\n",
       "  (9, 16),\n",
       "  (10, 17),\n",
       "  (11, 16),\n",
       "  (12, 15),\n",
       "  (13, 14),\n",
       "  (14, 14),\n",
       "  (14, 13),\n",
       "  (14, 14),\n",
       "  (15, 15),\n",
       "  (16, 16),\n",
       "  (17, 16),\n",
       "  (18, 16),\n",
       "  (18, 15),\n",
       "  (18, 14),\n",
       "  (19, 15),\n",
       "  (20, 14),\n",
       "  (21, 14),\n",
       "  (22, 15),\n",
       "  (21, 14),\n",
       "  (22, 13)],\n",
       " 39: [(4, 20),\n",
       "  (5, 19),\n",
       "  (6, 18),\n",
       "  (7, 17),\n",
       "  (8, 16),\n",
       "  (9, 15),\n",
       "  (10, 14),\n",
       "  (11, 15),\n",
       "  (12, 16),\n",
       "  (13, 16),\n",
       "  (14, 16),\n",
       "  (15, 15),\n",
       "  (16, 15),\n",
       "  (17, 16),\n",
       "  (16, 15),\n",
       "  (17, 16),\n",
       "  (18, 16),\n",
       "  (19, 16),\n",
       "  (20, 15),\n",
       "  (21, 15),\n",
       "  (22, 15),\n",
       "  (21, 14),\n",
       "  (22, 13)],\n",
       " 40: [(7, 20),\n",
       "  (8, 19),\n",
       "  (9, 18),\n",
       "  (10, 17),\n",
       "  (11, 16),\n",
       "  (12, 15),\n",
       "  (13, 14),\n",
       "  (14, 13),\n",
       "  (15, 12),\n",
       "  (16, 11),\n",
       "  (17, 12),\n",
       "  (18, 11),\n",
       "  (17, 12),\n",
       "  (17, 13),\n",
       "  (18, 12),\n",
       "  (19, 12),\n",
       "  (20, 12),\n",
       "  (21, 12),\n",
       "  (22, 11)],\n",
       " 41: [(10, 20),\n",
       "  (11, 19),\n",
       "  (12, 18),\n",
       "  (13, 17),\n",
       "  (14, 16),\n",
       "  (15, 15),\n",
       "  (16, 15),\n",
       "  (17, 15),\n",
       "  (18, 14),\n",
       "  (19, 15),\n",
       "  (20, 15),\n",
       "  (21, 14),\n",
       "  (22, 13)],\n",
       " 42: [(13, 20),\n",
       "  (14, 19),\n",
       "  (15, 18),\n",
       "  (16, 17),\n",
       "  (17, 16),\n",
       "  (18, 15),\n",
       "  (19, 14),\n",
       "  (20, 14),\n",
       "  (21, 13),\n",
       "  (22, 12)],\n",
       " 43: [(16, 20),\n",
       "  (17, 19),\n",
       "  (18, 18),\n",
       "  (19, 17),\n",
       "  (20, 16),\n",
       "  (21, 15),\n",
       "  (22, 14),\n",
       "  (23, 13)],\n",
       " 44: [(19, 20),\n",
       "  (20, 19),\n",
       "  (21, 18),\n",
       "  (22, 17),\n",
       "  (23, 16),\n",
       "  (23, 15),\n",
       "  (23, 14),\n",
       "  (22, 15),\n",
       "  (23, 14),\n",
       "  (23, 13)],\n",
       " 45: [(1, 23),\n",
       "  (2, 22),\n",
       "  (3, 21),\n",
       "  (4, 20),\n",
       "  (5, 19),\n",
       "  (6, 18),\n",
       "  (7, 17),\n",
       "  (8, 16),\n",
       "  (9, 16),\n",
       "  (10, 15),\n",
       "  (11, 14),\n",
       "  (12, 14),\n",
       "  (13, 13),\n",
       "  (14, 13),\n",
       "  (15, 12),\n",
       "  (16, 11),\n",
       "  (17, 12),\n",
       "  (18, 11),\n",
       "  (19, 12),\n",
       "  (20, 11),\n",
       "  (21, 12),\n",
       "  (22, 12)],\n",
       " 46: [(4, 23),\n",
       "  (5, 22),\n",
       "  (6, 21),\n",
       "  (7, 20),\n",
       "  (8, 19),\n",
       "  (9, 18),\n",
       "  (10, 18),\n",
       "  (11, 17),\n",
       "  (12, 16),\n",
       "  (13, 17),\n",
       "  (14, 17),\n",
       "  (15, 17),\n",
       "  (16, 17),\n",
       "  (17, 16),\n",
       "  (18, 16),\n",
       "  (18, 15),\n",
       "  (19, 15),\n",
       "  (20, 14),\n",
       "  (21, 15),\n",
       "  (21, 14),\n",
       "  (22, 13)],\n",
       " 47: [(7, 23),\n",
       "  (8, 22),\n",
       "  (9, 21),\n",
       "  (10, 20),\n",
       "  (11, 19),\n",
       "  (12, 18),\n",
       "  (13, 17),\n",
       "  (14, 17),\n",
       "  (15, 16),\n",
       "  (16, 16),\n",
       "  (17, 15),\n",
       "  (18, 15),\n",
       "  (19, 15),\n",
       "  (20, 14),\n",
       "  (21, 15),\n",
       "  (22, 15),\n",
       "  (22, 14),\n",
       "  (23, 13)],\n",
       " 48: [(10, 23),\n",
       "  (11, 22),\n",
       "  (12, 21),\n",
       "  (13, 20),\n",
       "  (14, 19),\n",
       "  (15, 18),\n",
       "  (16, 17),\n",
       "  (16, 16),\n",
       "  (17, 15),\n",
       "  (18, 15),\n",
       "  (19, 15),\n",
       "  (20, 16),\n",
       "  (21, 16),\n",
       "  (20, 15),\n",
       "  (21, 16),\n",
       "  (22, 16),\n",
       "  (21, 15),\n",
       "  (22, 16),\n",
       "  (22, 15),\n",
       "  (23, 14),\n",
       "  (22, 14),\n",
       "  (23, 13)],\n",
       " 49: [(13, 23),\n",
       "  (14, 22),\n",
       "  (15, 21),\n",
       "  (16, 20),\n",
       "  (17, 19),\n",
       "  (18, 18),\n",
       "  (19, 17),\n",
       "  (20, 16),\n",
       "  (21, 15),\n",
       "  (20, 14),\n",
       "  (21, 15),\n",
       "  (22, 15),\n",
       "  (23, 14),\n",
       "  (23, 15),\n",
       "  (22, 14),\n",
       "  (23, 13)],\n",
       " 50: [(16, 23),\n",
       "  (17, 22),\n",
       "  (18, 21),\n",
       "  (19, 20),\n",
       "  (20, 19),\n",
       "  (21, 18),\n",
       "  (22, 17),\n",
       "  (21, 16),\n",
       "  (22, 15),\n",
       "  (23, 14),\n",
       "  (22, 14),\n",
       "  (23, 13)]}"
      ]
     },
     "execution_count": 67,
     "metadata": {},
     "output_type": "execute_result"
    }
   ],
   "source": [
    "rimea1Automata.paths"
   ]
  },
  {
   "cell_type": "code",
   "execution_count": 75,
   "id": "26eb1c99",
   "metadata": {},
   "outputs": [],
   "source": [
    "thirties = [9, 10, 11, 12, 13, 14, 15, 16]\n",
    "avg = 0.0\n",
    "\n",
    "for pedestrian in rimea1Automata.pedestrians:\n",
    "    if (pedestrian[0] in thirties):\n",
    "        avg += ( 0.5 * len(rimea1Automata.paths[pedestrian[0]]) / ( rimea1Automata.times[pedestrian[0]] ))\n",
    "        \n",
    "mean = avg / len(thirties)"
   ]
  },
  {
   "cell_type": "code",
   "execution_count": 79,
   "id": "d4b324c1",
   "metadata": {},
   "outputs": [],
   "source": [
    "seventies = [45, 46, 47, 48, 49, 50]\n",
    "avg = 0.0\n",
    "\n",
    "for pedestrian in rimea1Automata.pedestrians:\n",
    "    if (pedestrian[0] in seventies):\n",
    "        avg += ( 0.5 * len(rimea1Automata.paths[pedestrian[0]]) / ( rimea1Automata.times[pedestrian[0]] ))\n",
    "        \n",
    "mean = avg / len(seventies)"
   ]
  },
  {
   "cell_type": "code",
   "execution_count": 80,
   "id": "3fa80b0e",
   "metadata": {},
   "outputs": [
    {
     "data": {
      "text/plain": [
       "1.0083333333333333"
      ]
     },
     "execution_count": 80,
     "metadata": {},
     "output_type": "execute_result"
    }
   ],
   "source": [
    "mean"
   ]
  },
  {
   "cell_type": "code",
   "execution_count": null,
   "id": "0d8999bb",
   "metadata": {},
   "outputs": [],
   "source": []
  }
 ],
 "metadata": {
  "kernelspec": {
   "display_name": "Python 3 (ipykernel)",
   "language": "python",
   "name": "python3"
  },
  "language_info": {
   "codemirror_mode": {
    "name": "ipython",
    "version": 3
   },
   "file_extension": ".py",
   "mimetype": "text/x-python",
   "name": "python",
   "nbconvert_exporter": "python",
   "pygments_lexer": "ipython3",
   "version": "3.9.7"
  }
 },
 "nbformat": 4,
 "nbformat_minor": 5
}
