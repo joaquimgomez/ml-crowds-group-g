{
 "cells": [
  {
   "cell_type": "markdown",
   "id": "2e328133-32ef-4a62-8a91-19769827d8c1",
   "metadata": {
    "pycharm": {
     "name": "#%% md\n"
    }
   },
   "source": [
    "# Exercise 1"
   ]
  },
  {
   "cell_type": "code",
   "execution_count": 1,
   "id": "e9a46adc-7675-47b9-8256-e51e8055523e",
   "metadata": {
    "pycharm": {
     "name": "#%%\n"
    }
   },
   "outputs": [],
   "source": [
    "from Automata import Automata\n",
    "from utils import visualize\n",
    "import math\n",
    "\n",
    "%load_ext autoreload\n",
    "%autoreload 2"
   ]
  },
  {
   "cell_type": "markdown",
   "id": "695340c3-d823-4111-be7e-95ecd6781994",
   "metadata": {
    "jp-MarkdownHeadingCollapsed": true,
    "pycharm": {
     "name": "#%% md\n"
    },
    "tags": []
   },
   "source": [
    "## Task 1 - Setting up the modeling environment (DONE)"
   ]
  },
  {
   "cell_type": "markdown",
   "id": "9ae39e4f-df96-4055-a9df-587579049004",
   "metadata": {
    "pycharm": {
     "name": "#%% md\n"
    }
   },
   "source": [
    "Scenario to show that our implementation allows for different pedestrians and obstacles editing an easy JSON file (using as input for the automata the file path) or writing in a notebook a dictionary as follow: "
   ]
  },
  {
   "cell_type": "code",
   "execution_count": null,
   "id": "30dba9ae",
   "metadata": {
    "pycharm": {
     "name": "#%%\n"
    }
   },
   "outputs": [],
   "source": [
    "configTask1 = {\n",
    "    \"name\": \"Task1Scenario\",\n",
    "    \"dimensions\": {\n",
    "        \"width\": 7,\n",
    "        \"height\": 7\n",
    "    },\n",
    "    \"pedestrians\": [\n",
    "        [1, 0, 4]\n",
    "    ],\n",
    "    \"targets\": [\n",
    "        [[1], 6, 4]\n",
    "    ],\n",
    "    \"obstacles\": [\n",
    "        [3, 4], [3, 3], [3, 5]\n",
    "    ]\n",
    "}"
   ]
  },
  {
   "cell_type": "code",
   "execution_count": null,
   "id": "2e2d8a12",
   "metadata": {
    "pycharm": {
     "name": "#%%\n"
    }
   },
   "outputs": [],
   "source": [
    "task1Automata = Automata(configTask1)"
   ]
  },
  {
   "cell_type": "markdown",
   "id": "76af1e06",
   "metadata": {
    "pycharm": {
     "name": "#%% md\n"
    }
   },
   "source": [
    "Let's take a look at the initial state:"
   ]
  },
  {
   "cell_type": "code",
   "execution_count": null,
   "id": "60a39745",
   "metadata": {
    "pycharm": {
     "name": "#%%\n"
    }
   },
   "outputs": [],
   "source": [
    "visualize(task1Automata.getState())"
   ]
  },
  {
   "cell_type": "markdown",
   "id": "ba735338",
   "metadata": {
    "pycharm": {
     "name": "#%% md\n"
    }
   },
   "source": [
    "Let's simulate for 10 time steps and let's take a look at the final state with the followed path:"
   ]
  },
  {
   "cell_type": "code",
   "execution_count": null,
   "id": "11ba189b",
   "metadata": {
    "pycharm": {
     "name": "#%%\n"
    }
   },
   "outputs": [],
   "source": [
    "task1Automata.simulate(task1Automata.basicOperator, 10)"
   ]
  },
  {
   "cell_type": "code",
   "execution_count": null,
   "id": "9a257c80",
   "metadata": {
    "pycharm": {
     "name": "#%%\n"
    }
   },
   "outputs": [],
   "source": [
    "visualize(task1Automata.getStateWithPaths())"
   ]
  },
  {
   "cell_type": "markdown",
   "id": "08ac3801",
   "metadata": {
    "pycharm": {
     "name": "#%% md\n"
    }
   },
   "source": [
    "## Task 2 - First step of a single pedestrian (DONE)"
   ]
  },
  {
   "cell_type": "markdown",
   "id": "2ac5991d",
   "metadata": {
    "pycharm": {
     "name": "#%% md\n"
    }
   },
   "source": [
    "Scenario:\n",
    "- 50 by 50 cells (2500 in total)\n",
    "- Single pedestrian at position (5, 25)\n",
    "- Target at (25, 25)"
   ]
  },
  {
   "cell_type": "code",
   "execution_count": null,
   "id": "b495daa8",
   "metadata": {
    "pycharm": {
     "name": "#%%\n"
    }
   },
   "outputs": [],
   "source": [
    "configTask2 = {\n",
    "    \"name\": \"Task2Scenario\",\n",
    "    \"dimensions\": {\n",
    "        \"width\": 49,\n",
    "        \"height\": 49\n",
    "    },\n",
    "    \"pedestrians\": [\n",
    "        [1, 4, 24]\n",
    "    ],\n",
    "    \"targets\": [\n",
    "        [[1], 24, 24]\n",
    "    ],\n",
    "    \"obstacles\": []\n",
    "}"
   ]
  },
  {
   "cell_type": "code",
   "execution_count": null,
   "id": "d82b0284",
   "metadata": {
    "pycharm": {
     "name": "#%%\n"
    }
   },
   "outputs": [],
   "source": [
    "task2Automata = Automata(configTask2)"
   ]
  },
  {
   "cell_type": "markdown",
   "id": "9c63a0a9",
   "metadata": {
    "pycharm": {
     "name": "#%% md\n"
    }
   },
   "source": [
    "Let's take a look at the initial state:"
   ]
  },
  {
   "cell_type": "code",
   "execution_count": null,
   "id": "3af4f9a2",
   "metadata": {
    "pycharm": {
     "name": "#%%\n"
    }
   },
   "outputs": [],
   "source": [
    "visualize(task2Automata.getState())"
   ]
  },
  {
   "cell_type": "markdown",
   "id": "5a2763ff",
   "metadata": {
    "pycharm": {
     "name": "#%% md\n"
    }
   },
   "source": [
    "Let's simulate for 25 time steps and let's take a look at the final state with the followed path:"
   ]
  },
  {
   "cell_type": "code",
   "execution_count": null,
   "id": "429ac34a",
   "metadata": {
    "pycharm": {
     "name": "#%%\n"
    }
   },
   "outputs": [],
   "source": [
    "task2Automata.simulate(task2Automata.basicOperator, 25)"
   ]
  },
  {
   "cell_type": "code",
   "execution_count": null,
   "id": "84ae397e",
   "metadata": {
    "pycharm": {
     "name": "#%%\n"
    }
   },
   "outputs": [],
   "source": [
    "visualize(task2Automata.getStateWithPaths())"
   ]
  },
  {
   "cell_type": "markdown",
   "id": "71b432a4",
   "metadata": {
    "pycharm": {
     "name": "#%% md\n"
    }
   },
   "source": [
    "## Task 3 - Interaction of pedestrians"
   ]
  },
  {
   "cell_type": "markdown",
   "id": "1e10c5c8",
   "metadata": {
    "pycharm": {
     "name": "#%% md\n"
    }
   },
   "source": [
    "Scenario:\n",
    "- 50 by 50 cells (2500 in total)\n",
    "- 5 equidistant pedestrians on the same circle \n",
    "- 1 single target for all of them\n",
    "- 25 Steps"
   ]
  },
  {
   "cell_type": "code",
   "execution_count": null,
   "id": "3d2f314b",
   "metadata": {
    "pycharm": {
     "name": "#%%\n"
    }
   },
   "outputs": [],
   "source": [
    "# First we need to find 5 equidistant points on our circle with r = 20 and center (25,25)\n",
    "r = 20\n",
    "numPoints = 5\n",
    "points = []\n",
    "for index in range(numPoints):\n",
    "    points.append([r*math.cos((index*2*math.pi)/numPoints),r*math.sin((index*2*math.pi)/numPoints)])\n",
    "\n",
    "# Now we want to shift our points by 25 units to bring them on our circle\n",
    "for i, p in enumerate(points):\n",
    "    p[0] = p[0] + 25.0\n",
    "    p[1] = p[1] + 25.0\n",
    "\n",
    "# We have now our final points\n",
    "a = []\n",
    "no_points = 5\n",
    "for i in range(no_points):\n",
    "    x = 25.0 + 20 * math.cos(2 * math.pi * i / no_points)\n",
    "    y = 25.0 + 20 * math.sin(2 * math.pi * i / no_points)\n",
    "    a.append((x,y))\n",
    "print(a)"
   ]
  },
  {
   "cell_type": "code",
   "execution_count": null,
   "id": "12480d43",
   "metadata": {
    "pycharm": {
     "name": "#%%\n"
    }
   },
   "outputs": [],
   "source": [
    "configTask3 = {\n",
    "    \"name\": \"Task3Scenario\",\n",
    "    \"dimensions\": {\n",
    "        \"width\": 49,\n",
    "        \"height\": 49\n",
    "     },\n",
    "    \"pedestrians\": [\n",
    "        [1, 45, 25], [2, 31, 44], [3, 9, 37], [4, 9, 13], [5, 31, 6]\n",
    "     ],\n",
    "     \"targets\": [\n",
    "        [[1,2,3,4,5], 24, 24]\n",
    "     ],\n",
    "     \"obstacles\": []\n",
    "}"
   ]
  },
  {
   "cell_type": "code",
   "execution_count": null,
   "id": "760b87f4",
   "metadata": {
    "pycharm": {
     "name": "#%%\n"
    }
   },
   "outputs": [],
   "source": [
    "task3Automata = Automata(configTask3)"
   ]
  },
  {
   "cell_type": "code",
   "execution_count": null,
   "id": "14e8d7f5",
   "metadata": {
    "pycharm": {
     "name": "#%%\n"
    }
   },
   "outputs": [],
   "source": [
    "visualize(task3Automata.getState())"
   ]
  },
  {
   "cell_type": "markdown",
   "id": "969d36d0",
   "metadata": {
    "pycharm": {
     "name": "#%% md\n"
    }
   },
   "source": [
    "Let's take a look at the initial state:"
   ]
  },
  {
   "cell_type": "markdown",
   "id": "831545e0",
   "metadata": {
    "pycharm": {
     "name": "#%% md\n"
    }
   },
   "source": [
    "Let's simulate for 25 time steps and let's take a look at the final state with the followed paths:"
   ]
  },
  {
   "cell_type": "code",
   "execution_count": null,
   "id": "b475ad6d",
   "metadata": {
    "pycharm": {
     "name": "#%%\n"
    }
   },
   "outputs": [],
   "source": [
    "task3Automata.simulate(task3Automata.basicOperator, 25)"
   ]
  },
  {
   "cell_type": "code",
   "execution_count": null,
   "id": "2ee578c7",
   "metadata": {
    "pycharm": {
     "name": "#%%\n"
    }
   },
   "outputs": [],
   "source": [
    "visualize(task3Automata.getStateWithPaths())"
   ]
  },
  {
   "cell_type": "code",
   "execution_count": null,
   "id": "dc65960e",
   "metadata": {
    "pycharm": {
     "name": "#%%\n"
    }
   },
   "outputs": [],
   "source": []
  },
  {
   "cell_type": "code",
   "execution_count": null,
   "id": "47baa113",
   "metadata": {
    "pycharm": {
     "name": "#%%\n"
    }
   },
   "outputs": [],
   "source": [
    "paths = task3Automata.getPaths()\n",
    "for path in paths:\n",
    "    print(len(paths[path]))"
   ]
  },
  {
   "cell_type": "markdown",
   "id": "06599bf9",
   "metadata": {
    "pycharm": {
     "name": "#%% md\n"
    }
   },
   "source": [
    "## Task 4 - Obstacle avoidance"
   ]
  },
  {
   "cell_type": "markdown",
   "id": "03100ba5",
   "metadata": {
    "pycharm": {
     "name": "#%% md\n"
    }
   },
   "source": [
    "### Scenario 4.1 - What happens in the scenario shown in figure (10) of [8] (bottleneck), if obstacle avoidance is not implemented?"
   ]
  },
  {
   "cell_type": "code",
   "execution_count": null,
   "id": "bc281aab",
   "metadata": {
    "pycharm": {
     "name": "#%%\n"
    }
   },
   "outputs": [],
   "source": []
  },
  {
   "cell_type": "code",
   "execution_count": null,
   "id": "8117d2a8",
   "metadata": {
    "pycharm": {
     "name": "#%%\n"
    }
   },
   "outputs": [],
   "source": []
  },
  {
   "cell_type": "code",
   "execution_count": null,
   "id": "7dfd693c",
   "metadata": {
    "pycharm": {
     "name": "#%%\n"
    }
   },
   "outputs": [],
   "source": []
  },
  {
   "cell_type": "markdown",
   "id": "0a10c945",
   "metadata": {
    "pycharm": {
     "name": "#%% md\n"
    }
   },
   "source": [
    "### Scenario 4.2 - What happens for the \"chicken test\" scenario, figure 5?"
   ]
  },
  {
   "cell_type": "markdown",
   "id": "eed4fa5a",
   "metadata": {
    "pycharm": {
     "name": "#%% md\n"
    }
   },
   "source": [
    "Without obstacle avoidance:"
   ]
  },
  {
   "cell_type": "code",
   "execution_count": 2,
   "id": "bdc6c745",
   "metadata": {
    "pycharm": {
     "name": "#%%\n"
    }
   },
   "outputs": [],
   "source": [
    "configTask42 = {\n",
    "    \"name\": \"Task1Scenario\",\n",
    "    \"dimensions\": {\n",
    "        \"width\": 9,\n",
    "        \"height\": 9\n",
    "    },\n",
    "    \"pedestrians\": [\n",
    "        [1, 0, 5]\n",
    "    ],\n",
    "    \"targets\": [\n",
    "        [[1], 8, 5]\n",
    "    ],\n",
    "    \"obstacles\": [\n",
    "        [3, 2], [4, 2], [5, 2], [5, 4], [5, 5], [5, 6], [5,8], [4, 8], [3, 8], [5, 3], [5, 7]\n",
    "    ]\n",
    "}\n",
    "task42Automata = Automata(configTask42)"
   ]
  },
  {
   "cell_type": "code",
   "execution_count": 3,
   "id": "3c7d0f86",
   "metadata": {
    "pycharm": {
     "name": "#%%\n"
    }
   },
   "outputs": [
    {
     "data": {
      "image/png": "[encoded data removed]",
      "text/plain": [
       "<Figure size 864x864 with 1 Axes>"
      ]
     },
     "metadata": {
      "needs_background": "light"
     },
     "output_type": "display_data"
    }
   ],
   "source": [
    "visualize(task42Automata.getState())"
   ]
  },
  {
   "cell_type": "code",
   "execution_count": 4,
   "id": "7c017858",
   "metadata": {
    "pycharm": {
     "name": "#%%\n"
    }
   },
   "outputs": [
    {
     "name": "stdout",
     "output_type": "stream",
     "text": [
      "Simulation finished after 10 steps. All pedestrians achieved their targets.\n"
     ]
    },
    {
     "data": {
      "image/png": "[encoded data removed]",
      "text/plain": [
       "<Figure size 864x864 with 1 Axes>"
      ]
     },
     "metadata": {
      "needs_background": "light"
     },
     "output_type": "display_data"
    }
   ],
   "source": [
    "task42Automata.simulate(task42Automata.operatorWithCostFunction, 20, avoidObstacles = True)\n",
    "visualize(task42Automata.getStateWithPaths())"
   ]
  },
  {
   "cell_type": "markdown",
   "id": "4bc38907",
   "metadata": {
    "pycharm": {
     "name": "#%% md\n"
    }
   },
   "source": [
    "With obstacle avoidance:"
   ]
  },
  {
   "cell_type": "code",
   "execution_count": 5,
   "id": "9790bbd5",
   "metadata": {
    "pycharm": {
     "name": "#%%\n"
    }
   },
   "outputs": [
    {
     "name": "stdout",
     "output_type": "stream",
     "text": [
      "Simulation finished after 10 steps. All pedestrians achieved their targets.\n"
     ]
    },
    {
     "data": {
      "image/png": "[encoded data removed]",
      "text/plain": [
       "<Figure size 864x864 with 1 Axes>"
      ]
     },
     "metadata": {
      "needs_background": "light"
     },
     "output_type": "display_data"
    }
   ],
   "source": [
    "task42Automata = Automata(configTask42)\n",
    "task42Automata.simulate(task42Automata.operatorWithCostFunction, 50, avoidObstacles = True)\n",
    "visualize(task42Automata.getStateWithPaths())"
   ]
  },
  {
   "cell_type": "code",
   "execution_count": null,
   "id": "32f304bc",
   "metadata": {
    "pycharm": {
     "name": "#%%\n"
    }
   },
   "outputs": [],
   "source": [
    "task42Automata.getPaths()"
   ]
  },
  {
   "cell_type": "markdown",
   "id": "9e89f5a2",
   "metadata": {
    "pycharm": {
     "name": "#%% md\n"
    }
   },
   "source": [
    "## Task 5 - Tests"
   ]
  },
  {
   "cell_type": "code",
   "execution_count": null,
   "id": "4a5f36fb",
   "metadata": {
    "pycharm": {
     "name": "#%%\n"
    }
   },
   "outputs": [],
   "source": []
  },
  {
   "cell_type": "code",
   "execution_count": null,
   "id": "d316d440",
   "metadata": {
    "pycharm": {
     "name": "#%%\n"
    }
   },
   "outputs": [],
   "source": []
  },
  {
   "cell_type": "code",
   "execution_count": null,
   "id": "1b6c617c",
   "metadata": {
    "pycharm": {
     "name": "#%%\n"
    }
   },
   "outputs": [],
   "source": []
  },
  {
   "cell_type": "code",
   "execution_count": null,
   "id": "d70644bd",
   "metadata": {
    "pycharm": {
     "name": "#%%\n"
    }
   },
   "outputs": [],
   "source": []
  },
  {
   "cell_type": "code",
   "execution_count": null,
   "outputs": [],
   "source": [],
   "metadata": {
    "collapsed": false,
    "pycharm": {
     "name": "#%%\n"
    }
   }
  },
  {
   "cell_type": "code",
   "execution_count": null,
   "id": "c4a03ea4",
   "metadata": {},
   "outputs": [],
   "source": []
  }
 ],
 "metadata": {
  "kernelspec": {
   "display_name": "Python 3 (ipykernel)",
   "language": "python",
   "name": "python3"
  },
  "language_info": {
   "codemirror_mode": {
    "name": "ipython",
    "version": 3
   },
   "file_extension": ".py",
   "mimetype": "text/x-python",
   "name": "python",
   "nbconvert_exporter": "python",
   "pygments_lexer": "ipython3",
   "version": "3.9.7"
  }
 },
 "nbformat": 4,
 "nbformat_minor": 5
}