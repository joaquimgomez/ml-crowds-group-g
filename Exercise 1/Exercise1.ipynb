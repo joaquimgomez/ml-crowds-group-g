{
 "cells": [
  {
   "cell_type": "markdown",
   "id": "2e328133-32ef-4a62-8a91-19769827d8c1",
   "metadata": {
    "pycharm": {
     "name": "#%% md\n"
    }
   },
   "source": [
    "# Exercise 1"
   ]
  },
  {
   "cell_type": "code",
   "execution_count": 2,
   "id": "e9a46adc-7675-47b9-8256-e51e8055523e",
   "metadata": {
    "pycharm": {
     "name": "#%%\n"
    }
   },
   "outputs": [],
   "source": [
    "from Automata import Automata\n",
    "from utils import visualize\n",
    "import math\n",
    "\n",
    "%load_ext autoreload\n",
    "%autoreload 2"
   ]
  },
  {
   "cell_type": "markdown",
   "id": "695340c3-d823-4111-be7e-95ecd6781994",
   "metadata": {
    "jp-MarkdownHeadingCollapsed": true,
    "pycharm": {
     "name": "#%% md\n"
    },
    "tags": []
   },
   "source": [
    "## Task 1 - Setting up the modeling environment (DONE)"
   ]
  },
  {
   "cell_type": "markdown",
   "id": "9ae39e4f-df96-4055-a9df-587579049004",
   "metadata": {
    "pycharm": {
     "name": "#%% md\n"
    }
   },
   "source": [
    "Scenario to show that our implementation allows for different pedestrians and obstacles editing an easy JSON file (using as input for the automata the file path) or writing in a notebook a dictionary as follow: "
   ]
  },
  {
   "cell_type": "code",
   "execution_count": null,
   "id": "53f5bd9a",
   "metadata": {
    "pycharm": {
     "name": "#%%\n"
    }
   },
   "outputs": [],
   "source": [
    "configTask1 = {\n",
    "    \"name\": \"Task1Scenario\",\n",
    "    \"dimensions\": {\n",
    "        \"width\": 5,\n",
    "        \"height\": 5\n",
    "    },\n",
    "    \"pedestrians\": [\n",
    "        [1, 0, 2]\n",
    "    ],\n",
    "    \"targets\": [\n",
    "        [[1], 4, 2]\n",
    "    ],\n",
    "    \"obstacles\": [\n",
    "        [2, 2], [2, 1], [2, 3]\n",
    "    ]\n",
    "}\n",
    "\n"
   ]
  },
  {
   "cell_type": "code",
   "execution_count": null,
   "id": "c91e381a",
   "metadata": {
    "pycharm": {
     "name": "#%%\n"
    }
   },
   "outputs": [],
   "source": [
    "task1Automata = Automata(configTask1)"
   ]
  },
  {
   "cell_type": "markdown",
   "id": "943cbeba",
   "metadata": {
    "pycharm": {
     "name": "#%% md\n"
    }
   },
   "source": [
    "Let's take a look at the initial state:"
   ]
  },
  {
   "cell_type": "code",
   "execution_count": null,
   "id": "0261775d",
   "metadata": {
    "pycharm": {
     "name": "#%%\n"
    }
   },
   "outputs": [],
   "source": [
    "visualize(task1Automata.getState())"
   ]
  },
  {
   "cell_type": "markdown",
   "id": "a0e2cc02",
   "metadata": {
    "pycharm": {
     "name": "#%% md\n"
    }
   },
   "source": [
    "Let's simulate for 10 time steps and let's take a look at the final state with the followed path:"
   ]
  },
  {
   "cell_type": "code",
   "execution_count": null,
   "id": "8b460103",
   "metadata": {
    "pycharm": {
     "name": "#%%\n"
    }
   },
   "outputs": [],
   "source": [
    "task1Automata.simulate(task1Automata.basicOperator, 10)"
   ]
  },
  {
   "cell_type": "code",
   "execution_count": null,
   "id": "19f06c47",
   "metadata": {
    "pycharm": {
     "name": "#%%\n"
    }
   },
   "outputs": [],
   "source": [
    "visualize(task1Automata.getStateWithPaths())"
   ]
  },
  {
   "cell_type": "markdown",
   "id": "e3e19b8d",
   "metadata": {
    "pycharm": {
     "name": "#%% md\n"
    }
   },
   "source": [
    "## Task 2 - First step of a single pedestrian (DONE)"
   ]
  },
  {
   "cell_type": "markdown",
   "id": "977779c9",
   "metadata": {
    "pycharm": {
     "name": "#%% md\n"
    }
   },
   "source": [
    "Scenario:\n",
    "- 50 by 50 cells (2500 in total)\n",
    "- Single pedestrian at position (5, 25)\n",
    "- Target at (25, 25)"
   ]
  },
  {
   "cell_type": "code",
   "execution_count": null,
   "id": "d9c7b2e8",
   "metadata": {
    "pycharm": {
     "name": "#%%\n"
    }
   },
   "outputs": [],
   "source": [
    "configTask2 = {\n",
    "    \"name\": \"Task2Scenario\",\n",
    "    \"dimensions\": {\n",
    "        \"width\": 49,\n",
    "        \"height\": 49\n",
    "    },\n",
    "    \"pedestrians\": [\n",
    "        [1, 4, 24]\n",
    "    ],\n",
    "    \"targets\": [\n",
    "        [[1], 24, 24]\n",
    "    ],\n",
    "    \"obstacles\": []\n",
    "}"
   ]
  },
  {
   "cell_type": "code",
   "execution_count": null,
   "id": "947fd831",
   "metadata": {
    "pycharm": {
     "name": "#%%\n"
    }
   },
   "outputs": [],
   "source": [
    "task2Automata = Automata(configTask2)"
   ]
  },
  {
   "cell_type": "markdown",
   "id": "289e3ed5",
   "metadata": {
    "pycharm": {
     "name": "#%% md\n"
    }
   },
   "source": [
    "Let's take a look at the initial state:"
   ]
  },
  {
   "cell_type": "code",
   "execution_count": null,
   "id": "30acde83",
   "metadata": {
    "pycharm": {
     "name": "#%%\n"
    }
   },
   "outputs": [],
   "source": [
    "visualize(task2Automata.getState())"
   ]
  },
  {
   "cell_type": "markdown",
   "id": "fb3c8cdb",
   "metadata": {
    "pycharm": {
     "name": "#%% md\n"
    }
   },
   "source": [
    "Let's simulate for 25 time steps and let's take a look at the final state with the followed path:"
   ]
  },
  {
   "cell_type": "code",
   "execution_count": null,
   "id": "02cfa0e7",
   "metadata": {
    "pycharm": {
     "name": "#%%\n"
    }
   },
   "outputs": [],
   "source": [
    "task2Automata.simulate(task2Automata.basicOperator, 25)"
   ]
  },
  {
   "cell_type": "code",
   "execution_count": null,
   "id": "767e3db3",
   "metadata": {
    "pycharm": {
     "name": "#%%\n"
    }
   },
   "outputs": [],
   "source": [
    "visualize(task2Automata.getStateWithPaths())"
   ]
  },
  {
   "cell_type": "markdown",
   "id": "39a38b5f",
   "metadata": {
    "pycharm": {
     "name": "#%% md\n"
    }
   },
   "source": [
    "## Task 3 - Interaction of pedestrians"
   ]
  },
  {
   "cell_type": "markdown",
   "id": "13ed2bcd",
   "metadata": {
    "pycharm": {
     "name": "#%% md\n"
    }
   },
   "source": [
    "Scenario:\n",
    "- 50 by 50 cells (2500 in total)\n",
    "- 5 equidistant pedestrians on the same circle \n",
    "- 1 single target for all of them\n",
    "- 25 Steps"
   ]
  },
  {
   "cell_type": "code",
   "execution_count": null,
   "id": "7520095e",
   "metadata": {
    "pycharm": {
     "name": "#%%\n"
    }
   },
   "outputs": [],
   "source": [
    "# First we need to find 5 equidistant points on our circle with r = 20 and center (25,25)\n",
    "\n",
    "points = []\n",
    "no_points = 5\n",
    "for i in range(no_points):\n",
    "    x = int(25.0 + 20 * math.cos(2 * math.pi * i / no_points))\n",
    "    y = int(25.0 + 20 * math.sin(2 * math.pi * i / no_points))\n",
    "    points.append((x,y))\n",
    "# We have now our final points\n",
    "print(points)"
   ]
  },
  {
   "cell_type": "code",
   "execution_count": null,
   "id": "1f0dfc4f",
   "metadata": {
    "pycharm": {
     "name": "#%%\n"
    }
   },
   "outputs": [],
   "source": [
    "configTask3 = {\n",
    "    \"name\": \"Task3Scenario\",\n",
    "    \"dimensions\": {\n",
    "        \"width\": 49,\n",
    "        \"height\": 49\n",
    "     },\n",
    "    \"pedestrians\": [\n",
    "        [1, 45, 25], [2, 31, 44], [3, 8, 36], [4, 8, 13], [5, 31, 5]\n",
    "     ],\n",
    "     \"targets\": [\n",
    "        [[1,2,3,4,5], 24, 24]\n",
    "     ],\n",
    "     \"obstacles\": []\n",
    "}"
   ]
  },
  {
   "cell_type": "code",
   "execution_count": null,
   "id": "86a8c725",
   "metadata": {
    "pycharm": {
     "name": "#%%\n"
    }
   },
   "outputs": [],
   "source": [
    "task3Automata = Automata(configTask3)"
   ]
  },
  {
   "cell_type": "markdown",
   "id": "45502c5d",
   "metadata": {
    "pycharm": {
     "name": "#%% md\n"
    }
   },
   "source": [
    "Let's take a look at the initial state:"
   ]
  },
  {
   "cell_type": "code",
   "execution_count": null,
   "id": "3bef72d8",
   "metadata": {
    "pycharm": {
     "name": "#%%\n"
    }
   },
   "outputs": [],
   "source": [
    "visualize(task3Automata.getState())"
   ]
  },
  {
   "cell_type": "markdown",
   "id": "8aacd22d",
   "metadata": {
    "pycharm": {
     "name": "#%% md\n"
    }
   },
   "source": [
    "Let's simulate for 25 time steps and let's take a look at the final state with the followed paths:"
   ]
  },
  {
   "cell_type": "code",
   "execution_count": null,
   "id": "c3d4b6e6",
   "metadata": {
    "pycharm": {
     "name": "#%%\n"
    }
   },
   "outputs": [],
   "source": [
    "task3Automata.simulate(task3Automata.basicOperator, 25)"
   ]
  },
  {
   "cell_type": "code",
   "execution_count": null,
   "id": "9daa5595",
   "metadata": {
    "pycharm": {
     "name": "#%%\n"
    }
   },
   "outputs": [],
   "source": [
    "visualize(task3Automata.getStateWithPaths())"
   ]
  },
  {
   "cell_type": "code",
   "execution_count": null,
   "id": "ddc8f31f",
   "metadata": {
    "pycharm": {
     "name": "#%%\n"
    }
   },
   "outputs": [],
   "source": [
    "Let's take a look at the steps:"
   ]
  },
  {
   "cell_type": "code",
   "execution_count": null,
   "id": "96a433a3",
   "metadata": {
    "pycharm": {
     "name": "#%%\n"
    }
   },
   "outputs": [],
   "source": [
    "paths = task3Automata.getPaths()\n",
    "for path in paths:\n",
    "    print(len(paths[path]))"
   ]
  },
  {
   "cell_type": "markdown",
   "id": "387f18c9",
   "metadata": {
    "pycharm": {
     "name": "#%% md\n"
    }
   },
   "source": [
    "## Task 4 - Obstacle avoidance"
   ]
  },
  {
   "cell_type": "markdown",
   "id": "926756b3",
   "metadata": {
    "pycharm": {
     "name": "#%% md\n"
    }
   },
   "source": [
    "### Scenario 4.1 - What happens in the scenario shown in figure (10) of [8] (bottleneck), if obstacle avoidance is not implemented?"
   ]
  },
  {
   "cell_type": "code",
   "execution_count": null,
   "outputs": [],
   "source": [
    "from Automata import Automata\n",
    "from utils import visualize\n",
    "import math\n",
    "\n",
    "%load_ext autoreload\n",
    "%autoreload 2\n",
    "\n",
    "\n",
    "import sys\n",
    "import numpy as np\n",
    "np.set_printoptions(threshold=sys.maxsize)\n",
    "\n",
    "# pedestrians = []\n",
    "# id = 0\n",
    "# for i in range (1, 10):\n",
    "#     for j in range(2, 19):\n",
    "#         pedestrians.append([id, i, j])\n",
    "#         id = id + 1\n",
    "#         if id == 150:\n",
    "#             break\n",
    "pedestrians = []\n",
    "id = 1\n",
    "for i in range (1, 10):\n",
    "    for j in range(2, 19):\n",
    "        pedestrians.append([id, i, j])\n",
    "        id = id + 1\n",
    "        if id == 5:\n",
    "            break\n",
    "    if id == 5:\n",
    "        break\n",
    "            \n",
    "configTask41 = {\n",
    "    \"name\": \"Task1Scenario\",\n",
    "    \"dimensions\": {\n",
    "        \"width\": 71,\n",
    "        \"height\": 22\n",
    "    },\n",
    "    \"pedestrians\": pedestrians,\n",
    "    \"targets\": [\n",
    "        [[i for i in range(1, 6)], 65, 10],\n",
    "    ],\n",
    "    \"obstacles\": [[20, i] for i in range(0, 22) if not i == 10 and not i == 11] + \\\n",
    "    [[i, 9] for i in range(21, 30)] + \\\n",
    "    [[i, 12] for i in range(21, 30)] + \\\n",
    "    [[30, i] for i in range(0, 22) if not i == 10 and not i == 11] + \\\n",
    "    [[51, i] for i in range(0, 22) if not i == 10 and not i == 11]\n",
    "    \n",
    "}\n",
    "#print(configTask41)\n",
    "task41Automata = Automata(configTask41)\n",
    "visualize(task41Automata.getState())"
   ],
   "metadata": {
    "collapsed": false,
    "pycharm": {
     "name": "#%%\n"
    }
   }
  },
  {
   "cell_type": "code",
   "execution_count": null,
   "outputs": [],
   "source": [
    "#task41Automata.simulate(task41Automata.operatorWithCostFunction, 10, avoidObstacles = False)\n",
    "np.around(task41Automata.dijkstra((65, 10), avoidObstacles = True, avoidPedestrians = True), decimals=2)"
   ],
   "metadata": {
    "collapsed": false,
    "pycharm": {
     "name": "#%%\n"
    }
   }
  },
  {
   "cell_type": "code",
   "execution_count": null,
   "outputs": [],
   "source": [
    "task41Automata = Automata(configTask41)\n",
    "task41Automata.simulate(task41Automata.operatorWithCostFunction, 60, avoidObstacles = True, avoidPedestrians = True)"
   ],
   "metadata": {
    "collapsed": false,
    "pycharm": {
     "name": "#%%\n"
    }
   }
  },
  {
   "cell_type": "code",
   "execution_count": null,
   "outputs": [],
   "source": [
    "\n",
    "\n",
    "visualize(task41Automata.getStateWithPaths())\n",
    "#task41Automata.getPaths()"
   ],
   "metadata": {
    "collapsed": false,
    "pycharm": {
     "name": "#%%\n"
    }
   }
  },
  {
   "cell_type": "markdown",
   "id": "147b5e8a",
   "metadata": {
    "pycharm": {
     "name": "#%% md\n"
    }
   },
   "source": [
    "### Scenario 4.2 - What happens for the \"chicken test\" scenario, figure 5?"
   ]
  },
  {
   "cell_type": "markdown",
   "id": "27fbd636",
   "metadata": {
    "pycharm": {
     "name": "#%% md\n"
    }
   },
   "source": [
    "Without obstacle avoidance and for 10 steps:"
   ]
  },
  {
   "cell_type": "code",
   "execution_count": 11,
   "id": "b78e98c7",
   "metadata": {
    "pycharm": {
     "name": "#%%\n"
    },
    "scrolled": false
   },
   "outputs": [
    {
     "name": "stdout",
     "output_type": "stream",
     "text": [
      "The autoreload extension is already loaded. To reload it, use:\n",
      "  %reload_ext autoreload\n"
     ]
    },
    {
     "data": {
      "image/png": "[encoded data removed]",
      "text/plain": [
       "<Figure size 864x864 with 1 Axes>"
      ]
     },
     "metadata": {
      "needs_background": "light"
     },
     "output_type": "display_data"
    }
   ],
   "source": [
    "from Automata import Automata\n",
    "from utils import visualize\n",
    "import math\n",
    "\n",
    "%load_ext autoreload\n",
    "%autoreload 2\n",
    "\n",
    "\n",
    "configTask42 = {\n",
    "    \"name\": \"Task1Scenario\",\n",
    "    \"dimensions\": {\n",
    "        \"width\": 9,\n",
    "        \"height\": 9\n",
    "    },\n",
    "    \"pedestrians\": [\n",
    "        [1, 0, 4]\n",
    "    ],\n",
    "    \"targets\": [\n",
    "        [[1], 8, 4]\n",
    "    ],\n",
    "    \"obstacles\": [\n",
    "        [3, 1], [4, 1], [5, 1], [5, 3], [5, 4], [5, 5], [5, 7], [4, 7], [3, 7], [5, 2], [5, 6]\n",
    "    ]\n",
    "}\n",
    "task42Automata = Automata(configTask42)\n",
    "task42Automata.simulate(task42Automata.operatorWithCostFunction, 10, avoidObstacles = False)\n",
    "visualize(task42Automata.getStateWithPaths())"
   ]
  },
  {
   "cell_type": "code",
   "execution_count": 2,
   "id": "85ce56ed",
   "metadata": {
    "pycharm": {
     "name": "#%%\n"
    }
   },
   "outputs": [
    {
     "data": {
      "text/plain": [
       "array([[9.66, 8.66, 7.66, 6.66, 5.66, 5.24, 4.83, 4.41, 4.  ],\n",
       "       [9.24, 8.24, 7.24, 6.24, 5.24, 4.24, 3.83, 3.41, 3.  ],\n",
       "       [8.83, 7.83, 6.83, 5.83, 4.83, 3.83, 2.83, 2.41, 2.  ],\n",
       "       [8.41, 7.41, 6.41, 5.41, 4.41, 3.41, 2.41, 1.41, 1.  ],\n",
       "       [8.  , 7.  , 6.  , 5.  , 4.  , 3.  , 2.  , 1.  , 0.  ],\n",
       "       [8.41, 7.41, 6.41, 5.41, 4.41, 3.41, 2.41, 1.41, 1.  ],\n",
       "       [8.83, 7.83, 6.83, 5.83, 4.83, 3.83, 2.83, 2.41, 2.  ],\n",
       "       [9.24, 8.24, 7.24, 6.24, 5.24, 4.24, 3.83, 3.41, 3.  ],\n",
       "       [9.66, 8.66, 7.66, 6.66, 5.66, 5.24, 4.83, 4.41, 4.  ]])"
      ]
     },
     "execution_count": 2,
     "metadata": {},
     "output_type": "execute_result"
    }
   ],
   "source": [
    "import numpy as np\n",
    "np.around(task42Automata.dijkstra((8, 4), avoidObstacles = False, avoidPedestrians = False), decimals=2)"
   ]
  },
  {
   "cell_type": "code",
   "execution_count": 3,
   "id": "fb350fc2",
   "metadata": {
    "pycharm": {
     "name": "#%%\n"
    }
   },
   "outputs": [
    {
     "data": {
      "text/plain": [
       "{1: [(0, 4),\n",
       "  (1, 4),\n",
       "  (2, 4),\n",
       "  (3, 4),\n",
       "  (4, 4),\n",
       "  (4, 3),\n",
       "  (4, 2),\n",
       "  (3, 3),\n",
       "  (3, 2),\n",
       "  (2, 3),\n",
       "  (2, 2)]}"
      ]
     },
     "execution_count": 3,
     "metadata": {},
     "output_type": "execute_result"
    }
   ],
   "source": [
    "task42Automata.getPaths()"
   ]
  },
  {
   "cell_type": "code",
   "execution_count": null,
   "id": "6caa5b64",
   "metadata": {
    "pycharm": {
     "name": "#%%\n"
    }
   },
   "outputs": [],
   "source": []
  },
  {
   "cell_type": "markdown",
   "id": "342c36b7",
   "metadata": {
    "pycharm": {
     "name": "#%% md\n"
    }
   },
   "source": [
    "Without obstacle avoidance and for 20 steps:"
   ]
  },
  {
   "cell_type": "code",
   "execution_count": null,
   "id": "a8c91444",
   "metadata": {
    "pycharm": {
     "name": "#%%\n"
    }
   },
   "outputs": [],
   "source": [
    "task42Automata = Automata(configTask42)\n",
    "task42Automata.simulate(task42Automata.operatorWithCostFunction, 20, avoidObstacles = True)\n",
    "visualize(task42Automata.getStateWithPaths())"
   ]
  },
  {
   "cell_type": "markdown",
   "id": "e469ff19",
   "metadata": {
    "pycharm": {
     "name": "#%% md\n"
    }
   },
   "source": [
    "With obstacle avoidance and for 10 steps:"
   ]
  },
  {
   "cell_type": "code",
   "execution_count": null,
   "id": "0d6d9031",
   "metadata": {
    "pycharm": {
     "name": "#%%\n"
    }
   },
   "outputs": [],
   "source": [
    "task42Automata = Automata(configTask42)\n",
    "task42Automata.simulate(task42Automata.operatorWithCostFunction, 10, avoidObstacles = True)\n",
    "visualize(task42Automata.getStateWithPaths())"
   ]
  },
  {
   "cell_type": "markdown",
   "id": "333605ab",
   "metadata": {},
   "source": [
    "With obstacle avoidance and for 10 steps:"
   ]
  },
  {
   "cell_type": "code",
   "execution_count": 64,
   "id": "7e2d7184",
   "metadata": {},
   "outputs": [
    {
     "name": "stdout",
     "output_type": "stream",
     "text": [
      "Simulation finished after 10 steps. All pedestrians achieved their targets.\n"
     ]
    },
    {
     "data": {
      "image/png": "[encoded data removed]",
      "text/plain": [
       "<Figure size 864x864 with 1 Axes>"
      ]
     },
     "metadata": {
      "needs_background": "light"
     },
     "output_type": "display_data"
    }
   ],
   "source": [
    "task42Automata = Automata(configTask42)\n",
    "task42Automata.simulate(task42Automata.operatorWithCostFunction, 10, avoidObstacles = True)\n",
    "visualize(task42Automata.getStateWithPaths())"
   ]
  },
  {
   "cell_type": "markdown",
   "id": "9e89f5a2",
   "metadata": {
    "pycharm": {
     "name": "#%% md\n"
    }
   },
   "source": [
    "## Task 5 - Tests"
   ]
  },
  {
   "cell_type": "code",
   "execution_count": null,
   "id": "4a5f36fb",
   "metadata": {
    "pycharm": {
     "name": "#%%\n"
    }
   },
   "outputs": [],
   "source": []
  },
  {
   "cell_type": "code",
   "execution_count": null,
   "id": "d316d440",
   "metadata": {
    "pycharm": {
     "name": "#%%\n"
    }
   },
   "outputs": [],
   "source": []
  },
  {
   "cell_type": "code",
   "execution_count": null,
   "id": "1b6c617c",
   "metadata": {
    "pycharm": {
     "name": "#%%\n"
    }
   },
   "outputs": [],
   "source": []
  },
  {
   "cell_type": "code",
   "execution_count": null,
   "id": "d70644bd",
   "metadata": {
    "pycharm": {
     "name": "#%%\n"
    }
   },
   "outputs": [],
   "source": []
  },
  {
   "cell_type": "code",
   "execution_count": null,
   "id": "c4a03ea4",
   "metadata": {},
   "outputs": [],
   "source": []
  }
 ],
 "metadata": {
  "kernelspec": {
   "display_name": "Python 3 (ipykernel)",
   "language": "python",
   "name": "python3"
  },
  "language_info": {
   "codemirror_mode": {
    "name": "ipython",
    "version": 3
   },
   "file_extension": ".py",
   "mimetype": "text/x-python",
   "name": "python",
   "nbconvert_exporter": "python",
   "pygments_lexer": "ipython3",
   "version": "3.9.7"
  }
 },
 "nbformat": 4,
 "nbformat_minor": 5
}