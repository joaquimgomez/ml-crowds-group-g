{
 "cells": [
  {
   "cell_type": "markdown",
   "id": "f9721990",
   "metadata": {},
   "source": [
    "# Experiments"
   ]
  },
  {
   "cell_type": "code",
   "execution_count": 2,
   "id": "02006e8e",
   "metadata": {},
   "outputs": [
    {
     "name": "stderr",
     "output_type": "stream",
     "text": [
      "/Users/joaquimgomez/opt/anaconda3/envs/crowd/lib/python3.9/site-packages/tqdm/auto.py:22: TqdmWarning: IProgress not found. Please update jupyter and ipywidgets. See https://ipywidgets.readthedocs.io/en/stable/user_install.html\n",
      "  from .autonotebook import tqdm as notebook_tqdm\n"
     ]
    }
   ],
   "source": [
    "from training import *\n",
    "\n",
    "import pandas as pd\n",
    "\n",
    "%load_ext autoreload\n",
    "%autoreload 2"
   ]
  },
  {
   "cell_type": "markdown",
   "id": "e0af1240",
   "metadata": {},
   "source": [
    "## Best combination of sets (Training/Testing)"
   ]
  },
  {
   "cell_type": "code",
   "execution_count": 3,
   "id": "fd415153",
   "metadata": {},
   "outputs": [],
   "source": [
    "R_dataset = pd.read_csv('./data/Corridor_Data/Preprocessed/ug-180-060-normalized.csv')\n",
    "R_dataset = R_dataset.drop('Unnamed: 0', axis=1)\n",
    "B_dataset = pd.read_csv('./data/Bottleneck_Data/Preprocessed/uo-180-070-normalized.csv')\n",
    "B_dataset = B_dataset.drop('Unnamed: 0', axis=1)"
   ]
  },
  {
   "cell_type": "code",
   "execution_count": 4,
   "id": "efb09a04",
   "metadata": {},
   "outputs": [],
   "source": [
    "bootstrapping_iterations = 5\n",
    "bootstrapping_num_samples = 9000\n",
    "splits = 5\n",
    "batch_size = 32\n",
    "max_epochs = 32\n",
    "\n",
    "args = {\n",
    "    \"k\": 10,\n",
    "    \"lr\": 1e-3\n",
    "}"
   ]
  },
  {
   "cell_type": "markdown",
   "id": "c0fa4dba",
   "metadata": {},
   "source": [
    "### R/R"
   ]
  },
  {
   "cell_type": "code",
   "execution_count": null,
   "id": "e800c3bd",
   "metadata": {},
   "outputs": [
    {
     "name": "stdout",
     "output_type": "stream",
     "text": [
      "BOOTSTRAPP ITERATION 0\n",
      "CV ITERATION 0\n"
     ]
    },
    {
     "name": "stderr",
     "output_type": "stream",
     "text": [
      "GPU available: False, used: False\n",
      "TPU available: False, using: 0 TPU cores\n",
      "IPU available: False, using: 0 IPUs\n",
      "HPU available: False, using: 0 HPUs\n",
      "\n",
      "  | Name | Type       | Params\n",
      "------------------------------------\n",
      "0 | net  | Sequential | 82    \n",
      "------------------------------------\n",
      "82        Trainable params\n",
      "0         Non-trainable params\n",
      "82        Total params\n",
      "0.000     Total estimated model params size (MB)\n"
     ]
    },
    {
     "name": "stdout",
     "output_type": "stream",
     "text": [
      "Sanity Checking: 0it [00:00, ?it/s]"
     ]
    },
    {
     "name": "stderr",
     "output_type": "stream",
     "text": [
      "/Users/joaquimgomez/opt/anaconda3/envs/crowd/lib/python3.9/site-packages/pytorch_lightning/trainer/connectors/data_connector.py:495: PossibleUserWarning: Your `val_dataloader`'s sampler has shuffling enabled, it is strongly recommended that you turn shuffling off for val/test/predict dataloaders.\n",
      "  rank_zero_warn(\n",
      "/Users/joaquimgomez/opt/anaconda3/envs/crowd/lib/python3.9/site-packages/pytorch_lightning/trainer/connectors/data_connector.py:240: PossibleUserWarning: The dataloader, val_dataloader 0, does not have many workers which may be a bottleneck. Consider increasing the value of the `num_workers` argument` (try 4 which is the number of cpus on this machine) in the `DataLoader` init to improve performance.\n",
      "  rank_zero_warn(\n"
     ]
    },
    {
     "name": "stdout",
     "output_type": "stream",
     "text": [
      "                                                                           "
     ]
    },
    {
     "name": "stderr",
     "output_type": "stream",
     "text": [
      "/Users/joaquimgomez/opt/anaconda3/envs/crowd/lib/python3.9/site-packages/pytorch_lightning/trainer/connectors/data_connector.py:240: PossibleUserWarning: The dataloader, train_dataloader, does not have many workers which may be a bottleneck. Consider increasing the value of the `num_workers` argument` (try 4 which is the number of cpus on this machine) in the `DataLoader` init to improve performance.\n",
      "  rank_zero_warn(\n"
     ]
    },
    {
     "name": "stdout",
     "output_type": "stream",
     "text": [
      "Epoch 0:  74%|███████▍  | 105/142 [00:43<00:15,  2.39it/s, loss=0.193, v_num=1]\n",
      "Epoch 0:  74%|███████▍  | 105/142 [01:00<00:21,  1.73it/s, loss=0.193, v_num=1]\n",
      "Validation:   0%|          | 0/29 [00:00<?, ?it/s]\u001b[A\n",
      "Epoch 0:  85%|████████▍ | 120/142 [01:04<00:11,  1.86it/s, loss=0.193, v_num=1]\n",
      "Validation DataLoader 0:  52%|█████▏    | 15/29 [00:00<00:00, 19.13it/s]\u001b[A\n",
      "Epoch 0:  95%|█████████▌| 135/142 [01:04<00:03,  2.08it/s, loss=0.193, v_num=1]\n",
      "Validation DataLoader 0: 100%|██████████| 29/29 [00:01<00:00, 24.74it/s]\u001b[A\n",
      "Epoch 0: 100%|██████████| 142/142 [01:05<00:00,  2.18it/s, loss=0.189, v_num=1]\n",
      "Epoch 1:  74%|███████▍  | 105/142 [00:24<00:08,  4.35it/s, loss=0.124, v_num=1]\n",
      "Epoch 1:  74%|███████▍  | 105/142 [00:35<00:12,  2.97it/s, loss=0.124, v_num=1]\n",
      "Validation:   0%|          | 0/29 [00:00<?, ?it/s]\u001b[A\n",
      "Epoch 1:  85%|████████▍ | 120/142 [00:40<00:07,  3.00it/s, loss=0.124, v_num=1]\n",
      "Validation DataLoader 0:  52%|█████▏    | 15/29 [00:00<00:00, 28.89it/s]\u001b[A\n",
      "Epoch 1:  95%|█████████▌| 135/142 [00:40<00:02,  3.34it/s, loss=0.124, v_num=1]\n",
      "Validation DataLoader 0: 100%|██████████| 29/29 [00:00<00:00, 35.16it/s]\u001b[A\n",
      "Epoch 1: 100%|██████████| 142/142 [00:40<00:00,  3.50it/s, loss=0.119, v_num=1]\n",
      "Epoch 2:  74%|███████▍  | 105/142 [00:22<00:07,  4.63it/s, loss=0.0742, v_num=1]\n",
      "Epoch 2:  74%|███████▍  | 105/142 [00:34<00:12,  3.03it/s, loss=0.0742, v_num=1]\n",
      "Validation:   0%|          | 0/29 [00:00<?, ?it/s]\u001b[A\n",
      "Epoch 2:  85%|████████▍ | 120/142 [00:46<00:08,  2.58it/s, loss=0.0742, v_num=1]\n",
      "Validation DataLoader 0:  52%|█████▏    | 15/29 [00:00<00:00, 20.46it/s]\u001b[A\n",
      "Epoch 2:  95%|█████████▌| 135/142 [00:47<00:02,  2.87it/s, loss=0.0742, v_num=1]\n",
      "Validation DataLoader 0: 100%|██████████| 29/29 [00:01<00:00, 24.79it/s]\u001b[A\n",
      "Epoch 2: 100%|██████████| 142/142 [00:47<00:00,  2.99it/s, loss=0.071, v_num=1] \n",
      "Epoch 3:  74%|███████▍  | 105/142 [00:36<00:12,  2.90it/s, loss=0.0459, v_num=1]\n",
      "Epoch 3:  74%|███████▍  | 105/142 [00:47<00:16,  2.23it/s, loss=0.0459, v_num=1]\n",
      "Validation:   0%|          | 0/29 [00:00<?, ?it/s]\u001b[A\n",
      "Epoch 3:  85%|████████▍ | 120/142 [00:49<00:09,  2.40it/s, loss=0.0459, v_num=1]\n",
      "Validation DataLoader 0:  52%|█████▏    | 15/29 [00:00<00:00, 40.13it/s]\u001b[A\n",
      "Epoch 3:  95%|█████████▌| 135/142 [00:50<00:02,  2.69it/s, loss=0.0459, v_num=1]\n",
      "Validation DataLoader 0: 100%|██████████| 29/29 [00:00<00:00, 46.41it/s]\u001b[A\n",
      "Epoch 3: 100%|██████████| 142/142 [00:50<00:00,  2.82it/s, loss=0.0431, v_num=1]\n",
      "Epoch 4:  74%|███████▍  | 105/142 [00:12<00:04,  8.39it/s, loss=0.0295, v_num=1]\n",
      "Validation: 0it [00:00, ?it/s]\u001b[A\n",
      "Validation:   0%|          | 0/29 [00:00<?, ?it/s]\u001b[A\n",
      "Epoch 4:  85%|████████▍ | 120/142 [00:23<00:04,  5.07it/s, loss=0.0295, v_num=1]\n",
      "Validation DataLoader 0:  52%|█████▏    | 15/29 [00:00<00:00, 40.37it/s]\u001b[A\n",
      "Epoch 4:  95%|█████████▌| 135/142 [00:24<00:01,  5.62it/s, loss=0.0295, v_num=1]\n",
      "Validation DataLoader 0: 100%|██████████| 29/29 [00:00<00:00, 40.78it/s]\u001b[A\n",
      "Epoch 4: 100%|██████████| 142/142 [00:24<00:00,  5.84it/s, loss=0.0278, v_num=1]\n",
      "Epoch 5:  74%|███████▍  | 105/142 [00:12<00:04,  8.24it/s, loss=0.0175, v_num=1]\n",
      "Validation: 0it [00:00, ?it/s]\u001b[A\n",
      "Validation:   0%|          | 0/29 [00:00<?, ?it/s]\u001b[A\n",
      "Epoch 5:  85%|████████▍ | 120/142 [00:23<00:04,  5.19it/s, loss=0.0175, v_num=1]\n",
      "Validation DataLoader 0:  52%|█████▏    | 15/29 [00:00<00:00, 33.86it/s]\u001b[A\n",
      "Epoch 5:  95%|█████████▌| 135/142 [00:23<00:01,  5.76it/s, loss=0.0175, v_num=1]\n",
      "Validation DataLoader 0: 100%|██████████| 29/29 [00:00<00:00, 41.39it/s]\u001b[A\n",
      "Epoch 5: 100%|██████████| 142/142 [00:23<00:00,  6.01it/s, loss=0.0189, v_num=1]\n",
      "Epoch 6:  74%|███████▍  | 105/142 [00:12<00:04,  8.41it/s, loss=0.0141, v_num=1]\n",
      "Validation: 0it [00:00, ?it/s]\u001b[A\n",
      "Validation:   0%|          | 0/29 [00:00<?, ?it/s]\u001b[A\n",
      "Epoch 6:  85%|████████▍ | 120/142 [00:22<00:04,  5.29it/s, loss=0.0141, v_num=1]\n",
      "Validation DataLoader 0:  52%|█████▏    | 15/29 [00:00<00:00, 39.54it/s]\u001b[A\n",
      "Epoch 6:  95%|█████████▌| 135/142 [00:22<00:01,  5.88it/s, loss=0.0141, v_num=1]\n",
      "Validation DataLoader 0: 100%|██████████| 29/29 [00:00<00:00, 46.22it/s]\u001b[A\n",
      "Epoch 6: 100%|██████████| 142/142 [00:23<00:00,  6.14it/s, loss=0.0135, v_num=1]\n",
      "Epoch 7:  74%|███████▍  | 105/142 [00:11<00:04,  8.93it/s, loss=0.0136, v_num=1]\n",
      "Validation: 0it [00:00, ?it/s]\u001b[A\n",
      "Validation:   0%|          | 0/29 [00:00<?, ?it/s]\u001b[A\n",
      "Epoch 7:  85%|████████▍ | 120/142 [00:23<00:04,  5.21it/s, loss=0.0136, v_num=1]\n",
      "Validation DataLoader 0:  52%|█████▏    | 15/29 [00:00<00:00, 34.66it/s]\u001b[A\n",
      "Epoch 7:  95%|█████████▌| 135/142 [00:23<00:01,  5.77it/s, loss=0.0136, v_num=1]\n",
      "Validation DataLoader 0: 100%|██████████| 29/29 [00:00<00:00, 40.65it/s]\u001b[A\n",
      "Epoch 7: 100%|██████████| 142/142 [00:23<00:00,  6.02it/s, loss=0.0126, v_num=1]\n",
      "Epoch 8:  74%|███████▍  | 105/142 [00:12<00:04,  8.61it/s, loss=0.0126, v_num=1]\n",
      "Validation: 0it [00:00, ?it/s]\u001b[A\n",
      "Validation:   0%|          | 0/29 [00:00<?, ?it/s]\u001b[A\n",
      "Epoch 8:  85%|████████▍ | 120/142 [00:23<00:04,  5.09it/s, loss=0.0126, v_num=1]\n",
      "Validation DataLoader 0:  52%|█████▏    | 15/29 [00:00<00:00, 34.20it/s]\u001b[A\n",
      "Epoch 8:  95%|█████████▌| 135/142 [00:23<00:01,  5.65it/s, loss=0.0126, v_num=1]\n",
      "Validation DataLoader 0: 100%|██████████| 29/29 [00:00<00:00, 40.51it/s]\u001b[A\n",
      "Epoch 8: 100%|██████████| 142/142 [00:24<00:00,  5.88it/s, loss=0.0137, v_num=1]\n",
      "Epoch 9:  74%|███████▍  | 105/142 [00:34<00:12,  3.07it/s, loss=0.0122, v_num=1]\n",
      "Epoch 9:  74%|███████▍  | 105/142 [00:47<00:16,  2.23it/s, loss=0.0122, v_num=1]\n",
      "Validation:   0%|          | 0/29 [00:00<?, ?it/s]\u001b[A\n",
      "Epoch 9:  85%|████████▍ | 120/142 [00:59<00:10,  2.03it/s, loss=0.0122, v_num=1]\n",
      "Validation DataLoader 0:  52%|█████▏    | 15/29 [00:00<00:00, 35.93it/s]\u001b[A\n",
      "Epoch 9:  95%|█████████▌| 135/142 [01:00<00:03,  2.24it/s, loss=0.0122, v_num=1]\n",
      "Validation DataLoader 0: 100%|██████████| 29/29 [00:01<00:00, 18.54it/s]\u001b[A\n",
      "Epoch 9: 100%|██████████| 142/142 [01:00<00:00,  2.34it/s, loss=0.0122, v_num=1]\n",
      "Epoch 10:  74%|███████▍  | 105/142 [00:26<00:09,  3.91it/s, loss=0.0145, v_num=1]\n",
      "Validation: 0it [00:00, ?it/s]\u001b[A\n",
      "Validation:   0%|          | 0/29 [00:00<?, ?it/s]\u001b[A\n",
      "Epoch 10:  85%|████████▍ | 120/142 [00:38<00:07,  3.12it/s, loss=0.0145, v_num=1]\n",
      "Validation DataLoader 0:  52%|█████▏    | 15/29 [00:00<00:00, 52.01it/s]\u001b[A\n",
      "Epoch 10:  95%|█████████▌| 135/142 [00:38<00:02,  3.48it/s, loss=0.0145, v_num=1]\n",
      "Validation DataLoader 0: 100%|██████████| 29/29 [00:00<00:00, 59.76it/s]\u001b[A\n",
      "Epoch 10: 100%|██████████| 142/142 [00:38<00:00,  3.65it/s, loss=0.0122, v_num=1]\n",
      "Epoch 11:  74%|███████▍  | 105/142 [00:15<00:05,  6.92it/s, loss=0.0114, v_num=1]\n",
      "Validation: 0it [00:00, ?it/s]\u001b[A\n",
      "Validation:   0%|          | 0/29 [00:00<?, ?it/s]\u001b[A\n",
      "Epoch 11:  85%|████████▍ | 120/142 [00:27<00:05,  4.36it/s, loss=0.0114, v_num=1]\n",
      "Validation DataLoader 0:  52%|█████▏    | 15/29 [00:00<00:00, 42.00it/s]\u001b[A\n",
      "Epoch 11:  95%|█████████▌| 135/142 [00:27<00:01,  4.84it/s, loss=0.0114, v_num=1]\n",
      "Validation DataLoader 0: 100%|██████████| 29/29 [00:00<00:00, 41.29it/s]\u001b[A\n",
      "Epoch 11: 100%|██████████| 142/142 [00:28<00:00,  5.06it/s, loss=0.0126, v_num=1]\n",
      "Epoch 12:  74%|███████▍  | 105/142 [00:21<00:07,  4.92it/s, loss=0.0122, v_num=1]\n",
      "Validation: 0it [00:00, ?it/s]\u001b[A\n",
      "Validation:   0%|          | 0/29 [00:00<?, ?it/s]\u001b[A\n",
      "Epoch 12:  85%|████████▍ | 120/142 [00:34<00:06,  3.45it/s, loss=0.0122, v_num=1]\n",
      "Validation DataLoader 0:  52%|█████▏    | 15/29 [00:00<00:00, 57.03it/s]\u001b[A\n",
      "Epoch 12:  95%|█████████▌| 135/142 [00:35<00:01,  3.85it/s, loss=0.0122, v_num=1]\n",
      "Validation DataLoader 0: 100%|██████████| 29/29 [00:00<00:00, 49.40it/s]\u001b[A\n",
      "Epoch 12: 100%|██████████| 142/142 [00:35<00:00,  4.02it/s, loss=0.0126, v_num=1]\n",
      "Epoch 13:  74%|███████▍  | 105/142 [00:14<00:05,  7.21it/s, loss=0.0164, v_num=1]\n",
      "Validation: 0it [00:00, ?it/s]\u001b[A\n",
      "Validation:   0%|          | 0/29 [00:00<?, ?it/s]\u001b[A\n",
      "Epoch 13:  85%|████████▍ | 120/142 [00:24<00:04,  4.91it/s, loss=0.0164, v_num=1]\n",
      "Validation DataLoader 0:  52%|█████▏    | 15/29 [00:00<00:00, 55.87it/s]\u001b[A\n",
      "Epoch 13:  95%|█████████▌| 135/142 [00:24<00:01,  5.47it/s, loss=0.0164, v_num=1]\n",
      "Validation DataLoader 0: 100%|██████████| 29/29 [00:00<00:00, 58.85it/s]\u001b[A\n",
      "Epoch 13: 100%|██████████| 142/142 [00:24<00:00,  5.71it/s, loss=0.0148, v_num=1]\n",
      "Epoch 14:  74%|███████▍  | 105/142 [00:15<00:05,  7.00it/s, loss=0.0131, v_num=1]\n",
      "Validation: 0it [00:00, ?it/s]\u001b[A\n",
      "Validation:   0%|          | 0/29 [00:00<?, ?it/s]\u001b[A\n",
      "Epoch 14:  85%|████████▍ | 120/142 [00:26<00:04,  4.56it/s, loss=0.0131, v_num=1]\n",
      "Validation DataLoader 0:  52%|█████▏    | 15/29 [00:00<00:00, 56.75it/s]\u001b[A\n",
      "Epoch 14:  95%|█████████▌| 135/142 [00:26<00:01,  5.09it/s, loss=0.0131, v_num=1]\n",
      "Validation DataLoader 0: 100%|██████████| 29/29 [00:00<00:00, 60.52it/s]\u001b[A\n",
      "Epoch 14: 100%|██████████| 142/142 [00:26<00:00,  5.32it/s, loss=0.0135, v_num=1]\n",
      "Epoch 15:  74%|███████▍  | 105/142 [00:14<00:04,  7.43it/s, loss=0.0146, v_num=1]\n",
      "Validation: 0it [00:00, ?it/s]\u001b[A\n",
      "Validation:   0%|          | 0/29 [00:00<?, ?it/s]\u001b[A\n",
      "Epoch 15:  85%|████████▍ | 120/142 [00:25<00:04,  4.71it/s, loss=0.0146, v_num=1]\n",
      "Validation DataLoader 0:  52%|█████▏    | 15/29 [00:00<00:00, 40.65it/s]\u001b[A\n",
      "Epoch 15:  95%|█████████▌| 135/142 [00:25<00:01,  5.24it/s, loss=0.0146, v_num=1]\n",
      "Validation DataLoader 0: 100%|██████████| 29/29 [00:00<00:00, 44.59it/s]\u001b[A\n",
      "Epoch 15: 100%|██████████| 142/142 [00:25<00:00,  5.46it/s, loss=0.013, v_num=1] \n",
      "Epoch 16:  74%|███████▍  | 105/142 [00:13<00:04,  7.50it/s, loss=0.012, v_num=1] \n",
      "Epoch 16:  74%|███████▍  | 105/142 [00:25<00:09,  4.04it/s, loss=0.012, v_num=1]\n",
      "Validation:   0%|          | 0/29 [00:00<?, ?it/s]\u001b[A\n",
      "Epoch 16:  85%|████████▍ | 120/142 [00:26<00:04,  4.54it/s, loss=0.012, v_num=1]\n",
      "Validation DataLoader 0:  52%|█████▏    | 15/29 [00:00<00:00, 63.30it/s]\u001b[A\n",
      "Epoch 16:  95%|█████████▌| 135/142 [00:26<00:01,  5.06it/s, loss=0.012, v_num=1]\n",
      "Validation DataLoader 0: 100%|██████████| 29/29 [00:00<00:00, 71.62it/s]\u001b[A\n",
      "Epoch 16: 100%|██████████| 142/142 [00:26<00:00,  5.30it/s, loss=0.0132, v_num=1]\n",
      "Epoch 17:  74%|███████▍  | 105/142 [00:13<00:04,  7.52it/s, loss=0.0119, v_num=1]\n",
      "Validation: 0it [00:00, ?it/s]\u001b[A\n",
      "Validation:   0%|          | 0/29 [00:00<?, ?it/s]\u001b[A\n",
      "Epoch 17:  85%|████████▍ | 120/142 [00:28<00:05,  4.21it/s, loss=0.0119, v_num=1]\n",
      "Validation DataLoader 0:  52%|█████▏    | 15/29 [00:00<00:00, 24.45it/s]\u001b[A\n",
      "Epoch 17:  95%|█████████▌| 135/142 [00:29<00:01,  4.58it/s, loss=0.0119, v_num=1]\n",
      "Validation DataLoader 0: 100%|██████████| 29/29 [00:01<00:00, 15.88it/s]\u001b[A\n",
      "Epoch 17: 100%|██████████| 142/142 [00:30<00:00,  4.71it/s, loss=0.0124, v_num=1]\n",
      "Epoch 18:  74%|███████▍  | 105/142 [00:27<00:09,  3.77it/s, loss=0.011, v_num=1] \n",
      "Epoch 18:  74%|███████▍  | 105/142 [00:38<00:13,  2.70it/s, loss=0.011, v_num=1]\n",
      "Validation:   0%|          | 0/29 [00:00<?, ?it/s]\u001b[A\n",
      "Epoch 18:  85%|████████▍ | 120/142 [00:48<00:08,  2.49it/s, loss=0.011, v_num=1]\n",
      "Validation DataLoader 0:  52%|█████▏    | 15/29 [00:00<00:00, 47.97it/s]\u001b[A\n",
      "Epoch 18:  95%|█████████▌| 135/142 [00:48<00:02,  2.79it/s, loss=0.011, v_num=1]\n",
      "Validation DataLoader 0: 100%|██████████| 29/29 [00:00<00:00, 61.66it/s]\u001b[A\n",
      "Epoch 18: 100%|██████████| 142/142 [00:48<00:00,  2.92it/s, loss=0.0122, v_num=1]\n",
      "Epoch 19:  74%|███████▍  | 105/142 [00:15<00:05,  6.75it/s, loss=0.0142, v_num=1]\n",
      "Epoch 19:  74%|███████▍  | 105/142 [00:30<00:10,  3.48it/s, loss=0.0142, v_num=1]\n",
      "Validation:   0%|          | 0/29 [00:00<?, ?it/s]\u001b[A\n",
      "Epoch 19:  85%|████████▍ | 120/142 [00:30<00:05,  3.89it/s, loss=0.0142, v_num=1]\n",
      "Validation DataLoader 0:  52%|█████▏    | 15/29 [00:00<00:00, 55.71it/s]\u001b[A\n",
      "Epoch 19:  95%|█████████▌| 135/142 [00:31<00:01,  4.34it/s, loss=0.0142, v_num=1]\n",
      "Validation DataLoader 0: 100%|██████████| 29/29 [00:00<00:00, 53.63it/s]\u001b[A\n",
      "Epoch 19: 100%|██████████| 142/142 [00:31<00:00,  4.54it/s, loss=0.015, v_num=1] \n",
      "Epoch 20:  74%|███████▍  | 105/142 [00:20<00:07,  5.19it/s, loss=0.0126, v_num=1]\n",
      "Validation: 0it [00:00, ?it/s]\u001b[A\n",
      "Validation:   0%|          | 0/29 [00:00<?, ?it/s]\u001b[A\n",
      "Epoch 20:  85%|████████▍ | 120/142 [00:30<00:05,  3.94it/s, loss=0.0126, v_num=1]\n",
      "Validation DataLoader 0:  52%|█████▏    | 15/29 [00:00<00:00, 57.92it/s]\u001b[A\n",
      "Epoch 20:  95%|█████████▌| 135/142 [00:30<00:01,  4.40it/s, loss=0.0126, v_num=1]\n",
      "Validation DataLoader 0: 100%|██████████| 29/29 [00:00<00:00, 62.18it/s]\u001b[A\n",
      "Epoch 20: 100%|██████████| 142/142 [00:30<00:00,  4.61it/s, loss=0.0139, v_num=1]\n",
      "Epoch 21:  74%|███████▍  | 105/142 [00:14<00:05,  7.29it/s, loss=0.0116, v_num=1]\n",
      "Validation: 0it [00:00, ?it/s]\u001b[A\n",
      "Validation:   0%|          | 0/29 [00:00<?, ?it/s]\u001b[A\n",
      "Epoch 21:  85%|████████▍ | 120/142 [00:24<00:04,  4.86it/s, loss=0.0116, v_num=1]\n",
      "Validation DataLoader 0:  52%|█████▏    | 15/29 [00:00<00:00, 66.82it/s]\u001b[A\n",
      "Epoch 21:  95%|█████████▌| 135/142 [00:24<00:01,  5.41it/s, loss=0.0116, v_num=1]\n",
      "Validation DataLoader 0: 100%|██████████| 29/29 [00:00<00:00, 53.36it/s]\u001b[A\n",
      "Epoch 21: 100%|██████████| 142/142 [00:25<00:00,  5.65it/s, loss=0.0117, v_num=1]\n",
      "Epoch 21: 100%|██████████| 142/142 [00:25<00:00,  5.63it/s, loss=0.0117, v_num=1]\n"
     ]
    },
    {
     "name": "stderr",
     "output_type": "stream",
     "text": [
      "/Users/joaquimgomez/opt/anaconda3/envs/crowd/lib/python3.9/site-packages/pytorch_lightning/trainer/connectors/data_connector.py:240: PossibleUserWarning: The dataloader, predict_dataloader 0, does not have many workers which may be a bottleneck. Consider increasing the value of the `num_workers` argument` (try 4 which is the number of cpus on this machine) in the `DataLoader` init to improve performance.\n",
      "  rank_zero_warn(\n"
     ]
    },
    {
     "name": "stdout",
     "output_type": "stream",
     "text": [
      "Predicting DataLoader 0:  41%|████      | 1845/4500 [00:28<00:44, 60.06it/s]   "
     ]
    }
   ],
   "source": [
    "bootstrap_cv(dataset = R_dataset,\n",
    "             bootstrapping_iterations = bootstrapping_iterations,\n",
    "             bootstrapping_num_samples = bootstrapping_num_samples,\n",
    "             model_args = args,\n",
    "             folds = splits,\n",
    "             batch_size = batch_size,\n",
    "             max_epochs = max_epochs)"
   ]
  },
  {
   "cell_type": "markdown",
   "id": "94744092",
   "metadata": {},
   "source": [
    "### B/B"
   ]
  },
  {
   "cell_type": "code",
   "execution_count": null,
   "id": "3a1942b9",
   "metadata": {},
   "outputs": [],
   "source": [
    "bootstrap_cv(dataset = R_dataset,\n",
    "             bootstrapping_iterations = bootstrapping_iterations,\n",
    "             bootstrapping_num_samples = bootstrapping_num_samples,\n",
    "             model_args = args,\n",
    "             folds = splits,\n",
    "             batch_size = batch_size,\n",
    "             max_epochs = max_epochs)"
   ]
  },
  {
   "cell_type": "markdown",
   "id": "933cb3ca",
   "metadata": {},
   "source": [
    "### R/B"
   ]
  },
  {
   "cell_type": "markdown",
   "id": "af986278",
   "metadata": {},
   "source": [
    "### B/R"
   ]
  },
  {
   "cell_type": "markdown",
   "id": "9f86e2e6",
   "metadata": {},
   "source": [
    "### R+B/R"
   ]
  },
  {
   "cell_type": "code",
   "execution_count": null,
   "id": "44881d02",
   "metadata": {},
   "outputs": [],
   "source": [
    "# half R + half B / R"
   ]
  },
  {
   "cell_type": "markdown",
   "id": "1d1b4d13",
   "metadata": {},
   "source": [
    "### R+B/B"
   ]
  },
  {
   "cell_type": "markdown",
   "id": "8b9ccf36",
   "metadata": {},
   "source": [
    "### R+B/R+B"
   ]
  },
  {
   "cell_type": "code",
   "execution_count": null,
   "id": "c4f1d18b",
   "metadata": {},
   "outputs": [],
   "source": []
  }
 ],
 "metadata": {
  "kernelspec": {
   "display_name": "Python 3",
   "language": "python",
   "name": "python3"
  },
  "language_info": {
   "codemirror_mode": {
    "name": "ipython",
    "version": 3
   },
   "file_extension": ".py",
   "mimetype": "text/x-python",
   "name": "python",
   "nbconvert_exporter": "python",
   "pygments_lexer": "ipython3",
   "version": "3.9.12"
  }
 },
 "nbformat": 4,
 "nbformat_minor": 5
}
