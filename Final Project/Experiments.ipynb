{
 "cells": [
  {
   "cell_type": "markdown",
   "id": "f9721990",
   "metadata": {},
   "source": [
    "# Experiments"
   ]
  },
  {
   "cell_type": "code",
   "execution_count": 7,
   "id": "02006e8e",
   "metadata": {},
   "outputs": [
    {
     "name": "stdout",
     "output_type": "stream",
     "text": [
      "The autoreload extension is already loaded. To reload it, use:\n",
      "  %reload_ext autoreload\n"
     ]
    }
   ],
   "source": [
    "from training import *\n",
    "\n",
    "import pandas as pd\n",
    "\n",
    "%load_ext autoreload\n",
    "%autoreload 2"
   ]
  },
  {
   "cell_type": "markdown",
   "id": "e0af1240",
   "metadata": {},
   "source": [
    "## Best combination of sets (Training/Testing)"
   ]
  },
  {
   "cell_type": "code",
   "execution_count": 3,
   "id": "fd415153",
   "metadata": {},
   "outputs": [],
   "source": [
    "R_dataset = pd.read_csv('./data/Corridor_Data/Preprocessed/ug-180-060-normalized.csv')\n",
    "R_dataset = R_dataset.drop('Unnamed: 0', axis=1)\n",
    "B_dataset = pd.read_csv('./data/Bottleneck_Data/Preprocessed/uo-180-070-normalized.csv')\n",
    "B_dataset = B_dataset.drop('Unnamed: 0', axis=1)"
   ]
  },
  {
   "cell_type": "code",
   "execution_count": 9,
   "id": "efb09a04",
   "metadata": {},
   "outputs": [],
   "source": [
    "bootstrapping_iterations = 5\n",
    "bootstrapping_num_samples = 9000\n",
    "splits = 5\n",
    "batch_size = 32\n",
    "max_epochs = 50\n",
    "\n",
    "args = {\n",
    "    \"k\": 10,\n",
    "    \"lr\": 1e-3\n",
    "}"
   ]
  },
  {
   "cell_type": "markdown",
   "id": "c0fa4dba",
   "metadata": {},
   "source": [
    "### R/R"
   ]
  },
  {
   "cell_type": "code",
   "execution_count": 10,
   "id": "e800c3bd",
   "metadata": {},
   "outputs": [
    {
     "name": "stdout",
     "output_type": "stream",
     "text": [
      "BOOTSTRAPP ITERATION 0\n",
      "CV ITERATION 0\n"
     ]
    },
    {
     "name": "stderr",
     "output_type": "stream",
     "text": [
      "GPU available: False, used: False\n",
      "TPU available: False, using: 0 TPU cores\n",
      "IPU available: False, using: 0 IPUs\n",
      "HPU available: False, using: 0 HPUs\n",
      "\n",
      "  | Name | Type       | Params\n",
      "------------------------------------\n",
      "0 | net  | Sequential | 82    \n",
      "------------------------------------\n",
      "82        Trainable params\n",
      "0         Non-trainable params\n",
      "82        Total params\n",
      "0.000     Total estimated model params size (MB)\n"
     ]
    },
    {
     "name": "stdout",
     "output_type": "stream",
     "text": [
      "Epoch 0:  74%|███████▍  | 105/142 [00:37<00:13,  2.79it/s, loss=0.0429, v_num=3]\n",
      "Epoch 0:  74%|███████▍  | 105/142 [00:51<00:18,  2.05it/s, loss=0.0429, v_num=3]\n",
      "Validation:   0%|          | 0/29 [00:00<?, ?it/s]\u001b[A\n",
      "Epoch 0:  85%|████████▍ | 120/142 [01:25<00:15,  1.41it/s, loss=0.0429, v_num=3]\n",
      "Validation DataLoader 0:  52%|█████▏    | 15/29 [00:00<00:00, 17.04it/s]\u001b[A\n",
      "Epoch 0:  95%|█████████▌| 135/142 [01:25<00:04,  1.57it/s, loss=0.0429, v_num=3]\n",
      "Validation DataLoader 0: 100%|██████████| 29/29 [00:01<00:00, 17.38it/s]\u001b[A\n",
      "Epoch 0: 100%|██████████| 142/142 [01:26<00:00,  1.64it/s, loss=0.0422, v_num=3]\n",
      "Epoch 1:  74%|███████▍  | 105/142 [00:50<00:17,  2.09it/s, loss=0.0183, v_num=3]\n",
      "Epoch 1:  74%|███████▍  | 105/142 [01:04<00:22,  1.62it/s, loss=0.0183, v_num=3]\n",
      "Validation:   0%|          | 0/29 [00:00<?, ?it/s]\u001b[A\n",
      "Epoch 1:  85%|████████▍ | 120/142 [01:16<00:14,  1.56it/s, loss=0.0183, v_num=3]\n",
      "Validation DataLoader 0:  52%|█████▏    | 15/29 [00:01<00:00, 14.18it/s]\u001b[A\n",
      "Epoch 1:  95%|█████████▌| 135/142 [01:18<00:04,  1.73it/s, loss=0.0183, v_num=3]\n",
      "Validation DataLoader 0: 100%|██████████| 29/29 [00:02<00:00, 12.25it/s]\u001b[A\n",
      "Epoch 1: 100%|██████████| 142/142 [01:18<00:00,  1.80it/s, loss=0.0165, v_num=3]\n",
      "Epoch 2:  74%|███████▍  | 105/142 [01:21<00:28,  1.29it/s, loss=0.0141, v_num=3]\n",
      "Epoch 2:  74%|███████▍  | 105/142 [01:35<00:33,  1.10it/s, loss=0.0141, v_num=3]\n",
      "Validation:   0%|          | 0/29 [00:00<?, ?it/s]\u001b[A\n",
      "Epoch 2:  85%|████████▍ | 120/142 [02:45<00:30,  1.38s/it, loss=0.0141, v_num=3]\n",
      "Validation DataLoader 0:  52%|█████▏    | 15/29 [00:00<00:00, 19.86it/s]\u001b[A\n",
      "Epoch 2:  95%|█████████▌| 135/142 [02:46<00:08,  1.23s/it, loss=0.0141, v_num=3]\n",
      "Validation DataLoader 0: 100%|██████████| 29/29 [00:01<00:00, 22.39it/s]\u001b[A\n",
      "Epoch 2: 100%|██████████| 142/142 [02:46<00:00,  1.17s/it, loss=0.0156, v_num=3]\n",
      "Epoch 3:  74%|███████▍  | 105/142 [00:46<00:16,  2.25it/s, loss=0.012, v_num=3] \n",
      "Epoch 3:  74%|███████▍  | 105/142 [00:58<00:20,  1.80it/s, loss=0.012, v_num=3]\n",
      "Validation:   0%|          | 0/29 [00:00<?, ?it/s]\u001b[A\n",
      "Epoch 3:  85%|████████▍ | 120/142 [01:15<00:13,  1.59it/s, loss=0.012, v_num=3]\n",
      "Validation DataLoader 0:  52%|█████▏    | 15/29 [00:00<00:00, 19.75it/s]\u001b[A\n",
      "Epoch 3:  95%|█████████▌| 135/142 [01:16<00:03,  1.77it/s, loss=0.012, v_num=3]\n",
      "Validation DataLoader 0: 100%|██████████| 29/29 [00:01<00:00, 18.48it/s]\u001b[A\n",
      "Epoch 3: 100%|██████████| 142/142 [01:17<00:00,  1.84it/s, loss=0.0137, v_num=3]\n",
      "Epoch 4:  74%|███████▍  | 105/142 [00:33<00:11,  3.17it/s, loss=0.0118, v_num=3]\n",
      "Epoch 4:  74%|███████▍  | 105/142 [00:51<00:17,  2.06it/s, loss=0.0118, v_num=3]\n",
      "Validation:   0%|          | 0/29 [00:00<?, ?it/s]\u001b[A\n",
      "Epoch 4:  85%|████████▍ | 120/142 [01:01<00:11,  1.94it/s, loss=0.0118, v_num=3]\n",
      "Validation DataLoader 0:  52%|█████▏    | 15/29 [00:00<00:00, 20.15it/s]\u001b[A\n",
      "Epoch 4:  95%|█████████▌| 135/142 [01:02<00:03,  2.16it/s, loss=0.0118, v_num=3]\n",
      "Validation DataLoader 0: 100%|██████████| 29/29 [00:01<00:00, 24.72it/s]\u001b[A\n",
      "Epoch 4: 100%|██████████| 142/142 [01:03<00:00,  2.25it/s, loss=0.0127, v_num=3]\n",
      "Epoch 5:  74%|███████▍  | 105/142 [00:35<00:12,  2.98it/s, loss=0.011, v_num=3] \n",
      "Epoch 5:  74%|███████▍  | 105/142 [00:47<00:16,  2.20it/s, loss=0.011, v_num=3]\n",
      "Validation:   0%|          | 0/29 [00:00<?, ?it/s]\u001b[A\n",
      "Epoch 5:  85%|████████▍ | 120/142 [01:07<00:12,  1.77it/s, loss=0.011, v_num=3]\n",
      "Validation DataLoader 0:  52%|█████▏    | 15/29 [00:01<00:01,  8.54it/s]\u001b[A\n",
      "Epoch 5:  95%|█████████▌| 135/142 [01:08<00:03,  1.96it/s, loss=0.011, v_num=3]\n",
      "Validation DataLoader 0: 100%|██████████| 29/29 [00:02<00:00, 11.61it/s]\u001b[A\n",
      "Epoch 5: 100%|██████████| 142/142 [01:09<00:00,  2.05it/s, loss=0.0133, v_num=3]\n",
      "Epoch 6:  74%|███████▍  | 105/142 [01:40<00:35,  1.04it/s, loss=0.0146, v_num=3]\n",
      "Epoch 6:  74%|███████▍  | 105/142 [01:58<00:41,  1.12s/it, loss=0.0146, v_num=3]\n",
      "Validation:   0%|          | 0/29 [00:00<?, ?it/s]\u001b[A\n",
      "Epoch 6:  85%|████████▍ | 120/142 [02:29<00:27,  1.24s/it, loss=0.0146, v_num=3]\n",
      "Validation DataLoader 0:  52%|█████▏    | 15/29 [00:00<00:00, 15.55it/s]\u001b[A\n",
      "Epoch 6:  95%|█████████▌| 135/142 [02:30<00:07,  1.11s/it, loss=0.0146, v_num=3]\n",
      "Validation DataLoader 0: 100%|██████████| 29/29 [00:01<00:00, 15.82it/s]\u001b[A\n",
      "Epoch 6: 100%|██████████| 142/142 [02:30<00:00,  1.06s/it, loss=0.0141, v_num=3]\n",
      "Epoch 7:  74%|███████▍  | 105/142 [01:22<00:28,  1.28it/s, loss=0.0123, v_num=3]\n",
      "Epoch 7:  74%|███████▍  | 105/142 [01:37<00:34,  1.08it/s, loss=0.0123, v_num=3]\n",
      "Validation:   0%|          | 0/29 [00:00<?, ?it/s]\u001b[A\n",
      "Epoch 7:  85%|████████▍ | 120/142 [01:48<00:19,  1.11it/s, loss=0.0123, v_num=3]\n",
      "Validation DataLoader 0:  52%|█████▏    | 15/29 [00:00<00:00, 28.64it/s]\u001b[A\n",
      "Epoch 7:  95%|█████████▌| 135/142 [01:48<00:05,  1.24it/s, loss=0.0123, v_num=3]\n",
      "Validation DataLoader 0: 100%|██████████| 29/29 [00:01<00:00, 28.04it/s]\u001b[A\n",
      "Epoch 7: 100%|██████████| 142/142 [01:49<00:00,  1.30it/s, loss=0.0129, v_num=3]\n",
      "Epoch 8:  74%|███████▍  | 105/142 [00:29<00:10,  3.61it/s, loss=0.0112, v_num=3]\n",
      "Epoch 8:  74%|███████▍  | 105/142 [00:47<00:16,  2.19it/s, loss=0.0112, v_num=3]\n",
      "Validation:   0%|          | 0/29 [00:00<?, ?it/s]\u001b[A\n",
      "Epoch 8:  85%|████████▍ | 120/142 [00:53<00:09,  2.25it/s, loss=0.0112, v_num=3]\n",
      "Validation DataLoader 0:  52%|█████▏    | 15/29 [00:00<00:00, 43.25it/s]\u001b[A\n",
      "Epoch 8:  95%|█████████▌| 135/142 [00:53<00:02,  2.51it/s, loss=0.0112, v_num=3]\n",
      "Validation DataLoader 0: 100%|██████████| 29/29 [00:00<00:00, 34.77it/s]\u001b[A\n",
      "Epoch 8: 100%|██████████| 142/142 [00:54<00:00,  2.63it/s, loss=0.0115, v_num=3]\n",
      "Epoch 9:  74%|███████▍  | 105/142 [00:24<00:08,  4.28it/s, loss=0.0101, v_num=3]\n",
      "Epoch 9:  74%|███████▍  | 105/142 [00:43<00:15,  2.40it/s, loss=0.0101, v_num=3]\n",
      "Validation:   0%|          | 0/29 [00:00<?, ?it/s]\u001b[A\n",
      "Epoch 9:  85%|████████▍ | 120/142 [00:49<00:09,  2.43it/s, loss=0.0101, v_num=3]\n",
      "Validation DataLoader 0:  52%|█████▏    | 15/29 [00:00<00:00, 34.40it/s]\u001b[A\n",
      "Epoch 9:  95%|█████████▌| 135/142 [00:49<00:02,  2.70it/s, loss=0.0101, v_num=3]\n",
      "Validation DataLoader 0: 100%|██████████| 29/29 [00:00<00:00, 33.20it/s]\u001b[A\n",
      "Epoch 9: 100%|██████████| 142/142 [00:50<00:00,  2.82it/s, loss=0.0106, v_num=3]\n",
      "Epoch 10:  74%|███████▍  | 105/142 [00:23<00:08,  4.49it/s, loss=0.0104, v_num=3]\n",
      "Epoch 10:  74%|███████▍  | 105/142 [00:43<00:15,  2.43it/s, loss=0.0104, v_num=3]\n",
      "Validation:   0%|          | 0/29 [00:00<?, ?it/s]\u001b[A\n",
      "Epoch 10:  85%|████████▍ | 120/142 [00:48<00:08,  2.49it/s, loss=0.0104, v_num=3]\n",
      "Validation DataLoader 0:  52%|█████▏    | 15/29 [00:00<00:00, 30.76it/s]\u001b[A\n",
      "Epoch 10:  95%|█████████▌| 135/142 [00:48<00:02,  2.78it/s, loss=0.0104, v_num=3]\n",
      "Validation DataLoader 0: 100%|██████████| 29/29 [00:00<00:00, 31.65it/s]\u001b[A\n",
      "Epoch 10: 100%|██████████| 142/142 [00:48<00:00,  2.91it/s, loss=0.00991, v_num=3]\n",
      "Epoch 11:  74%|███████▍  | 105/142 [00:23<00:08,  4.38it/s, loss=0.0118, v_num=3] \n",
      "Epoch 11:  74%|███████▍  | 105/142 [00:34<00:12,  3.05it/s, loss=0.0118, v_num=3]\n",
      "Validation:   0%|          | 0/29 [00:00<?, ?it/s]\u001b[A\n",
      "Epoch 11:  85%|████████▍ | 120/142 [01:00<00:11,  1.99it/s, loss=0.0118, v_num=3]\n",
      "Validation DataLoader 0:  52%|█████▏    | 15/29 [00:00<00:00, 17.75it/s]\u001b[A\n",
      "Epoch 11:  95%|█████████▌| 135/142 [01:00<00:03,  2.21it/s, loss=0.0118, v_num=3]\n",
      "Validation DataLoader 0: 100%|██████████| 29/29 [00:01<00:00, 18.29it/s]\u001b[A\n",
      "Epoch 11: 100%|██████████| 142/142 [01:01<00:00,  2.31it/s, loss=0.0117, v_num=3]\n",
      "Predicting: 0it [00:00, ?it/s]42 [00:12<?, ?it/s, loss=0.0117, v_num=3]          "
     ]
    },
    {
     "name": "stderr",
     "output_type": "stream",
     "text": [
      "Exception ignored in: <function _MultiProcessingDataLoaderIter.__del__ at 0x7fbd995b4e50>\n",
      "Traceback (most recent call last):\n",
      "  File \"/Users/joaquimgomez/opt/anaconda3/envs/crowd/lib/python3.9/site-packages/torch/utils/data/dataloader.py\", line 1481, in __del__\n",
      "    self._shutdown_workers()\n",
      "  File \"/Users/joaquimgomez/opt/anaconda3/envs/crowd/lib/python3.9/site-packages/torch/utils/data/dataloader.py\", line 1445, in _shutdown_workers\n",
      "    w.join(timeout=_utils.MP_STATUS_CHECK_INTERVAL)\n",
      "  File \"/Users/joaquimgomez/opt/anaconda3/envs/crowd/lib/python3.9/multiprocessing/process.py\", line 149, in join\n",
      "    res = self._popen.wait(timeout)\n",
      "  File \"/Users/joaquimgomez/opt/anaconda3/envs/crowd/lib/python3.9/multiprocessing/popen_fork.py\", line 40, in wait\n",
      "    if not wait([self.sentinel], timeout):\n",
      "  File \"/Users/joaquimgomez/opt/anaconda3/envs/crowd/lib/python3.9/multiprocessing/connection.py\", line 936, in wait\n",
      "    ready = selector.select(timeout)\n",
      "  File \"/Users/joaquimgomez/opt/anaconda3/envs/crowd/lib/python3.9/selectors.py\", line 416, in select\n",
      "    fd_event_list = self._selector.poll(timeout)\n",
      "KeyboardInterrupt: \n"
     ]
    },
    {
     "ename": "TypeError",
     "evalue": "stack(): argument 'tensors' (position 1) must be tuple of Tensors, not NoneType",
     "output_type": "error",
     "traceback": [
      "\u001b[0;31m---------------------------------------------------------------------------\u001b[0m",
      "\u001b[0;31mTypeError\u001b[0m                                 Traceback (most recent call last)",
      "Input \u001b[0;32mIn [10]\u001b[0m, in \u001b[0;36m<cell line: 1>\u001b[0;34m()\u001b[0m\n\u001b[0;32m----> 1\u001b[0m \u001b[43mbootstrap_cv\u001b[49m\u001b[43m(\u001b[49m\u001b[43mdataset\u001b[49m\u001b[43m \u001b[49m\u001b[38;5;241;43m=\u001b[39;49m\u001b[43m \u001b[49m\u001b[43mR_dataset\u001b[49m\u001b[43m,\u001b[49m\n\u001b[1;32m      2\u001b[0m \u001b[43m             \u001b[49m\u001b[43mbootstrapping_iterations\u001b[49m\u001b[43m \u001b[49m\u001b[38;5;241;43m=\u001b[39;49m\u001b[43m \u001b[49m\u001b[43mbootstrapping_iterations\u001b[49m\u001b[43m,\u001b[49m\n\u001b[1;32m      3\u001b[0m \u001b[43m             \u001b[49m\u001b[43mbootstrapping_num_samples\u001b[49m\u001b[43m \u001b[49m\u001b[38;5;241;43m=\u001b[39;49m\u001b[43m \u001b[49m\u001b[43mbootstrapping_num_samples\u001b[49m\u001b[43m,\u001b[49m\n\u001b[1;32m      4\u001b[0m \u001b[43m             \u001b[49m\u001b[43mmodel_args\u001b[49m\u001b[43m \u001b[49m\u001b[38;5;241;43m=\u001b[39;49m\u001b[43m \u001b[49m\u001b[43margs\u001b[49m\u001b[43m,\u001b[49m\n\u001b[1;32m      5\u001b[0m \u001b[43m             \u001b[49m\u001b[43mfolds\u001b[49m\u001b[43m \u001b[49m\u001b[38;5;241;43m=\u001b[39;49m\u001b[43m \u001b[49m\u001b[43msplits\u001b[49m\u001b[43m,\u001b[49m\n\u001b[1;32m      6\u001b[0m \u001b[43m             \u001b[49m\u001b[43mbatch_size\u001b[49m\u001b[43m \u001b[49m\u001b[38;5;241;43m=\u001b[39;49m\u001b[43m \u001b[49m\u001b[43mbatch_size\u001b[49m\u001b[43m,\u001b[49m\n\u001b[1;32m      7\u001b[0m \u001b[43m             \u001b[49m\u001b[43mmax_epochs\u001b[49m\u001b[43m \u001b[49m\u001b[38;5;241;43m=\u001b[39;49m\u001b[43m \u001b[49m\u001b[43mmax_epochs\u001b[49m\u001b[43m)\u001b[49m\n",
      "File \u001b[0;32m~/Library/Mobile Documents/com~apple~CloudDocs/TUM/Data Engineering and Analytics/Semester 3/IN2106 - Master's Practical Course/ml-crowds-group-g/Final Project/training.py:87\u001b[0m, in \u001b[0;36mbootstrap_cv\u001b[0;34m(dataset, bootstrapping_iterations, bootstrapping_num_samples, model_args, folds, batch_size, max_epochs, diff_test_dataset)\u001b[0m\n\u001b[1;32m     84\u001b[0m   test \u001b[38;5;241m=\u001b[39m diff_test_dataset\n\u001b[1;32m     86\u001b[0m \u001b[38;5;66;03m# Cross-validation\u001b[39;00m\n\u001b[0;32m---> 87\u001b[0m train_losses, validation_losses, test_losses \u001b[38;5;241m=\u001b[39m \u001b[43mtrain_and_evaluate\u001b[49m\u001b[43m(\u001b[49m\u001b[43mmodel_args\u001b[49m\u001b[43m,\u001b[49m\u001b[43m \u001b[49m\u001b[43mfolds\u001b[49m\u001b[43m,\u001b[49m\u001b[43m \u001b[49m\u001b[43mbatch_size\u001b[49m\u001b[43m,\u001b[49m\u001b[43m \u001b[49m\u001b[43mmax_epochs\u001b[49m\u001b[43m,\u001b[49m\u001b[43m \u001b[49m\u001b[43mtrain\u001b[49m\u001b[43m,\u001b[49m\u001b[43m \u001b[49m\u001b[43mtest\u001b[49m\u001b[43m)\u001b[49m\n\u001b[1;32m     89\u001b[0m bootstrap_training_losses\u001b[38;5;241m.\u001b[39mappend(np\u001b[38;5;241m.\u001b[39mmean(train_losses))\n\u001b[1;32m     90\u001b[0m bootstrap_validation_losses\u001b[38;5;241m.\u001b[39mappend(np\u001b[38;5;241m.\u001b[39mmean(validation_losses))\n",
      "File \u001b[0;32m~/Library/Mobile Documents/com~apple~CloudDocs/TUM/Data Engineering and Analytics/Semester 3/IN2106 - Master's Practical Course/ml-crowds-group-g/Final Project/training.py:66\u001b[0m, in \u001b[0;36mtrain_and_evaluate\u001b[0;34m(model_args, kfolds, batch_size, max_epochs, train_validation_split, test_split)\u001b[0m\n\u001b[1;32m     64\u001b[0m   \u001b[38;5;66;03m# Compute and save test losses\u001b[39;00m\n\u001b[1;32m     65\u001b[0m   test_mse \u001b[38;5;241m=\u001b[39m trainer\u001b[38;5;241m.\u001b[39mpredict(model, test_loader)\n\u001b[0;32m---> 66\u001b[0m   cv_test_losses\u001b[38;5;241m.\u001b[39mappend(\u001b[38;5;28mfloat\u001b[39m(\u001b[43mtorch\u001b[49m\u001b[38;5;241;43m.\u001b[39;49m\u001b[43mstack\u001b[49m\u001b[43m(\u001b[49m\u001b[43mtest_mse\u001b[49m\u001b[43m)\u001b[49m\u001b[38;5;241m.\u001b[39mmean()))\n\u001b[1;32m     68\u001b[0m \u001b[38;5;28;01mreturn\u001b[39;00m cv_training_losses, cv_validation_losses, cv_test_losses\n",
      "\u001b[0;31mTypeError\u001b[0m: stack(): argument 'tensors' (position 1) must be tuple of Tensors, not NoneType"
     ]
    }
   ],
   "source": [
    "bootstrap_cv(dataset = R_dataset,\n",
    "             bootstrapping_iterations = bootstrapping_iterations,\n",
    "             bootstrapping_num_samples = bootstrapping_num_samples,\n",
    "             model_args = args,\n",
    "             folds = splits,\n",
    "             batch_size = batch_size,\n",
    "             max_epochs = max_epochs)"
   ]
  },
  {
   "cell_type": "markdown",
   "id": "94744092",
   "metadata": {},
   "source": [
    "### B/B"
   ]
  },
  {
   "cell_type": "code",
   "execution_count": null,
   "id": "3a1942b9",
   "metadata": {},
   "outputs": [],
   "source": [
    "bootstrap_cv(dataset = R_dataset,\n",
    "             bootstrapping_iterations = bootstrapping_iterations,\n",
    "             bootstrapping_num_samples = bootstrapping_num_samples,\n",
    "             model_args = args,\n",
    "             folds = splits,\n",
    "             batch_size = batch_size,\n",
    "             max_epochs = max_epochs)"
   ]
  },
  {
   "cell_type": "markdown",
   "id": "933cb3ca",
   "metadata": {},
   "source": [
    "### R/B"
   ]
  },
  {
   "cell_type": "code",
   "execution_count": null,
   "id": "9196f253-3477-4822-9c57-0c71504406ff",
   "metadata": {},
   "outputs": [],
   "source": [
    "bootstrap_cv(dataset = R_dataset,\n",
    "             bootstrapping_iterations = bootstrapping_iterations,\n",
    "             bootstrapping_num_samples = bootstrapping_num_samples,\n",
    "             model_args = args,\n",
    "             folds = splits,\n",
    "             batch_size = batch_size,\n",
    "             max_epochs = max_epochs,\n",
    "             diff_test_dataset = B_dataset)"
   ]
  },
  {
   "cell_type": "markdown",
   "id": "af986278",
   "metadata": {},
   "source": [
    "### B/R"
   ]
  },
  {
   "cell_type": "code",
   "execution_count": null,
   "id": "1d2902bf-eeba-4f87-ada1-d01b6295ca31",
   "metadata": {},
   "outputs": [],
   "source": [
    "bootstrap_cv(dataset = B_dataset,\n",
    "             bootstrapping_iterations = bootstrapping_iterations,\n",
    "             bootstrapping_num_samples = bootstrapping_num_samples,\n",
    "             model_args = args,\n",
    "             folds = splits,\n",
    "             batch_size = batch_size,\n",
    "             max_epochs = max_epochs,\n",
    "             diff_test_dataset = R_dataset)"
   ]
  },
  {
   "cell_type": "markdown",
   "id": "9f86e2e6",
   "metadata": {},
   "source": [
    "### R+B/R"
   ]
  },
  {
   "cell_type": "code",
   "execution_count": null,
   "id": "44881d02",
   "metadata": {},
   "outputs": [],
   "source": [
    "# half R + half B / R\n",
    "shuffled_R_dataset = R_dataset.sample(frac=1).reset_index(drop = True)\n",
    "shuffled_B_dataset = B_dataset.sample(frac=1).reset_index(drop = True)\n",
    "\n",
    "training_B = shuffled_B_dataset.iloc[:, :int(len(shuffled_B_dataset)/2)]\n",
    "training_R = shuffled_R_dataset.iloc[:, :int(len(shuffled_R_dataset)/2)]\n",
    "testing_R = shuffled_R_dataset.iloc[:, int(len(shuffled_R_dataset)/2):]\n",
    "\n",
    "training = pd.concat([training_B, training_R])\n",
    "test = testing_R\n",
    "\n",
    "bootstrap_cv(dataset = training,\n",
    "             bootstrapping_iterations = bootstrapping_iterations,\n",
    "             bootstrapping_num_samples = bootstrapping_num_samples,\n",
    "             model_args = args,\n",
    "             folds = splits,\n",
    "             batch_size = batch_size,\n",
    "             max_epochs = max_epochs,\n",
    "             diff_test_dataset = testing)"
   ]
  },
  {
   "cell_type": "markdown",
   "id": "1d1b4d13",
   "metadata": {},
   "source": [
    "### R+B/B"
   ]
  },
  {
   "cell_type": "code",
   "execution_count": null,
   "id": "aa22af3a-012e-4529-8b2f-1767008364fb",
   "metadata": {},
   "outputs": [],
   "source": [
    "# half R + half B / R\n",
    "shuffled_R_dataset = R_dataset.sample(frac=1).reset_index(drop = True)\n",
    "shuffled_B_dataset = B_dataset.sample(frac=1).reset_index(drop = True)\n",
    "\n",
    "training_R = shuffled_R_dataset.iloc[:, :int(len(shuffled_R_dataset)/2)]\n",
    "training_B = shuffled_B_dataset.iloc[:, :int(len(shuffled_B_dataset)/2)]\n",
    "testing_B = shuffled_B_dataset.iloc[:, int(len(shuffled_B_dataset)/2):]\n",
    "\n",
    "training = pd.concat([training_B, training_R])\n",
    "test = testing_B\n",
    "\n",
    "bootstrap_cv(dataset = training,\n",
    "             bootstrapping_iterations = bootstrapping_iterations,\n",
    "             bootstrapping_num_samples = bootstrapping_num_samples,\n",
    "             model_args = args,\n",
    "             folds = splits,\n",
    "             batch_size = batch_size,\n",
    "             max_epochs = max_epochs,\n",
    "             diff_test_dataset = testing)"
   ]
  },
  {
   "cell_type": "markdown",
   "id": "8b9ccf36",
   "metadata": {},
   "source": [
    "### R+B/R+B"
   ]
  },
  {
   "cell_type": "code",
   "execution_count": 11,
   "id": "c4f1d18b",
   "metadata": {},
   "outputs": [
    {
     "data": {
      "text/plain": [
       "74313"
      ]
     },
     "execution_count": 11,
     "metadata": {},
     "output_type": "execute_result"
    }
   ],
   "source": [
    "r_plus_b = pd.concat([R_dataset, B_dataset])\n",
    "\n",
    "bootstrap_cv(dataset = r_plus_b,\n",
    "             bootstrapping_iterations = bootstrapping_iterations,\n",
    "             bootstrapping_num_samples = bootstrapping_num_samples,\n",
    "             model_args = args,\n",
    "             folds = splits,\n",
    "             batch_size = batch_size,\n",
    "             max_epochs = max_epochs)"
   ]
  },
  {
   "cell_type": "code",
   "execution_count": null,
   "id": "128178f6-b8d7-4f16-9b3a-5855202a734b",
   "metadata": {},
   "outputs": [],
   "source": []
  }
 ],
 "metadata": {
  "kernelspec": {
   "display_name": "Python 3",
   "language": "python",
   "name": "python3"
  },
  "language_info": {
   "codemirror_mode": {
    "name": "ipython",
    "version": 3
   },
   "file_extension": ".py",
   "mimetype": "text/x-python",
   "name": "python",
   "nbconvert_exporter": "python",
   "pygments_lexer": "ipython3",
   "version": "3.9.12"
  }
 },
 "nbformat": 4,
 "nbformat_minor": 5
}
