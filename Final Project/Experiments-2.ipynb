{
 "cells": [
  {
   "cell_type": "markdown",
   "id": "ab10e20c",
   "metadata": {},
   "source": [
    "# Experiments (II)"
   ]
  },
  {
   "cell_type": "code",
   "execution_count": 2,
   "id": "aabdb2d6",
   "metadata": {},
   "outputs": [
    {
     "name": "stdout",
     "output_type": "stream",
     "text": [
      "The autoreload extension is already loaded. To reload it, use:\n",
      "  %reload_ext autoreload\n"
     ]
    }
   ],
   "source": [
    "from NeuralNetwork import *\n",
    "import pytorch_lightning as pl\n",
    "\n",
    "import pandas as pd\n",
    "\n",
    "%load_ext autoreload\n",
    "%autoreload 2"
   ]
  },
  {
   "cell_type": "markdown",
   "id": "fef7cb21",
   "metadata": {},
   "source": [
    "## Training the network"
   ]
  },
  {
   "cell_type": "code",
   "execution_count": null,
   "id": "e01c7df3",
   "metadata": {},
   "outputs": [],
   "source": [
    "R_dataset = pd.read_csv('./data/Corridor_Data/Preprocessed/ug-180-060.csv')\n",
    "B_dataset = pd.read_csv('./data/Bottleneck_Data/Preprocessed/uo-180-070.csv')\n",
    "\n",
    "R_dataset = R_dataset.sample(n = 5000)\n",
    "B_dataset = B_dataset.sample(n = 5000)\n",
    "\n",
    "dataset = pd.concat([R_dataset, B_dataset])"
   ]
  },
  {
   "cell_type": "code",
   "execution_count": null,
   "id": "dfbed022",
   "metadata": {},
   "outputs": [],
   "source": [
    "args = {\n",
    "    \"lr\": 1e-3,\n",
    "    \"k\": 10\n",
    "}\n",
    "\n",
    "_, _, _, model = simple_train(model_args = args,\n",
    "                              batch_size = 32,\n",
    "                              max_epochs = 50,\n",
    "                              dataset = dataset)"
   ]
  },
  {
   "cell_type": "markdown",
   "id": "99758550",
   "metadata": {},
   "source": [
    "## Testing"
   ]
  },
  {
   "cell_type": "code",
   "execution_count": null,
   "id": "c74d97cf",
   "metadata": {},
   "outputs": [],
   "source": [
    "predictor = pl.Trainer(gpus=1)"
   ]
  },
  {
   "cell_type": "markdown",
   "id": "897946a9",
   "metadata": {},
   "source": [
    "### Corridor"
   ]
  },
  {
   "cell_type": "markdown",
   "id": "c8dd0785",
   "metadata": {},
   "source": [
    "`ug-180-030`:"
   ]
  },
  {
   "cell_type": "code",
   "execution_count": null,
   "id": "0d7ef1f0",
   "metadata": {},
   "outputs": [],
   "source": [
    "R_30 = pd.read_csv('./data/Corridor_Data/Preprocessed/ug-180-030.csv')\n",
    "R_30 = R_30.sample(n = 5000)\n",
    "\n",
    "data30 = DataLoader(CrowdDataset(R_30), shuffle = True)"
   ]
  },
  {
   "cell_type": "code",
   "execution_count": null,
   "id": "f25539c7",
   "metadata": {},
   "outputs": [],
   "source": [
    "predictor.predict(model, dataloader = data30)"
   ]
  },
  {
   "cell_type": "markdown",
   "id": "7e69b27d",
   "metadata": {},
   "source": [
    "`ug-180-085`:"
   ]
  },
  {
   "cell_type": "code",
   "execution_count": null,
   "id": "69fa9258",
   "metadata": {},
   "outputs": [],
   "source": [
    "R_85 = pd.read_csv('./data/Corridor_Data/Preprocessed/ug-180-085.csv')\n",
    "R_85 = R_85.sample(n = 5000)\n",
    "\n",
    "data85 = DataLoader(CrowdDataset(R_85), shuffle = True)"
   ]
  },
  {
   "cell_type": "code",
   "execution_count": null,
   "id": "fc64517e",
   "metadata": {},
   "outputs": [],
   "source": [
    "predictor.predict(model, dataloader = data85)"
   ]
  },
  {
   "cell_type": "markdown",
   "id": "ee561345",
   "metadata": {},
   "source": [
    "### Bottleneck:"
   ]
  },
  {
   "cell_type": "markdown",
   "id": "cfc57221",
   "metadata": {},
   "source": [
    "`uo-180-095`:"
   ]
  },
  {
   "cell_type": "code",
   "execution_count": null,
   "id": "83c56929",
   "metadata": {},
   "outputs": [],
   "source": [
    "B_95 = pd.read_csv('./data/Bottleneck_Data/Preprocessed/uo-180-095.csv')\n",
    "B_95 = B_95.sample(n = 5000)\n",
    "\n",
    "data95 = DataLoader(CrowdDataset(B_95), shuffle = True)"
   ]
  },
  {
   "cell_type": "code",
   "execution_count": null,
   "id": "f2ebd432",
   "metadata": {},
   "outputs": [],
   "source": [
    "predictor.predict(model, dataloader = data95)"
   ]
  },
  {
   "cell_type": "markdown",
   "id": "a1e8efe3",
   "metadata": {},
   "source": [
    "`uo-180-120`:"
   ]
  },
  {
   "cell_type": "code",
   "execution_count": null,
   "id": "7db6a93e",
   "metadata": {},
   "outputs": [],
   "source": [
    "B_120 = pd.read_csv('./data/Bottleneck_Data/Preprocessed/uo-180-120.csv')\n",
    "B_120 = B_120.sample(n = 5000)\n",
    "\n",
    "data120 = DataLoader(CrowdDataset(B_120), shuffle = True)"
   ]
  },
  {
   "cell_type": "code",
   "execution_count": null,
   "id": "ceb3eb2b",
   "metadata": {},
   "outputs": [],
   "source": [
    "predictor.predict(model, dataloader = data120)"
   ]
  }
 ],
 "metadata": {
  "kernelspec": {
   "display_name": "Python 3",
   "language": "python",
   "name": "python3"
  },
  "language_info": {
   "codemirror_mode": {
    "name": "ipython",
    "version": 3
   },
   "file_extension": ".py",
   "mimetype": "text/x-python",
   "name": "python",
   "nbconvert_exporter": "python",
   "pygments_lexer": "ipython3",
   "version": "3.9.12"
  }
 },
 "nbformat": 4,
 "nbformat_minor": 5
}
